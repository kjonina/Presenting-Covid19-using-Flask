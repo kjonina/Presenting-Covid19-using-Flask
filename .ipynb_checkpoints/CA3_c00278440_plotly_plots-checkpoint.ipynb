{
 "cells": [
  {
   "cell_type": "markdown",
   "id": "8bbd74fc",
   "metadata": {},
   "source": [
    "# Assignment 3\n",
    "\n",
    "\n",
    "- Student Name: Karina Jonina\n",
    "- Student ID: c00278440\n",
    "\n",
    "- Module Name: Programming for Data Scientists\n",
    "- Module Code: PROGC5201\n",
    "- Module Leader: Paul Barry\n",
    "\n",
    "- Course Name: \t\tMaster of Science in Data Science\n",
    "- Course Code:\t\t CW_KCDAR_M Y5\n",
    "\n",
    "- Due Date: 10th January 2022 9:00am"
   ]
  },
  {
   "cell_type": "code",
   "execution_count": null,
   "id": "4960475b",
   "metadata": {},
   "outputs": [],
   "source": [
    "import pandas as pd\n",
    "import datetime\n",
    "from datetime import datetime\n",
    "import plotly.express as px\n",
    "from plotly.subplots import make_subplots\n",
    "import plotly.graph_objects as go"
   ]
  },
  {
   "cell_type": "code",
   "execution_count": null,
   "id": "7f7ec641",
   "metadata": {},
   "outputs": [],
   "source": [
    "# reading in the tidy data csv\n",
    "df = pd.read_csv('tidy_data_df.csv', parse_dates = ['Date'])"
   ]
  },
  {
   "cell_type": "markdown",
   "id": "c5f704aa",
   "metadata": {},
   "source": [
    "### Checking tidy_data_df dataframe"
   ]
  },
  {
   "cell_type": "code",
   "execution_count": null,
   "id": "ddf8ca2e",
   "metadata": {},
   "outputs": [],
   "source": [
    "df.head()"
   ]
  },
  {
   "cell_type": "code",
   "execution_count": null,
   "id": "cdc039be",
   "metadata": {},
   "outputs": [],
   "source": [
    "df.info()"
   ]
  },
  {
   "cell_type": "code",
   "execution_count": null,
   "id": "ca0a3831",
   "metadata": {},
   "outputs": [],
   "source": [
    "df.shape"
   ]
  },
  {
   "cell_type": "code",
   "execution_count": null,
   "id": "4bc03b2e",
   "metadata": {},
   "outputs": [],
   "source": [
    "df['Column'].unique()"
   ]
  },
  {
   "cell_type": "markdown",
   "id": "aa8289ed",
   "metadata": {},
   "source": [
    "### Plotly Graph 1"
   ]
  },
  {
   "cell_type": "code",
   "execution_count": null,
   "id": "69acd1c2",
   "metadata": {},
   "outputs": [],
   "source": [
    "aged_df = df[df['Column'].str.startswith(\"Aged\")]"
   ]
  },
  {
   "cell_type": "code",
   "execution_count": null,
   "id": "8efbbd93",
   "metadata": {},
   "outputs": [],
   "source": [
    "# NEEDS TO BE FIXED!!!!!\n",
    "aged_df = aged_df[~aged_df['Age_Range'].isna()]\n",
    "\n",
    "\n",
    "aged_df.head()"
   ]
  },
  {
   "cell_type": "code",
   "execution_count": null,
   "id": "bcd54b8c",
   "metadata": {},
   "outputs": [],
   "source": [
    "hospitalised_df = df[df['Column'].str.contains(\"Hospitalised Aged\")]"
   ]
  },
  {
   "cell_type": "code",
   "execution_count": null,
   "id": "2f591ea1",
   "metadata": {},
   "outputs": [],
   "source": [
    "# NEEDS TO BE FIXED!!!!!\n",
    "hospitalised_df = hospitalised_df[~hospitalised_df['Age_Range'].isna()]\n",
    "\n",
    "\n",
    "hospitalised_df.head()"
   ]
  },
  {
   "cell_type": "code",
   "execution_count": null,
   "id": "80352110",
   "metadata": {},
   "outputs": [],
   "source": [
    "\n",
    "fig = make_subplots(rows=4, cols=1, shared_xaxes=True, subplot_titles=[\n",
    "        'Total Covid Cases in Age Range',\n",
    "        'Total Hospitalisation in Age Range'])\n",
    "\n",
    "fig.add_trace(go.Scatter(\n",
    "                        x = hospitalised_df['Date'],\n",
    "                        y = hospitalised_df['Cases'],\n",
    "                        mode='lines',  \n",
    "#                         line_color = hospitalised_df['Age_Range'],\n",
    "#                         customdata = hospitalised_df['Age_Range'], name = 'Closing Price',\n",
    "#                         hovertemplate=\"<b>%{customdata}</b><br><br>\" +\n",
    "#                                         \"Date: %{x|%d %b %Y} <br>\" +\n",
    "#                                         \"Cases: %{y}<br>\"+\n",
    "#                                         \"<extra></extra>\"\n",
    "                    ), row = 1, col = 1)\n",
    "\n",
    "fig.add_trace(go.Scatter(\n",
    "                        x = aged_df['Date'],\n",
    "                        y = aged_df['Cases'],\n",
    "                        mode='lines', \n",
    "#                         line_color = aged_df['Age_Range'],\n",
    "#                         customdata = aged_df['Age_Range'], name = 'Closing Price',\n",
    "#                         hovertemplate=\"<b>%{customdata}</b><br><br>\" +\n",
    "#                                         \"Date: %{x|%d %b %Y} <br>\" +\n",
    "#                                         \"Cases: %{y}<br>\"+\n",
    "#                                         \"<extra></extra>\"\n",
    "                        ), row = 2, col = 1)\n",
    "\n",
    "# Add titles\n",
    "fig.update_layout(\n",
    "        title = 'Covid Cases and Hospitalisation of Age Range')\n",
    "fig['layout']['yaxis1']['title']='Cases'\n",
    "fig['layout']['yaxis2']['title']='Cases'\n",
    "\n",
    "# X-Axes\n",
    "fig.update_xaxes(\n",
    "    rangeslider_visible = True,\n",
    "    rangeselector = dict(\n",
    "        buttons = list([\n",
    "                        dict(count = 7, step = \"day\", stepmode = \"backward\", label = \"1W\"),\n",
    "                        dict(count = 1, step = \"month\", stepmode = \"backward\", label = \"1M\"),\n",
    "                        dict(count = 3, step = \"month\", stepmode = \"backward\", label = \"3M\"),\n",
    "                        dict(count = 6, step = \"month\", stepmode = \"backward\", label = \"6M\"),\n",
    "                        dict(count = 1, step = \"year\", stepmode = \"backward\", label = \"1Y\"),\n",
    "                        dict(count = 1, step = \"all\", stepmode = \"backward\", label = \"MAX\"),\n",
    "                        dict(count = 1, step = \"year\", stepmode = \"todate\", label = \"YTD\")])))\n",
    "fig.update_layout(xaxis_rangeslider_visible=False)\n",
    "fig.update_xaxes(rangeslider= {'visible':False}, row=2, col=1)\n",
    "\n",
    "fig.update_xaxes(rangeselector= {'visible':False}, row=2, col=1)\n",
    "\n",
    "\n",
    "fig.update_layout(showlegend=False)\n",
    "#Show\n",
    "# pyo.iplot(fig)"
   ]
  },
  {
   "cell_type": "markdown",
   "id": "ae0a4951",
   "metadata": {},
   "source": [
    "### Plotly Graph 2"
   ]
  },
  {
   "cell_type": "code",
   "execution_count": null,
   "id": "482e10e4",
   "metadata": {},
   "outputs": [],
   "source": [
    "confirmed_cc_df = df[df['Column'].str.contains(\"Confirmed Covid Cases\")]"
   ]
  },
  {
   "cell_type": "code",
   "execution_count": null,
   "id": "05d8049f",
   "metadata": {},
   "outputs": [],
   "source": [
    "hospital_cc_df = df[df['Column'].str.contains(\"Hospitalised Covid Cases\")]"
   ]
  },
  {
   "cell_type": "code",
   "execution_count": null,
   "id": "e785d1f1",
   "metadata": {},
   "outputs": [],
   "source": [
    "hospital_cc_df['Cases'] = hospital_cc_df['Cases'].diff(1)\n",
    "hospital_cc_df.tail()"
   ]
  },
  {
   "cell_type": "code",
   "execution_count": null,
   "id": "8f0602b8",
   "metadata": {},
   "outputs": [],
   "source": [
    "confirmed_and_hospital_cc_df = pd.concat([hospital_cc_df, confirmed_cc_df])\n",
    "\n",
    "confirmed_and_hospital_cc_df = confirmed_and_hospital_cc_df.drop([\"Age_Range\"], axis=1)\n",
    "# sorting data by date\n",
    "confirmed_and_hospital_cc_df = confirmed_and_hospital_cc_df.sort_values(ascending = True, by = [\"Date\"])\n",
    "\n",
    "# reseting the dataframe index\n",
    "confirmed_and_hospital_cc_df = confirmed_and_hospital_cc_df.reset_index()\n",
    "\n",
    "# confirmed_and_hospital_cc_df[\"Cases\"] = confirmed_and_hospital_cc_df[\"Cases\"].astype(int)\n",
    "confirmed_and_hospital_cc_df.tail()"
   ]
  },
  {
   "cell_type": "code",
   "execution_count": null,
   "id": "ddea0d26",
   "metadata": {},
   "outputs": [],
   "source": [
    "fig = px.area(confirmed_and_hospital_cc_df, x=\"Date\", y=\"Cases\", color=\"Column\")\n",
    "fig.show()"
   ]
  },
  {
   "cell_type": "markdown",
   "id": "896b1aa2",
   "metadata": {},
   "source": [
    "### Plotly Graph 3"
   ]
  },
  {
   "cell_type": "code",
   "execution_count": null,
   "id": "0d16094c",
   "metadata": {},
   "outputs": [],
   "source": [
    "hospitalised_df.head()"
   ]
  },
  {
   "cell_type": "code",
   "execution_count": null,
   "id": "c57dd782",
   "metadata": {},
   "outputs": [],
   "source": [
    "hospitalised_df = hospitalised_df[~hospitalised_df.isna()]"
   ]
  },
  {
   "cell_type": "code",
   "execution_count": null,
   "id": "b7e0492b",
   "metadata": {},
   "outputs": [],
   "source": [
    "hospitalised_df.iloc[-10:-1,]"
   ]
  },
  {
   "cell_type": "code",
   "execution_count": null,
   "id": "20fc3e17",
   "metadata": {},
   "outputs": [],
   "source": [
    "hospital_list =[]\n",
    "\n",
    "age_list = hospitalised_df['Age_Range'].unique()\n",
    "\n",
    "age_list"
   ]
  },
  {
   "cell_type": "code",
   "execution_count": null,
   "id": "795629e2",
   "metadata": {},
   "outputs": [],
   "source": [
    "for i in age_list:\n",
    "    old = hospitalised_df['Age_Range']\n",
    "    hospital_list.append(old)\n",
    "    \n",
    "print(hospital_list)"
   ]
  },
  {
   "cell_type": "code",
   "execution_count": null,
   "id": "40add852",
   "metadata": {},
   "outputs": [],
   "source": [
    "\n",
    "hospitalised_df_date = hospitalised_df.groupby(['Age_Range'])['Cases'].sum().reset_index()\n",
    "fig = px.bar(hospitalised_df_date, x=\"Age_Range\", y=\"Cases\", color=\"Age_Range\",\n",
    "#   animation_frame=\"Date\", animation_group=\"Age_Range\"\n",
    "            )\n",
    "\n",
    "fig.show()"
   ]
  },
  {
   "cell_type": "code",
   "execution_count": null,
   "id": "d29ff0ed",
   "metadata": {},
   "outputs": [],
   "source": []
  },
  {
   "cell_type": "code",
   "execution_count": null,
   "id": "4a5b892b",
   "metadata": {},
   "outputs": [],
   "source": []
  },
  {
   "cell_type": "markdown",
   "id": "cc4991db",
   "metadata": {},
   "source": [
    "### Plotly Graph 4"
   ]
  },
  {
   "cell_type": "code",
   "execution_count": null,
   "id": "9d76cdf8",
   "metadata": {},
   "outputs": [],
   "source": []
  },
  {
   "cell_type": "code",
   "execution_count": null,
   "id": "a9aeaaa7",
   "metadata": {},
   "outputs": [],
   "source": []
  },
  {
   "cell_type": "markdown",
   "id": "7cece5d0",
   "metadata": {},
   "source": [
    "### Plotly Graph 5"
   ]
  },
  {
   "cell_type": "code",
   "execution_count": null,
   "id": "f42feca8",
   "metadata": {},
   "outputs": [],
   "source": []
  },
  {
   "cell_type": "code",
   "execution_count": null,
   "id": "a446f69c",
   "metadata": {},
   "outputs": [],
   "source": []
  }
 ],
 "metadata": {
  "kernelspec": {
   "display_name": "Python 3 (ipykernel)",
   "language": "python",
   "name": "python3"
  },
  "language_info": {
   "codemirror_mode": {
    "name": "ipython",
    "version": 3
   },
   "file_extension": ".py",
   "mimetype": "text/x-python",
   "name": "python",
   "nbconvert_exporter": "python",
   "pygments_lexer": "ipython3",
   "version": "3.9.7"
  }
 },
 "nbformat": 4,
 "nbformat_minor": 5
}
