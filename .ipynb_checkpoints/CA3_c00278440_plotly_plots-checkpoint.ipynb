{
 "cells": [
  {
   "cell_type": "markdown",
   "id": "8bbd74fc",
   "metadata": {},
   "source": [
    "# Assignment 3\n",
    "\n",
    "\n",
    "- Student Name: Karina Jonina\n",
    "- Student ID: c00278440\n",
    "\n",
    "- Module Name: Programming for Data Scientists\n",
    "- Module Code: PROGC5201\n",
    "- Module Leader: Paul Barry\n",
    "\n",
    "- Course Name: \t\tMaster of Science in Data Science\n",
    "- Course Code:\t\t CW_KCDAR_M Y5\n",
    "\n",
    "- Due Date: 10th January 2022 9:00am"
   ]
  },
  {
   "cell_type": "code",
   "execution_count": 11,
   "id": "4960475b",
   "metadata": {},
   "outputs": [],
   "source": [
    "import pandas as pd\n",
    "import datetime\n",
    "from datetime import datetime\n",
    "import plotly.express as px\n",
    "from plotly.subplots import make_subplots\n",
    "import plotly.graph_objects as go"
   ]
  },
  {
   "cell_type": "code",
   "execution_count": 12,
   "id": "7f7ec641",
   "metadata": {},
   "outputs": [],
   "source": [
    "# reading in the tidy data csv\n",
    "df = pd.read_csv('tidy_data_df.csv', parse_dates = ['Date'])"
   ]
  },
  {
   "cell_type": "markdown",
   "id": "c5f704aa",
   "metadata": {},
   "source": [
    "### Checking tidy_data_df dataframe"
   ]
  },
  {
   "cell_type": "code",
   "execution_count": 13,
   "id": "ddf8ca2e",
   "metadata": {},
   "outputs": [
    {
     "data": {
      "text/html": [
       "<div>\n",
       "<style scoped>\n",
       "    .dataframe tbody tr th:only-of-type {\n",
       "        vertical-align: middle;\n",
       "    }\n",
       "\n",
       "    .dataframe tbody tr th {\n",
       "        vertical-align: top;\n",
       "    }\n",
       "\n",
       "    .dataframe thead th {\n",
       "        text-align: right;\n",
       "    }\n",
       "</style>\n",
       "<table border=\"1\" class=\"dataframe\">\n",
       "  <thead>\n",
       "    <tr style=\"text-align: right;\">\n",
       "      <th></th>\n",
       "      <th>Date</th>\n",
       "      <th>old_column</th>\n",
       "      <th>Column</th>\n",
       "      <th>Age_Range</th>\n",
       "      <th>Cases</th>\n",
       "      <th>Daily Cases</th>\n",
       "      <th>Diff</th>\n",
       "    </tr>\n",
       "  </thead>\n",
       "  <tbody>\n",
       "    <tr>\n",
       "      <th>0</th>\n",
       "      <td>2020-02-29</td>\n",
       "      <td>ConfirmedCovidCases</td>\n",
       "      <td>Confirmed Covid Cases</td>\n",
       "      <td>NaN</td>\n",
       "      <td>1</td>\n",
       "      <td>NaN</td>\n",
       "      <td>NaN</td>\n",
       "    </tr>\n",
       "    <tr>\n",
       "      <th>1</th>\n",
       "      <td>2020-02-29</td>\n",
       "      <td>TotalConfirmedCovidCases</td>\n",
       "      <td>Total Confirmed Covid Cases</td>\n",
       "      <td>NaN</td>\n",
       "      <td>1</td>\n",
       "      <td>NaN</td>\n",
       "      <td>NaN</td>\n",
       "    </tr>\n",
       "    <tr>\n",
       "      <th>2</th>\n",
       "      <td>2020-02-29</td>\n",
       "      <td>ConfirmedCovidDeaths</td>\n",
       "      <td>Confirmed Covid Deaths</td>\n",
       "      <td>NaN</td>\n",
       "      <td>0</td>\n",
       "      <td>-610855.0</td>\n",
       "      <td>-614858.0</td>\n",
       "    </tr>\n",
       "    <tr>\n",
       "      <th>3</th>\n",
       "      <td>2020-02-29</td>\n",
       "      <td>TotalCovidDeaths</td>\n",
       "      <td>Total Covid Deaths</td>\n",
       "      <td>NaN</td>\n",
       "      <td>0</td>\n",
       "      <td>NaN</td>\n",
       "      <td>NaN</td>\n",
       "    </tr>\n",
       "    <tr>\n",
       "      <th>4</th>\n",
       "      <td>2020-02-29</td>\n",
       "      <td>TotalCovidDeaths</td>\n",
       "      <td>Total Covid Deaths</td>\n",
       "      <td>NaN</td>\n",
       "      <td>0</td>\n",
       "      <td>-81.0</td>\n",
       "      <td>-107.0</td>\n",
       "    </tr>\n",
       "  </tbody>\n",
       "</table>\n",
       "</div>"
      ],
      "text/plain": [
       "        Date                old_column                       Column Age_Range  \\\n",
       "0 2020-02-29       ConfirmedCovidCases        Confirmed Covid Cases       NaN   \n",
       "1 2020-02-29  TotalConfirmedCovidCases  Total Confirmed Covid Cases       NaN   \n",
       "2 2020-02-29      ConfirmedCovidDeaths       Confirmed Covid Deaths       NaN   \n",
       "3 2020-02-29          TotalCovidDeaths           Total Covid Deaths       NaN   \n",
       "4 2020-02-29          TotalCovidDeaths           Total Covid Deaths       NaN   \n",
       "\n",
       "   Cases  Daily Cases      Diff  \n",
       "0      1          NaN       NaN  \n",
       "1      1          NaN       NaN  \n",
       "2      0    -610855.0 -614858.0  \n",
       "3      0          NaN       NaN  \n",
       "4      0        -81.0    -107.0  "
      ]
     },
     "execution_count": 13,
     "metadata": {},
     "output_type": "execute_result"
    }
   ],
   "source": [
    "df.head()"
   ]
  },
  {
   "cell_type": "code",
   "execution_count": 14,
   "id": "ca0a3831",
   "metadata": {},
   "outputs": [
    {
     "data": {
      "text/plain": [
       "(49261, 7)"
      ]
     },
     "execution_count": 14,
     "metadata": {},
     "output_type": "execute_result"
    }
   ],
   "source": [
    "df.shape"
   ]
  },
  {
   "cell_type": "code",
   "execution_count": 15,
   "id": "cdc039be",
   "metadata": {},
   "outputs": [
    {
     "name": "stdout",
     "output_type": "stream",
     "text": [
      "<class 'pandas.core.frame.DataFrame'>\n",
      "RangeIndex: 49261 entries, 0 to 49260\n",
      "Data columns (total 7 columns):\n",
      " #   Column       Non-Null Count  Dtype         \n",
      "---  ------       --------------  -----         \n",
      " 0   Date         49261 non-null  datetime64[ns]\n",
      " 1   old_column   49261 non-null  object        \n",
      " 2   Column       49261 non-null  object        \n",
      " 3   Age_Range    25840 non-null  object        \n",
      " 4   Cases        49261 non-null  int64         \n",
      " 5   Daily Cases  46160 non-null  float64       \n",
      " 6   Diff         49237 non-null  float64       \n",
      "dtypes: datetime64[ns](1), float64(2), int64(1), object(3)\n",
      "memory usage: 2.6+ MB\n"
     ]
    }
   ],
   "source": [
    "df.info()"
   ]
  },
  {
   "cell_type": "code",
   "execution_count": 16,
   "id": "4bc03b2e",
   "metadata": {},
   "outputs": [
    {
     "data": {
      "text/plain": [
       "array(['Confirmed Covid Cases', 'Total Confirmed Covid Cases',\n",
       "       'Confirmed Covid Deaths', 'Total Covid Deaths', 'Median Age',\n",
       "       'Hospitalised Aged', 'Female', 'Aged', 'Requiring Covid Cases',\n",
       "       'Hospitalised Covid Cases', 'Male', 'Unknown',\n",
       "       'Healthcare Workers Covid Cases', 'Clusters Notified'],\n",
       "      dtype=object)"
      ]
     },
     "execution_count": 16,
     "metadata": {},
     "output_type": "execute_result"
    }
   ],
   "source": [
    "df['Column'].unique()"
   ]
  },
  {
   "cell_type": "code",
   "execution_count": 17,
   "id": "06ecfc03",
   "metadata": {},
   "outputs": [
    {
     "data": {
      "text/plain": [
       "array([nan, '75-84', '1-4', '0-45-64', '25-34', '0-4-14', '5-14', '55-64',\n",
       "       '35-44', '15-24', '65-74', '85+', '0-4', '45-54'], dtype=object)"
      ]
     },
     "execution_count": 17,
     "metadata": {},
     "output_type": "execute_result"
    }
   ],
   "source": [
    "df['Age_Range'].unique()"
   ]
  },
  {
   "cell_type": "code",
   "execution_count": 18,
   "id": "79133fa5",
   "metadata": {},
   "outputs": [
    {
     "ename": "ValueError",
     "evalue": "items in new_categories are not the same as in old categories",
     "output_type": "error",
     "traceback": [
      "\u001b[1;31m---------------------------------------------------------------------------\u001b[0m",
      "\u001b[1;31mValueError\u001b[0m                                Traceback (most recent call last)",
      "\u001b[1;32m~\\AppData\\Local\\Temp/ipykernel_9680/3431384586.py\u001b[0m in \u001b[0;36m<module>\u001b[1;34m\u001b[0m\n\u001b[0;32m      3\u001b[0m \u001b[0mdf\u001b[0m\u001b[1;33m[\u001b[0m\u001b[1;34m'Age_Range'\u001b[0m\u001b[1;33m]\u001b[0m \u001b[1;33m=\u001b[0m \u001b[0mdf\u001b[0m\u001b[1;33m[\u001b[0m\u001b[1;34m'Age_Range'\u001b[0m\u001b[1;33m]\u001b[0m\u001b[1;33m.\u001b[0m\u001b[0mastype\u001b[0m\u001b[1;33m(\u001b[0m\u001b[1;34m'category'\u001b[0m\u001b[1;33m)\u001b[0m\u001b[1;33m\u001b[0m\u001b[1;33m\u001b[0m\u001b[0m\n\u001b[0;32m      4\u001b[0m \u001b[1;33m\u001b[0m\u001b[0m\n\u001b[1;32m----> 5\u001b[1;33m df['Age_Range'] = df['Age_Range'].cat.reorder_categories(\n\u001b[0m\u001b[0;32m      6\u001b[0m     ['0-4','5-14','15-24', '25-34', '35-44', '45-54', '55-64','65-74', '75-84','85+'], ordered=True)\n",
      "\u001b[1;32m~\\miniconda3\\lib\\site-packages\\pandas\\core\\accessor.py\u001b[0m in \u001b[0;36mf\u001b[1;34m(self, *args, **kwargs)\u001b[0m\n\u001b[0;32m     91\u001b[0m         \u001b[1;32mdef\u001b[0m \u001b[0m_create_delegator_method\u001b[0m\u001b[1;33m(\u001b[0m\u001b[0mname\u001b[0m\u001b[1;33m)\u001b[0m\u001b[1;33m:\u001b[0m\u001b[1;33m\u001b[0m\u001b[1;33m\u001b[0m\u001b[0m\n\u001b[0;32m     92\u001b[0m             \u001b[1;32mdef\u001b[0m \u001b[0mf\u001b[0m\u001b[1;33m(\u001b[0m\u001b[0mself\u001b[0m\u001b[1;33m,\u001b[0m \u001b[1;33m*\u001b[0m\u001b[0margs\u001b[0m\u001b[1;33m,\u001b[0m \u001b[1;33m**\u001b[0m\u001b[0mkwargs\u001b[0m\u001b[1;33m)\u001b[0m\u001b[1;33m:\u001b[0m\u001b[1;33m\u001b[0m\u001b[1;33m\u001b[0m\u001b[0m\n\u001b[1;32m---> 93\u001b[1;33m                 \u001b[1;32mreturn\u001b[0m \u001b[0mself\u001b[0m\u001b[1;33m.\u001b[0m\u001b[0m_delegate_method\u001b[0m\u001b[1;33m(\u001b[0m\u001b[0mname\u001b[0m\u001b[1;33m,\u001b[0m \u001b[1;33m*\u001b[0m\u001b[0margs\u001b[0m\u001b[1;33m,\u001b[0m \u001b[1;33m**\u001b[0m\u001b[0mkwargs\u001b[0m\u001b[1;33m)\u001b[0m\u001b[1;33m\u001b[0m\u001b[1;33m\u001b[0m\u001b[0m\n\u001b[0m\u001b[0;32m     94\u001b[0m \u001b[1;33m\u001b[0m\u001b[0m\n\u001b[0;32m     95\u001b[0m             \u001b[0mf\u001b[0m\u001b[1;33m.\u001b[0m\u001b[0m__name__\u001b[0m \u001b[1;33m=\u001b[0m \u001b[0mname\u001b[0m\u001b[1;33m\u001b[0m\u001b[1;33m\u001b[0m\u001b[0m\n",
      "\u001b[1;32m~\\miniconda3\\lib\\site-packages\\pandas\\core\\arrays\\categorical.py\u001b[0m in \u001b[0;36m_delegate_method\u001b[1;34m(self, name, *args, **kwargs)\u001b[0m\n\u001b[0;32m   2629\u001b[0m \u001b[1;33m\u001b[0m\u001b[0m\n\u001b[0;32m   2630\u001b[0m         \u001b[0mmethod\u001b[0m \u001b[1;33m=\u001b[0m \u001b[0mgetattr\u001b[0m\u001b[1;33m(\u001b[0m\u001b[0mself\u001b[0m\u001b[1;33m.\u001b[0m\u001b[0m_parent\u001b[0m\u001b[1;33m,\u001b[0m \u001b[0mname\u001b[0m\u001b[1;33m)\u001b[0m\u001b[1;33m\u001b[0m\u001b[1;33m\u001b[0m\u001b[0m\n\u001b[1;32m-> 2631\u001b[1;33m         \u001b[0mres\u001b[0m \u001b[1;33m=\u001b[0m \u001b[0mmethod\u001b[0m\u001b[1;33m(\u001b[0m\u001b[1;33m*\u001b[0m\u001b[0margs\u001b[0m\u001b[1;33m,\u001b[0m \u001b[1;33m**\u001b[0m\u001b[0mkwargs\u001b[0m\u001b[1;33m)\u001b[0m\u001b[1;33m\u001b[0m\u001b[1;33m\u001b[0m\u001b[0m\n\u001b[0m\u001b[0;32m   2632\u001b[0m         \u001b[1;32mif\u001b[0m \u001b[0mres\u001b[0m \u001b[1;32mis\u001b[0m \u001b[1;32mnot\u001b[0m \u001b[1;32mNone\u001b[0m\u001b[1;33m:\u001b[0m\u001b[1;33m\u001b[0m\u001b[1;33m\u001b[0m\u001b[0m\n\u001b[0;32m   2633\u001b[0m             \u001b[1;32mreturn\u001b[0m \u001b[0mSeries\u001b[0m\u001b[1;33m(\u001b[0m\u001b[0mres\u001b[0m\u001b[1;33m,\u001b[0m \u001b[0mindex\u001b[0m\u001b[1;33m=\u001b[0m\u001b[0mself\u001b[0m\u001b[1;33m.\u001b[0m\u001b[0m_index\u001b[0m\u001b[1;33m,\u001b[0m \u001b[0mname\u001b[0m\u001b[1;33m=\u001b[0m\u001b[0mself\u001b[0m\u001b[1;33m.\u001b[0m\u001b[0m_name\u001b[0m\u001b[1;33m)\u001b[0m\u001b[1;33m\u001b[0m\u001b[1;33m\u001b[0m\u001b[0m\n",
      "\u001b[1;32m~\\miniconda3\\lib\\site-packages\\pandas\\core\\arrays\\categorical.py\u001b[0m in \u001b[0;36mreorder_categories\u001b[1;34m(self, new_categories, ordered, inplace)\u001b[0m\n\u001b[0;32m   1108\u001b[0m         \u001b[0minplace\u001b[0m \u001b[1;33m=\u001b[0m \u001b[0mvalidate_bool_kwarg\u001b[0m\u001b[1;33m(\u001b[0m\u001b[0minplace\u001b[0m\u001b[1;33m,\u001b[0m \u001b[1;34m\"inplace\"\u001b[0m\u001b[1;33m)\u001b[0m\u001b[1;33m\u001b[0m\u001b[1;33m\u001b[0m\u001b[0m\n\u001b[0;32m   1109\u001b[0m         \u001b[1;32mif\u001b[0m \u001b[0mset\u001b[0m\u001b[1;33m(\u001b[0m\u001b[0mself\u001b[0m\u001b[1;33m.\u001b[0m\u001b[0mdtype\u001b[0m\u001b[1;33m.\u001b[0m\u001b[0mcategories\u001b[0m\u001b[1;33m)\u001b[0m \u001b[1;33m!=\u001b[0m \u001b[0mset\u001b[0m\u001b[1;33m(\u001b[0m\u001b[0mnew_categories\u001b[0m\u001b[1;33m)\u001b[0m\u001b[1;33m:\u001b[0m\u001b[1;33m\u001b[0m\u001b[1;33m\u001b[0m\u001b[0m\n\u001b[1;32m-> 1110\u001b[1;33m             raise ValueError(\n\u001b[0m\u001b[0;32m   1111\u001b[0m                 \u001b[1;34m\"items in new_categories are not the same as in old categories\"\u001b[0m\u001b[1;33m\u001b[0m\u001b[1;33m\u001b[0m\u001b[0m\n\u001b[0;32m   1112\u001b[0m             )\n",
      "\u001b[1;31mValueError\u001b[0m: items in new_categories are not the same as in old categories"
     ]
    }
   ],
   "source": [
    "df['Column'] = df['Column'].astype('category')\n",
    "df['old_column'] = df['old_column'].astype('category')\n",
    "df['Age_Range'] = df['Age_Range'].astype('category')\n",
    "\n",
    "df['Age_Range'] = df['Age_Range'].cat.reorder_categories(\n",
    "    ['0-4','5-14','15-24', '25-34', '35-44', '45-54', '55-64','65-74', '75-84','85+'], ordered=True)"
   ]
  },
  {
   "cell_type": "code",
   "execution_count": 19,
   "id": "c7d1b63e",
   "metadata": {},
   "outputs": [],
   "source": [
    "\n",
    "df['Date'] = df['Date'].astype(str)\n",
    "\n",
    "df['Date'] = pd.to_datetime(df['Date'], errors='ignore', format='%Y-%B-%d')\n"
   ]
  },
  {
   "cell_type": "code",
   "execution_count": 20,
   "id": "4517cfc1",
   "metadata": {},
   "outputs": [
    {
     "data": {
      "text/html": [
       "<div>\n",
       "<style scoped>\n",
       "    .dataframe tbody tr th:only-of-type {\n",
       "        vertical-align: middle;\n",
       "    }\n",
       "\n",
       "    .dataframe tbody tr th {\n",
       "        vertical-align: top;\n",
       "    }\n",
       "\n",
       "    .dataframe thead th {\n",
       "        text-align: right;\n",
       "    }\n",
       "</style>\n",
       "<table border=\"1\" class=\"dataframe\">\n",
       "  <thead>\n",
       "    <tr style=\"text-align: right;\">\n",
       "      <th></th>\n",
       "      <th>Date</th>\n",
       "      <th>old_column</th>\n",
       "      <th>Column</th>\n",
       "      <th>Age_Range</th>\n",
       "      <th>Cases</th>\n",
       "      <th>Daily Cases</th>\n",
       "      <th>Diff</th>\n",
       "    </tr>\n",
       "  </thead>\n",
       "  <tbody>\n",
       "    <tr>\n",
       "      <th>0</th>\n",
       "      <td>2020-02-29</td>\n",
       "      <td>ConfirmedCovidCases</td>\n",
       "      <td>Confirmed Covid Cases</td>\n",
       "      <td>NaN</td>\n",
       "      <td>1</td>\n",
       "      <td>0</td>\n",
       "      <td>0</td>\n",
       "    </tr>\n",
       "    <tr>\n",
       "      <th>1</th>\n",
       "      <td>2020-02-29</td>\n",
       "      <td>TotalConfirmedCovidCases</td>\n",
       "      <td>Total Confirmed Covid Cases</td>\n",
       "      <td>NaN</td>\n",
       "      <td>1</td>\n",
       "      <td>0</td>\n",
       "      <td>0</td>\n",
       "    </tr>\n",
       "    <tr>\n",
       "      <th>2</th>\n",
       "      <td>2020-02-29</td>\n",
       "      <td>ConfirmedCovidDeaths</td>\n",
       "      <td>Confirmed Covid Deaths</td>\n",
       "      <td>NaN</td>\n",
       "      <td>0</td>\n",
       "      <td>-610855</td>\n",
       "      <td>-614858</td>\n",
       "    </tr>\n",
       "    <tr>\n",
       "      <th>3</th>\n",
       "      <td>2020-02-29</td>\n",
       "      <td>TotalCovidDeaths</td>\n",
       "      <td>Total Covid Deaths</td>\n",
       "      <td>NaN</td>\n",
       "      <td>0</td>\n",
       "      <td>0</td>\n",
       "      <td>0</td>\n",
       "    </tr>\n",
       "    <tr>\n",
       "      <th>4</th>\n",
       "      <td>2020-02-29</td>\n",
       "      <td>TotalCovidDeaths</td>\n",
       "      <td>Total Covid Deaths</td>\n",
       "      <td>NaN</td>\n",
       "      <td>0</td>\n",
       "      <td>-81</td>\n",
       "      <td>-107</td>\n",
       "    </tr>\n",
       "  </tbody>\n",
       "</table>\n",
       "</div>"
      ],
      "text/plain": [
       "         Date                old_column                       Column  \\\n",
       "0  2020-02-29       ConfirmedCovidCases        Confirmed Covid Cases   \n",
       "1  2020-02-29  TotalConfirmedCovidCases  Total Confirmed Covid Cases   \n",
       "2  2020-02-29      ConfirmedCovidDeaths       Confirmed Covid Deaths   \n",
       "3  2020-02-29          TotalCovidDeaths           Total Covid Deaths   \n",
       "4  2020-02-29          TotalCovidDeaths           Total Covid Deaths   \n",
       "\n",
       "  Age_Range  Cases  Daily Cases    Diff  \n",
       "0       NaN      1            0       0  \n",
       "1       NaN      1            0       0  \n",
       "2       NaN      0      -610855 -614858  \n",
       "3       NaN      0            0       0  \n",
       "4       NaN      0          -81    -107  "
      ]
     },
     "execution_count": 20,
     "metadata": {},
     "output_type": "execute_result"
    }
   ],
   "source": [
    "# replacing all Nan with 0\n",
    "df['Daily Cases'] = df['Daily Cases'].fillna(0)\n",
    "df['Diff'] = df['Diff'].fillna(0)\n",
    "\n",
    "#changing the 0.0 to 0\n",
    "df['Daily Cases'] = df['Daily Cases'].astype(int)\n",
    "df['Diff'] = df['Diff'].astype(int)\n",
    "\n",
    "df.head()"
   ]
  },
  {
   "cell_type": "code",
   "execution_count": 21,
   "id": "ae5bd595",
   "metadata": {},
   "outputs": [
    {
     "name": "stdout",
     "output_type": "stream",
     "text": [
      "<class 'pandas.core.frame.DataFrame'>\n",
      "RangeIndex: 49261 entries, 0 to 49260\n",
      "Data columns (total 7 columns):\n",
      " #   Column       Non-Null Count  Dtype   \n",
      "---  ------       --------------  -----   \n",
      " 0   Date         49261 non-null  object  \n",
      " 1   old_column   49261 non-null  category\n",
      " 2   Column       49261 non-null  category\n",
      " 3   Age_Range    25840 non-null  category\n",
      " 4   Cases        49261 non-null  int64   \n",
      " 5   Daily Cases  49261 non-null  int32   \n",
      " 6   Diff         49261 non-null  int32   \n",
      "dtypes: category(3), int32(2), int64(1), object(1)\n",
      "memory usage: 1.3+ MB\n"
     ]
    }
   ],
   "source": [
    "df.info()"
   ]
  },
  {
   "cell_type": "markdown",
   "id": "bf57cba8",
   "metadata": {},
   "source": [
    "### Creating New Dataset"
   ]
  },
  {
   "cell_type": "markdown",
   "id": "3d2ed0de",
   "metadata": {},
   "source": [
    "###### Dataset for Confirmed Covid Cases with Age Range"
   ]
  },
  {
   "cell_type": "code",
   "execution_count": 22,
   "id": "69acd1c2",
   "metadata": {},
   "outputs": [],
   "source": [
    "aged_df = df[df['Column'].str.startswith(\"Aged\")]"
   ]
  },
  {
   "cell_type": "code",
   "execution_count": 25,
   "id": "5850734d",
   "metadata": {},
   "outputs": [
    {
     "data": {
      "text/html": [
       "<div>\n",
       "<style scoped>\n",
       "    .dataframe tbody tr th:only-of-type {\n",
       "        vertical-align: middle;\n",
       "    }\n",
       "\n",
       "    .dataframe tbody tr th {\n",
       "        vertical-align: top;\n",
       "    }\n",
       "\n",
       "    .dataframe thead th {\n",
       "        text-align: right;\n",
       "    }\n",
       "</style>\n",
       "<table border=\"1\" class=\"dataframe\">\n",
       "  <thead>\n",
       "    <tr style=\"text-align: right;\">\n",
       "      <th></th>\n",
       "      <th>Date</th>\n",
       "      <th>old_column</th>\n",
       "      <th>Column</th>\n",
       "      <th>Age_Range</th>\n",
       "      <th>Accumulated Cases</th>\n",
       "      <th>Daily Cases</th>\n",
       "      <th>Diff</th>\n",
       "    </tr>\n",
       "  </thead>\n",
       "  <tbody>\n",
       "  </tbody>\n",
       "</table>\n",
       "</div>"
      ],
      "text/plain": [
       "Empty DataFrame\n",
       "Columns: [Date, old_column, Column, Age_Range, Accumulated Cases, Daily Cases, Diff]\n",
       "Index: []"
      ]
     },
     "execution_count": 25,
     "metadata": {},
     "output_type": "execute_result"
    }
   ],
   "source": [
    "aged_df[aged_df['Age_Range'].isna()]"
   ]
  },
  {
   "cell_type": "code",
   "execution_count": 26,
   "id": "8efbbd93",
   "metadata": {},
   "outputs": [
    {
     "data": {
      "text/html": [
       "<div>\n",
       "<style scoped>\n",
       "    .dataframe tbody tr th:only-of-type {\n",
       "        vertical-align: middle;\n",
       "    }\n",
       "\n",
       "    .dataframe tbody tr th {\n",
       "        vertical-align: top;\n",
       "    }\n",
       "\n",
       "    .dataframe thead th {\n",
       "        text-align: right;\n",
       "    }\n",
       "</style>\n",
       "<table border=\"1\" class=\"dataframe\">\n",
       "  <thead>\n",
       "    <tr style=\"text-align: right;\">\n",
       "      <th></th>\n",
       "      <th>Date</th>\n",
       "      <th>old_column</th>\n",
       "      <th>Column</th>\n",
       "      <th>Age_Range</th>\n",
       "      <th>Accumulated Cases</th>\n",
       "      <th>Daily Cases</th>\n",
       "      <th>Diff</th>\n",
       "    </tr>\n",
       "  </thead>\n",
       "  <tbody>\n",
       "    <tr>\n",
       "      <th>49235</th>\n",
       "      <td>2021-12-09</td>\n",
       "      <td>Aged45to54</td>\n",
       "      <td>Aged</td>\n",
       "      <td>45-54</td>\n",
       "      <td>78143</td>\n",
       "      <td>552</td>\n",
       "      <td>-235</td>\n",
       "    </tr>\n",
       "    <tr>\n",
       "      <th>49236</th>\n",
       "      <td>2021-12-09</td>\n",
       "      <td>Aged25to34</td>\n",
       "      <td>Aged</td>\n",
       "      <td>25-34</td>\n",
       "      <td>98686</td>\n",
       "      <td>639</td>\n",
       "      <td>-173</td>\n",
       "    </tr>\n",
       "    <tr>\n",
       "      <th>49237</th>\n",
       "      <td>2021-12-09</td>\n",
       "      <td>Aged85up</td>\n",
       "      <td>Aged</td>\n",
       "      <td>85+</td>\n",
       "      <td>9834</td>\n",
       "      <td>8</td>\n",
       "      <td>-10</td>\n",
       "    </tr>\n",
       "    <tr>\n",
       "      <th>49243</th>\n",
       "      <td>2021-12-09</td>\n",
       "      <td>Aged65to74</td>\n",
       "      <td>Aged</td>\n",
       "      <td>65-74</td>\n",
       "      <td>30747</td>\n",
       "      <td>138</td>\n",
       "      <td>-68</td>\n",
       "    </tr>\n",
       "    <tr>\n",
       "      <th>49246</th>\n",
       "      <td>2021-12-09</td>\n",
       "      <td>Aged35to44</td>\n",
       "      <td>Aged</td>\n",
       "      <td>35-44</td>\n",
       "      <td>97936</td>\n",
       "      <td>786</td>\n",
       "      <td>-267</td>\n",
       "    </tr>\n",
       "  </tbody>\n",
       "</table>\n",
       "</div>"
      ],
      "text/plain": [
       "             Date  old_column Column Age_Range  Accumulated Cases  \\\n",
       "49235  2021-12-09  Aged45to54   Aged     45-54              78143   \n",
       "49236  2021-12-09  Aged25to34   Aged     25-34              98686   \n",
       "49237  2021-12-09    Aged85up   Aged       85+               9834   \n",
       "49243  2021-12-09  Aged65to74   Aged     65-74              30747   \n",
       "49246  2021-12-09  Aged35to44   Aged     35-44              97936   \n",
       "\n",
       "       Daily Cases  Diff  \n",
       "49235          552  -235  \n",
       "49236          639  -173  \n",
       "49237            8   -10  \n",
       "49243          138   -68  \n",
       "49246          786  -267  "
      ]
     },
     "execution_count": 26,
     "metadata": {},
     "output_type": "execute_result"
    }
   ],
   "source": [
    "aged_df = aged_df.rename(columns={'Cases': 'Accumulated Cases'})\n",
    "aged_df.tail()"
   ]
  },
  {
   "cell_type": "markdown",
   "id": "95220f62",
   "metadata": {},
   "source": [
    "###### Dataset for Hospitalised Covid Cases with Age Range"
   ]
  },
  {
   "cell_type": "code",
   "execution_count": 27,
   "id": "bcd54b8c",
   "metadata": {},
   "outputs": [],
   "source": [
    "hospitalised_df = df[df['Column'].str.contains(\"Hospitalised Aged\")]"
   ]
  },
  {
   "cell_type": "code",
   "execution_count": 28,
   "id": "2f591ea1",
   "metadata": {},
   "outputs": [
    {
     "data": {
      "text/html": [
       "<div>\n",
       "<style scoped>\n",
       "    .dataframe tbody tr th:only-of-type {\n",
       "        vertical-align: middle;\n",
       "    }\n",
       "\n",
       "    .dataframe tbody tr th {\n",
       "        vertical-align: top;\n",
       "    }\n",
       "\n",
       "    .dataframe thead th {\n",
       "        text-align: right;\n",
       "    }\n",
       "</style>\n",
       "<table border=\"1\" class=\"dataframe\">\n",
       "  <thead>\n",
       "    <tr style=\"text-align: right;\">\n",
       "      <th></th>\n",
       "      <th>Date</th>\n",
       "      <th>old_column</th>\n",
       "      <th>Column</th>\n",
       "      <th>Age_Range</th>\n",
       "      <th>Accumulated Cases</th>\n",
       "      <th>Daily Cases</th>\n",
       "      <th>Diff</th>\n",
       "    </tr>\n",
       "  </thead>\n",
       "  <tbody>\n",
       "    <tr>\n",
       "      <th>27</th>\n",
       "      <td>2020-03-04</td>\n",
       "      <td>HospitalisedAged75to84</td>\n",
       "      <td>Hospitalised Aged</td>\n",
       "      <td>75-84</td>\n",
       "      <td>0</td>\n",
       "      <td>-3573</td>\n",
       "      <td>-3577</td>\n",
       "    </tr>\n",
       "    <tr>\n",
       "      <th>31</th>\n",
       "      <td>2020-03-04</td>\n",
       "      <td>HospitalisedAged55to64</td>\n",
       "      <td>Hospitalised Aged</td>\n",
       "      <td>0-45-64</td>\n",
       "      <td>0</td>\n",
       "      <td>-2423</td>\n",
       "      <td>-2428</td>\n",
       "    </tr>\n",
       "    <tr>\n",
       "      <th>32</th>\n",
       "      <td>2020-03-04</td>\n",
       "      <td>HospitalisedAged25to34</td>\n",
       "      <td>Hospitalised Aged</td>\n",
       "      <td>25-34</td>\n",
       "      <td>0</td>\n",
       "      <td>-1042</td>\n",
       "      <td>-1046</td>\n",
       "    </tr>\n",
       "    <tr>\n",
       "      <th>34</th>\n",
       "      <td>2020-03-04</td>\n",
       "      <td>HospitalisedAged5to14</td>\n",
       "      <td>Hospitalised Aged</td>\n",
       "      <td>0-4-14</td>\n",
       "      <td>0</td>\n",
       "      <td>-425</td>\n",
       "      <td>-426</td>\n",
       "    </tr>\n",
       "    <tr>\n",
       "      <th>48</th>\n",
       "      <td>2020-03-04</td>\n",
       "      <td>HospitalisedAged15to24</td>\n",
       "      <td>Hospitalised Aged</td>\n",
       "      <td>15-24</td>\n",
       "      <td>0</td>\n",
       "      <td>-315</td>\n",
       "      <td>-319</td>\n",
       "    </tr>\n",
       "  </tbody>\n",
       "</table>\n",
       "</div>"
      ],
      "text/plain": [
       "          Date              old_column             Column Age_Range  \\\n",
       "27  2020-03-04  HospitalisedAged75to84  Hospitalised Aged     75-84   \n",
       "31  2020-03-04  HospitalisedAged55to64  Hospitalised Aged   0-45-64   \n",
       "32  2020-03-04  HospitalisedAged25to34  Hospitalised Aged     25-34   \n",
       "34  2020-03-04   HospitalisedAged5to14  Hospitalised Aged    0-4-14   \n",
       "48  2020-03-04  HospitalisedAged15to24  Hospitalised Aged     15-24   \n",
       "\n",
       "    Accumulated Cases  Daily Cases  Diff  \n",
       "27                  0        -3573 -3577  \n",
       "31                  0        -2423 -2428  \n",
       "32                  0        -1042 -1046  \n",
       "34                  0         -425  -426  \n",
       "48                  0         -315  -319  "
      ]
     },
     "execution_count": 28,
     "metadata": {},
     "output_type": "execute_result"
    }
   ],
   "source": [
    "# column cases actually represents accumulated cases\n",
    "hospitalised_df = hospitalised_df.rename(columns={'Cases': 'Accumulated Cases'})\n",
    "\n",
    "hospitalised_df.head()"
   ]
  },
  {
   "cell_type": "markdown",
   "id": "c0a9f9d9",
   "metadata": {},
   "source": [
    "###### Dataset for Confirmed Covid Cases Hospitalised Covid Cases with Age Range"
   ]
  },
  {
   "cell_type": "code",
   "execution_count": null,
   "id": "419afba2",
   "metadata": {},
   "outputs": [],
   "source": [
    "aged_and_hospitalised_df = df[df['Column'].str.contains(\"Aged\")]"
   ]
  },
  {
   "cell_type": "code",
   "execution_count": null,
   "id": "2b40bf95",
   "metadata": {},
   "outputs": [],
   "source": [
    "# column cases actually represents accumulated cases\n",
    "aged_and_hospitalised_df = aged_and_hospitalised_df.rename(columns={'Cases': 'Accumulated Cases'})\n",
    "\n",
    "aged_and_hospitalised_df.tail()"
   ]
  },
  {
   "cell_type": "markdown",
   "id": "c4eb8c76",
   "metadata": {},
   "source": [
    "###### Dataset for Confirmed Covid Cases (NO AGE_RANGE)"
   ]
  },
  {
   "cell_type": "code",
   "execution_count": null,
   "id": "967c3eda",
   "metadata": {},
   "outputs": [],
   "source": [
    "confirmed_cc_df = df[df['Column'].str.startswith(\"Confirmed Covid Cases\")]\n",
    "\n",
    "# in this dataset, the age range is empty\n",
    "confirmed_cc_df = confirmed_cc_df.drop(columns = ['old_column','Age_Range', 'Daily Cases'])\n",
    "\n",
    "# column cases actually represents accumulated cases\n",
    "confirmed_cc_df = confirmed_cc_df.rename(columns={'Cases': 'Daily Cases'})\n",
    "confirmed_cc_df.tail(10)"
   ]
  },
  {
   "cell_type": "markdown",
   "id": "d5343e8e",
   "metadata": {},
   "source": [
    "###### Dataset for Hospitalised Covid Cases (NO AGE_RANGE)"
   ]
  },
  {
   "cell_type": "code",
   "execution_count": null,
   "id": "190b3bdd",
   "metadata": {},
   "outputs": [],
   "source": [
    "hospital_cc_df = df[df['Column'].str.contains(\"Hospitalised Covid Cases\")]\n",
    "\n",
    "# in this dataset, the age range is empty\n",
    "hospital_cc_df = hospital_cc_df.drop(columns = ['old_column','Age_Range'])\n",
    "\n",
    "# column cases actually represents accumulated cases\n",
    "hospital_cc_df = hospital_cc_df.rename(columns={'Cases': 'Accumulated Cases'})\n",
    "hospital_cc_df.tail(10)"
   ]
  },
  {
   "cell_type": "markdown",
   "id": "94bd3150",
   "metadata": {},
   "source": [
    "###### Dataset for Covid Cases Requiring ICU"
   ]
  },
  {
   "cell_type": "code",
   "execution_count": null,
   "id": "b9451d64",
   "metadata": {},
   "outputs": [],
   "source": [
    "icu_cc_df = df[df['Column'].str.contains(\"Requiring\")]\n",
    "\n",
    "# in this dataset, the age range is empty\n",
    "icu_cc_df = icu_cc_df.drop(columns = ['old_column','Age_Range'])\n",
    "\n",
    "# column cases actually represents accumulated cases\n",
    "icu_cc_df = icu_cc_df.rename(columns={'Cases': 'Accumulated Cases'})\n",
    "icu_cc_df.tail(10)"
   ]
  },
  {
   "cell_type": "markdown",
   "id": "857b7cee",
   "metadata": {},
   "source": [
    "###### Dataset for Median Age"
   ]
  },
  {
   "cell_type": "code",
   "execution_count": null,
   "id": "f42feca8",
   "metadata": {},
   "outputs": [],
   "source": [
    "median_age_df = df[df['Column'].str.contains(\"Median Age\")]\n",
    "\n",
    "# in this dataset, the age range is empty\n",
    "median_age_df = median_age_df.drop(columns = ['Age_Range','old_column', 'Daily Cases','Diff'])\n",
    "\n",
    "# column cases actually represents accumulated cases\n",
    "median_age_df = median_age_df.rename(columns={'Cases': 'Median Age'})\n",
    "median_age_df.tail()"
   ]
  },
  {
   "cell_type": "markdown",
   "id": "aa8289ed",
   "metadata": {},
   "source": [
    "### Plotly Graph 1"
   ]
  },
  {
   "cell_type": "code",
   "execution_count": null,
   "id": "80352110",
   "metadata": {},
   "outputs": [],
   "source": [
    "fig = go.Figure()\n",
    "\n",
    "age = go.Scatter(x = confirmed_cc_df['Date'],\n",
    "                             y = confirmed_cc_df['Daily Cases'],\n",
    "                             name = 'Daily Cases',\n",
    "                             mode = 'lines',\n",
    "                             customdata = confirmed_cc_df['Column'],\n",
    "                             hovertemplate = \"<b>%{customdata}</b><br><br>\" +\n",
    "                                            \"Date: %{x|%d %b %Y} <br>\" +\n",
    "                                            \"Covid-19 Cases: %{y:,.}<br>\"+\n",
    "                                             \"<extra></extra>\",\n",
    "                             line = dict(color = \"blue\"))\n",
    "\n",
    "hospitalisation = go.Scatter(x = hospital_cc_df['Date'],\n",
    "                             y = hospital_cc_df['Daily Cases'],\n",
    "                             name = 'Daily Hospitalisation with Covid',\n",
    "                             mode = 'lines',\n",
    "                             customdata = hospital_cc_df['Column'],\n",
    "                             hovertemplate = \"<b>%{customdata}</b><br><br>\" +\n",
    "                                            \"Date: %{x|%d %b %Y} <br>\" +\n",
    "                                            \"Daily Hospitalisation with Covid: %{y:,.}<br>\"+\n",
    "                                             \"<extra></extra>\",\n",
    "                             line = dict(color = \"red\"))\n",
    "\n",
    "icu = go.Scatter(x = icu_cc_df['Date'],\n",
    "                             y = icu_cc_df['Daily Cases'],\n",
    "                             name = 'Daily ICU Numbers',\n",
    "                             mode = 'lines',\n",
    "                             customdata = icu_cc_df['Column'],\n",
    "                             hovertemplate = \"<b>%{customdata}</b><br><br>\" +\n",
    "                                            \"Date: %{x|%d %b %Y} <br>\" +\n",
    "                                            \"Daily Hospitalisation with Covid: %{y:,.}<br>\"+\n",
    "                                             \"<extra></extra>\",\n",
    "                             line = dict(color = \"black\"))\n",
    "\n",
    "data = [age, hospitalisation, icu]\n",
    "\n",
    "layout = dict(\n",
    "    title = 'Covid-19 Cases',\n",
    "    yaxis_title = 'Covid-19 Cases',\n",
    "    autosize = False, width = 800, height = 600,\n",
    "    xaxis=dict(\n",
    "        rangeselector=dict(\n",
    "            buttons=list([\n",
    "                            dict(count = 7, step = \"day\", stepmode = \"backward\", label = \"1W\"),\n",
    "                            dict(count = 1, step = \"month\", stepmode = \"backward\", label = \"1M\"),\n",
    "                            dict(count = 3, step = \"month\", stepmode = \"backward\", label = \"3M\"),\n",
    "                            dict(count = 6, step = \"month\", stepmode = \"backward\", label = \"6M\"),\n",
    "                            dict(count = 1, step = \"year\", stepmode = \"backward\", label = \"1Y\"),\n",
    "                            dict(count = 2, step = \"year\", stepmode = \"backward\", label = \"2Y\"),\n",
    "                            dict(count = 5, step = \"year\", stepmode = \"backward\", label = \"5Y\"),\n",
    "                            dict(count = 1, step = \"all\", stepmode = \"backward\", label = \"MAX\"),\n",
    "                            dict(count = 1, step = \"year\", stepmode = \"todate\", label = \"YTD\")])\n",
    "        ),\n",
    "        rangeslider=dict(\n",
    "            visible = True\n",
    "        ),\n",
    "        type='date'\n",
    "    )\n",
    ")\n",
    "\n",
    "fig = go.FigureWidget(data=data, layout=layout)\n",
    "# fig.update_layout(showlegend=False)\n",
    "fig.update_layout(legend=dict(\n",
    "    orientation=\"h\",\n",
    "    yanchor=\"bottom\",\n",
    "    y=-0.5,\n",
    "    xanchor=\"right\",\n",
    "    x=1\n",
    "))\n",
    "\n",
    "\n",
    "\n",
    "fig.show()"
   ]
  },
  {
   "cell_type": "markdown",
   "id": "123787b5",
   "metadata": {},
   "source": [
    "### Plotly Graph 2"
   ]
  },
  {
   "cell_type": "code",
   "execution_count": null,
   "id": "155e4d86",
   "metadata": {},
   "outputs": [],
   "source": [
    "age_list = ['0-4','5-14','15-24', '25-34', '35-44', '45-54', '55-64','65-74', '75-84','85+']\n",
    "\n",
    "\n",
    "fig = make_subplots(rows=4, cols=1, shared_xaxes=True, subplot_titles=[\n",
    "        'Covid Cases in Age Range',\n",
    "        'Hospitalisation with Covid Cases in Age Range'])\n",
    "\n",
    "# Loop through the suburbs\n",
    "for age in age_list:\n",
    "  \t# Subset the DataFrame\n",
    "\n",
    "    new_aged_df = aged_df[aged_df['Age_Range'] == age]\n",
    "    # Add a trace for each suburb subset\n",
    "    fig.add_trace(go.Scatter(\n",
    "                x=new_aged_df['Date'],\n",
    "                y=new_aged_df['Daily Cases'],\n",
    "                name=age, \n",
    "                mode='lines',\n",
    "                customdata = new_aged_df['Age_Range'],\n",
    "                hovertemplate=\"<b>Age Range: %{customdata}</b><br><br>\" +\n",
    "                                    \"Date: %{x|%d %b %Y} <br>\" +\n",
    "                                    \"Daily Covid-19 Cases: %{y:,.}<br>\"+\n",
    "                                    \"<extra></extra>\"), row = 1, col = 1)\n",
    "\n",
    "# Loop through the suburbs\n",
    "for age in age_list:\n",
    "    \n",
    "  \t# Subset the DataFrame\n",
    "    new_h_df = hospitalised_df[hospitalised_df['Age_Range'] == age]\n",
    "    # Add a trace for each suburb subset\n",
    "    fig.add_trace(go.Scatter(\n",
    "                x=new_h_df['Date'],\n",
    "                y=new_h_df['Daily Cases'],\n",
    "                name=age, \n",
    "                mode='lines',\n",
    "                customdata = new_h_df['Age_Range'],\n",
    "                hovertemplate=\"<b>Age Range: %{customdata}</b><br><br>\" +\n",
    "                                    \"Date: %{x|%d %b %Y} <br>\" +\n",
    "                                    \"Hospitalised Covid-19 Cases: %{y:,.}<br>\"+\n",
    "                                    \"<extra></extra>\"), row = 2, col = 1)\n",
    "\n",
    "\n",
    "# Create the buttons\n",
    "dropdown_buttons = [\n",
    "{'label': \"0-4\", 'method': 'update', 'args': [{\"visible\": [True, False, False, False, \n",
    "                                                            False, False, False, False, True]}, \n",
    "                                              {\"title\": \"0-4\"}]},\n",
    "{'label': \"5-14\", 'method': 'update', 'args': [{\"visible\": [False,True, False, False, \n",
    "                                                            False, False, False, False, False]}, \n",
    "                                               {\"title\": \"5-15\"}]},\n",
    "{'label': \"15-24\", 'method': 'update', 'args': [{\"visible\": [False,False, True, False, \n",
    "                                                             False, False, False, False, False]}, \n",
    "                                                {\"title\": \"15-14\"}]},\n",
    "{'label': \"25-34\", 'method': 'update', 'args': [{\"visible\": [False,False, False, True, \n",
    "                                                             False, False, False, False, False]}, \n",
    "                                                {\"title\": \"25-34\"}]},\n",
    "{'label': \"35-44\", 'method': 'update', 'args': [{\"visible\": [False,False, False, False, \n",
    "                                                             True, False, False, False, False]}, \n",
    "                                                {\"title\": \"35-44\"}]},\n",
    "{'label': \"45-54\", 'method': 'update', 'args': [{\"visible\": [False, False, False, False, \n",
    "                                                             False, True, False, False, False]}, \n",
    "                                                {\"title\": \"45-54\"}]},\n",
    "{'label': \"55-64\", 'method': 'update', 'args': [{\"visible\": [False, False, False, False, \n",
    "                                                             False, False, True, False, False]}, \n",
    "                                                {\"title\": \"55-64\"}]},\n",
    "{'label': \"65-74\", 'method': 'update', 'args': [{\"visible\": [False, False, False, False, \n",
    "                                                             False, False, False, True, False]}, \n",
    "                                                {\"title\": \"65-74\"}]},\n",
    "{'label': \"75-84\", 'method': 'update', 'args': [{\"visible\": [False, False, False, False, \n",
    "                                                             False, False, False, False, True]}, \n",
    "                                                {\"title\": \"75-84\"}]},\n",
    "{'label': \"85+\", 'method': 'update', 'args': [{\"visible\": [False,False, False, False, \n",
    "                                                            False, False, False, False, True]}, \n",
    "                                              {\"title\": \"85+\"}]},\n",
    "]\n",
    "\n",
    "fig.update_layout(\n",
    "    title = 'Hospitalised Covid Cases for each Age Range',\n",
    "    yaxis_title = 'Daily Cases',\n",
    "    xaxis=dict(\n",
    "        rangeselector=dict(\n",
    "            buttons=list([\n",
    "                            dict(count = 7, step = \"day\", stepmode = \"backward\", label = \"1W\"),\n",
    "                            dict(count = 1, step = \"month\", stepmode = \"backward\", label = \"1M\"),\n",
    "                            dict(count = 3, step = \"month\", stepmode = \"backward\", label = \"3M\"),\n",
    "                            dict(count = 6, step = \"month\", stepmode = \"backward\", label = \"6M\"),\n",
    "                            dict(count = 1, step = \"year\", stepmode = \"backward\", label = \"1Y\"),\n",
    "                            dict(count = 1, step = \"all\", stepmode = \"backward\", label = \"MAX\"),\n",
    "                            dict(count = 1, step = \"year\", stepmode = \"todate\", label = \"YTD\")])\n",
    "        ),\n",
    "        rangeslider=dict(\n",
    "            visible = True\n",
    "        ),\n",
    "        type='date'\n",
    "    ))\n",
    "\n",
    "\n",
    "\n",
    "fig.update_layout(showlegend=False)\n",
    "fig.update_layout(xaxis_rangeslider_visible = False)\n",
    "\n",
    "\n",
    "# Update the figure to add dropdown menu\n",
    "fig.update_layout({\n",
    "  \t\t'updatemenus': [{'active': 0, 'buttons': dropdown_buttons}]})\n",
    "\n",
    "# Show the plot\n",
    "fig.show()\n",
    "\n"
   ]
  },
  {
   "cell_type": "code",
   "execution_count": null,
   "id": "951f5ff4",
   "metadata": {},
   "outputs": [],
   "source": []
  },
  {
   "cell_type": "markdown",
   "id": "896b1aa2",
   "metadata": {},
   "source": [
    "### Plotly Graph 3 - Bar Columns"
   ]
  },
  {
   "cell_type": "code",
   "execution_count": null,
   "id": "f70e4aba",
   "metadata": {},
   "outputs": [],
   "source": [
    "fig = px.bar(aged_and_hospitalised_df, \n",
    "             x=\"Age_Range\", \n",
    "             y=\"Daily Cases\", \n",
    "             color=\"Column\",\n",
    "             animation_frame=\"Date\", \n",
    "             animation_group=\"Age_Range\", \n",
    "             range_y=[0,700],\n",
    "             barmode='group',\n",
    "            category_orders={\"Age_Range\": ['0-4','5-14','15-24', '25-34', '35-44', \n",
    "                                           '45-54', '55-64','65-74', '75-84','85+']})\n",
    "fig.show()"
   ]
  },
  {
   "cell_type": "markdown",
   "id": "7cece5d0",
   "metadata": {},
   "source": [
    "### Plotly Graph 4"
   ]
  },
  {
   "cell_type": "code",
   "execution_count": null,
   "id": "a446f69c",
   "metadata": {},
   "outputs": [],
   "source": [
    "# ZOOMING IN\n",
    "# https://community.plotly.com/t/y-axis-autoscaling-with-x-range-sliders/10245/4\n",
    "fig = make_subplots(specs=[[{\"secondary_y\": True}]])\n",
    "\n",
    "\n",
    "fig.add_trace(go.Bar(x = confirmed_cc_df['Date'],\n",
    "                y = confirmed_cc_df['Daily Cases'],\n",
    "                hovertemplate=\"<b>Confirmed Covid Cases</b><br><br>\" +\n",
    "                                    \"Date: %{x|%d %b %Y} <br>\" +\n",
    "                                    \"Daily Covid Cases: %{y:,.}<br>\"+\n",
    "                                    \"<extra></extra>\"), secondary_y = False)\n",
    "\n",
    "fig.add_trace(go.Scatter(x = median_age_df['Date'],\n",
    "                             y = median_age_df['Median Age'],\n",
    "                            hovertemplate=\"<b>Median Age</b><br><br>\" +\n",
    "                                    \"Date: %{x|%d %b %Y} <br>\" +\n",
    "                                    \"Median Age: %{y:,.}<br>\"+\n",
    "                                    \"<extra></extra>\",\n",
    "                             line = dict(color=\"blue\")), secondary_y = True)\n",
    "\n",
    "\n",
    "fig.update_xaxes(\n",
    "    rangeslider_visible = True,\n",
    "    rangeselector = dict(\n",
    "        buttons = list([\n",
    "                        dict(count = 7, step = \"day\", stepmode = \"backward\", label = \"1W\"),\n",
    "                        dict(count = 1, step = \"month\", stepmode = \"backward\", label = \"1M\"),\n",
    "                        dict(count = 3, step = \"month\", stepmode = \"backward\", label = \"3M\"),\n",
    "                        dict(count = 6, step = \"month\", stepmode = \"backward\", label = \"6M\"),\n",
    "                        dict(count = 1, step = \"year\", stepmode = \"backward\", label = \"1Y\"),\n",
    "                        dict(count = 1, step = \"all\", stepmode = \"backward\", label = \"MAX\"),\n",
    "                        dict(count = 1, step = \"year\", stepmode = \"todate\", label = \"YTD\")])))\n",
    "fig.update_layout(xaxis_rangeslider_visible = False)\n",
    "\n",
    "# Set y-axes titles\n",
    "fig.update_yaxes(title_text=\"Covid-19 Cases\", secondary_y=False)\n",
    "fig.update_yaxes(title_text=\"Median Age\", secondary_y=True)\n",
    "\n",
    "fig.update_layout(showlegend=False)\n",
    "# Add title\n",
    "fig.update_layout(\n",
    "        title = 'Confirmed Covid Cases and Median Age',\n",
    "        title_font_size = 20)\n",
    "\n",
    "fig.show()\n"
   ]
  },
  {
   "cell_type": "markdown",
   "id": "cc4991db",
   "metadata": {},
   "source": [
    "### Plotly Graph 5"
   ]
  },
  {
   "cell_type": "code",
   "execution_count": null,
   "id": "901af561",
   "metadata": {},
   "outputs": [],
   "source": []
  },
  {
   "cell_type": "code",
   "execution_count": null,
   "id": "9b907d80",
   "metadata": {},
   "outputs": [],
   "source": []
  }
 ],
 "metadata": {
  "kernelspec": {
   "display_name": "Python 3 (ipykernel)",
   "language": "python",
   "name": "python3"
  },
  "language_info": {
   "codemirror_mode": {
    "name": "ipython",
    "version": 3
   },
   "file_extension": ".py",
   "mimetype": "text/x-python",
   "name": "python",
   "nbconvert_exporter": "python",
   "pygments_lexer": "ipython3",
   "version": "3.9.7"
  }
 },
 "nbformat": 4,
 "nbformat_minor": 5
}
