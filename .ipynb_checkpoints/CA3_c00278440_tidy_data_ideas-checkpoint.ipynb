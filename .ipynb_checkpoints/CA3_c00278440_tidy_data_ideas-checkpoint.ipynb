{
 "cells": [
  {
   "cell_type": "markdown",
   "id": "3e7e49cd",
   "metadata": {},
   "source": [
    "# Assignment 3\n",
    "\n",
    "\n",
    "- Student Name: Karina Jonina\n",
    "- Student ID: c00278440\n",
    "\n",
    "- Module Name: Programming for Data Scientists\n",
    "- Module Code: PROGC5201\n",
    "- Module Leader: Paul Barry\n",
    "\n",
    "- Course Name: \t\tMaster of Science in Data Science\n",
    "- Course Code:\t\t CW_KCDAR_M Y5\n",
    "\n",
    "- Due Date: 10th January 2022 9:00am"
   ]
  },
  {
   "cell_type": "code",
   "execution_count": null,
   "id": "a9df109a",
   "metadata": {},
   "outputs": [],
   "source": [
    "import pandas as pd\n",
    "import datetime\n",
    "from os import listdir\n",
    "from os.path import isfile, join\n",
    "import glob\n",
    "import re"
   ]
  },
  {
   "cell_type": "code",
   "execution_count": null,
   "id": "b051bad8",
   "metadata": {},
   "outputs": [],
   "source": [
    "# gettting the CSV from the website\n",
    "url = 'https://opendata-geohive.hub.arcgis.com/datasets/d8eb52d56273413b84b0187a4e9117be_0.csv?outSR=%7B%22latestWkid%22%3A3857%2C%22wkid%22%3A102100%7D.'\n",
    "\n",
    "df = pd.read_csv(url, parse_dates = [\"Date\"])"
   ]
  },
  {
   "cell_type": "code",
   "execution_count": null,
   "id": "29f89ea1",
   "metadata": {},
   "outputs": [],
   "source": [
    "df.head()"
   ]
  },
  {
   "cell_type": "code",
   "execution_count": null,
   "id": "f51f50f4",
   "metadata": {},
   "outputs": [],
   "source": [
    "# examiningcolumnsand rows\n",
    "df.shape"
   ]
  },
  {
   "cell_type": "code",
   "execution_count": null,
   "id": "410f616b",
   "metadata": {},
   "outputs": [],
   "source": [
    "# checking type for each column\n",
    "df.info()"
   ]
  },
  {
   "cell_type": "code",
   "execution_count": null,
   "id": "463eb1f3",
   "metadata": {},
   "outputs": [],
   "source": [
    "# examining the names of the columns\n",
    "df.columns"
   ]
  },
  {
   "cell_type": "code",
   "execution_count": null,
   "id": "b09ae6ae",
   "metadata": {},
   "outputs": [],
   "source": [
    "# changing StatisticsProfileDate to datetime \n",
    "df[\"StatisticsProfileDate\"] #= pd.to_datetime(df[\"StatisticsProfileDate\"], errors='ignore')"
   ]
  },
  {
   "cell_type": "markdown",
   "id": "57bcc897",
   "metadata": {},
   "source": [
    "## Examining location\n",
    "Below exploration showed that there are no unique locations in the dataset and therefore, redundant. "
   ]
  },
  {
   "cell_type": "code",
   "execution_count": null,
   "id": "adbb13e2",
   "metadata": {},
   "outputs": [],
   "source": [
    "df['X'].unique()"
   ]
  },
  {
   "cell_type": "code",
   "execution_count": null,
   "id": "e78a15f9",
   "metadata": {},
   "outputs": [],
   "source": [
    "df['Y'].unique()"
   ]
  },
  {
   "cell_type": "markdown",
   "id": "5d2d1624",
   "metadata": {},
   "source": [
    "## Examining date\n",
    "Below exploration showed that there are are unique dates in the dataset. "
   ]
  },
  {
   "cell_type": "code",
   "execution_count": null,
   "id": "ec606b64",
   "metadata": {},
   "outputs": [],
   "source": [
    "df['Date'].unique()"
   ]
  },
  {
   "cell_type": "code",
   "execution_count": null,
   "id": "66081dd6",
   "metadata": {},
   "outputs": [],
   "source": [
    "df.head()"
   ]
  },
  {
   "cell_type": "markdown",
   "id": "203abc83",
   "metadata": {},
   "source": [
    "## Melting "
   ]
  },
  {
   "cell_type": "code",
   "execution_count": null,
   "id": "82b909a5",
   "metadata": {},
   "outputs": [],
   "source": [
    "# Melting\n",
    "id_vars = [\"X\",\"Y\",\"Date\"]\n",
    "\n",
    "df = pd.melt(frame=df,id_vars=id_vars, var_name=\"column\", value_name=\"cases\")\n",
    "\n",
    "df.head(10)\n"
   ]
  },
  {
   "cell_type": "markdown",
   "id": "012e8db8",
   "metadata": {},
   "source": [
    "### Dropping cases"
   ]
  },
  {
   "cell_type": "code",
   "execution_count": null,
   "id": "68d599b5",
   "metadata": {},
   "outputs": [],
   "source": [
    "df = df[[\n",
    "    \"Date\",\n",
    "    \"column\",\n",
    "    \"cases\"\n",
    "    \n",
    "]]"
   ]
  },
  {
   "cell_type": "code",
   "execution_count": null,
   "id": "e582a45a",
   "metadata": {},
   "outputs": [],
   "source": [
    "df.head()"
   ]
  },
  {
   "cell_type": "markdown",
   "id": "a3a5cdd8",
   "metadata": {},
   "source": [
    "# Hospitalisations"
   ]
  },
  {
   "cell_type": "code",
   "execution_count": null,
   "id": "b2a16857",
   "metadata": {},
   "outputs": [],
   "source": [
    "hospitalised_df = df[df['column'].str.contains(\"Hospitalised\")]\n",
    "hospitalised_df.head()"
   ]
  },
  {
   "cell_type": "code",
   "execution_count": null,
   "id": "4d3cba9c",
   "metadata": {},
   "outputs": [],
   "source": [
    "hospitalised_df['column'].unique()"
   ]
  },
  {
   "cell_type": "code",
   "execution_count": null,
   "id": "96332456",
   "metadata": {},
   "outputs": [],
   "source": [
    "#hospitalised_df.iloc[:,1] = hospitalised_df.iloc[:,1].str.lstrip(\"Hospitalised\")"
   ]
  },
  {
   "cell_type": "code",
   "execution_count": null,
   "id": "2ec2caf8",
   "metadata": {},
   "outputs": [],
   "source": [
    "hospitalised_df['column'].tail()"
   ]
  },
  {
   "cell_type": "code",
   "execution_count": null,
   "id": "16a2993a",
   "metadata": {},
   "outputs": [],
   "source": [
    "hospitalised_df['column'].unique()"
   ]
  },
  {
   "cell_type": "code",
   "execution_count": null,
   "id": "adcd7ed9",
   "metadata": {},
   "outputs": [],
   "source": [
    "test = \"Aged5to14\"\n",
    "\n",
    "match = re.search(\"(\\D+)(\\d+)(\\D{2})(\\d{2})\", test)\n",
    "print(match[0])\n",
    "print(match[1]) # Aged\n",
    "print(match[2]) # 5\n",
    "print(match[3]) # to\n",
    "print(match[4]) # 14\n",
    "print()"
   ]
  },
  {
   "cell_type": "code",
   "execution_count": null,
   "id": "8c3f313a",
   "metadata": {},
   "outputs": [],
   "source": [
    "hospitalised_df[\"column\"]"
   ]
  },
  {
   "cell_type": "code",
   "execution_count": null,
   "id": "08ebe964",
   "metadata": {},
   "outputs": [],
   "source": [
    "tmp_df = hospitalised_df[\"column\"].str.extract(\"(\\D+)(\\d+)(\\D{2})(\\d{2})\", expand=False)    \n",
    "\n",
    "\n",
    "# Name columns\n",
    "tmp_df.columns = [\"Aged\", \"age_lower\",\"to\", \"age_upper\"]\n",
    "\n",
    "# Create `age`column based on `age_lower` and `age_upper`\n",
    "tmp_df[\"age\"] = tmp_df[\"age_lower\"] + \"-\" + tmp_df[\"age_upper\"]\n",
    "\n",
    "tmp_df.head(15)"
   ]
  },
  {
   "cell_type": "code",
   "execution_count": null,
   "id": "297495ef",
   "metadata": {},
   "outputs": [],
   "source": [
    "# Merge \n",
    "hospitalised_df = pd.concat([hospitalised_df, tmp_df], axis=1)\n",
    "\n",
    "# Drop unnecessary columns and rows\n",
    "hospitalised_df = hospitalised_df.drop(['column',\"age_lower\",\"to\",\"age_upper\" ], axis=1)\n",
    "hospitalised_df = hospitalised_df.dropna()\n",
    "hospitalised_df = hospitalised_df.sort_values(ascending = True,by = [\"Date\"])\n",
    "hospitalised_df[\"cases\"] = hospitalised_df[\"cases\"].astype(int)\n",
    "\n"
   ]
  },
  {
   "cell_type": "code",
   "execution_count": null,
   "id": "592e4db0",
   "metadata": {},
   "outputs": [],
   "source": [
    "\n",
    "hospitalised_df[\"Aged\"] = hospitalised_df[\"Aged\"].str.rstrip(\"Aged\")\n",
    "hospitalised_df.head(25)"
   ]
  },
  {
   "cell_type": "markdown",
   "id": "28276fa3",
   "metadata": {},
   "source": [
    "# Ages"
   ]
  },
  {
   "cell_type": "code",
   "execution_count": null,
   "id": "26f4047f",
   "metadata": {},
   "outputs": [],
   "source": [
    "aged_df = df[df[\"column\"].str.contains(\"^Aged\")]"
   ]
  },
  {
   "cell_type": "code",
   "execution_count": null,
   "id": "b8a9eff3",
   "metadata": {},
   "outputs": [],
   "source": [
    "aged_df.head()"
   ]
  },
  {
   "cell_type": "code",
   "execution_count": null,
   "id": "2e909d9e",
   "metadata": {},
   "outputs": [],
   "source": [
    "aged_df[\"column\"].unique()"
   ]
  },
  {
   "cell_type": "code",
   "execution_count": null,
   "id": "bb6399cc",
   "metadata": {},
   "outputs": [],
   "source": [
    "test = \"Aged1to4\"\n",
    "\n",
    "match = re.search(\"(\\D+)(\\d+)(\\D{2})(\\d)\", test)\n",
    "print(match[0])\n",
    "print(match[1]) # Aged\n",
    "print(match[2]) # number \n",
    "print(match[3]) # to\n",
    "print(match[4]) # number\n",
    "print()\n",
    "\n",
    "\n",
    "\n",
    "test = \"Aged35to44\"\n",
    "\n",
    "# incorrectly drops the \n",
    "match = re.search(\"(\\D+)(\\d+)(\\D{2})(\\d+)\", test)\n",
    "print(match[0])\n",
    "print(match[1]) # Aged\n",
    "print(match[2]) # number \n",
    "print(match[3]) # to\n",
    "print(match[4]) # number\n",
    "print()\n",
    "\n"
   ]
  },
  {
   "cell_type": "code",
   "execution_count": null,
   "id": "18114a91",
   "metadata": {},
   "outputs": [],
   "source": [
    "tmp_df = aged_df[\"column\"].str.extract(\"(\\D+)(\\d+)(\\D{2})(\\d+)\", expand=False)    \n",
    "\n",
    "\n",
    "# Name columns\n",
    "tmp_df.columns = [\"Aged\", \"age_lower\",\"to\", \"age_upper\"]\n",
    "\n",
    "# Create `age`column based on `age_lower` and `age_upper`\n",
    "tmp_df[\"age\"] = tmp_df[\"age_lower\"] + \"-\" + tmp_df[\"age_upper\"]\n",
    "\n",
    "tmp_df.head(15)"
   ]
  },
  {
   "cell_type": "code",
   "execution_count": null,
   "id": "a61b9e48",
   "metadata": {},
   "outputs": [],
   "source": [
    "# Merge \n",
    "aged_df = pd.concat([aged_df, tmp_df], axis=1)\n",
    "\n",
    "# Drop unnecessary columns and rows\n",
    "aged_df = aged_df.drop(['column',\"age_lower\",\"to\",\"age_upper\" ], axis=1)\n",
    "aged_df = aged_df.dropna()\n",
    "aged_df = aged_df.sort_values(ascending = True,by = [\"Date\"])\n",
    "aged_df[\"cases\"] = aged_df[\"cases\"].astype(int)\n",
    "aged_df.head(25)"
   ]
  },
  {
   "cell_type": "code",
   "execution_count": null,
   "id": "bbc4da8d",
   "metadata": {},
   "outputs": [],
   "source": []
  },
  {
   "cell_type": "markdown",
   "id": "f0cdf862",
   "metadata": {},
   "source": [
    "### Getting the final DF"
   ]
  },
  {
   "cell_type": "code",
   "execution_count": null,
   "id": "ca38a3e2",
   "metadata": {},
   "outputs": [],
   "source": [
    "# Merge \n",
    "df = pd.merge(df, aged_df, on=[\"Date\"])\n",
    "df = pd.merge(df, hospitalised_df, on=[\"Date\"])\n",
    "\n",
    "# Drop unnecessary columns and rows\n",
    "df = df.sort_values(ascending = True,by = [\"Date\"])\n",
    "df[\"cases\"] = df[\"cases\"].astype(int)\n",
    "df.head(25)"
   ]
  },
  {
   "cell_type": "code",
   "execution_count": null,
   "id": "0740d03a",
   "metadata": {},
   "outputs": [],
   "source": []
  },
  {
   "cell_type": "code",
   "execution_count": null,
   "id": "5cd0ff04",
   "metadata": {},
   "outputs": [],
   "source": [
    "#df.to_csv(r\"df.csv\", index =  False)"
   ]
  },
  {
   "cell_type": "code",
   "execution_count": null,
   "id": "6a26cec3",
   "metadata": {},
   "outputs": [],
   "source": []
  }
 ],
 "metadata": {
  "kernelspec": {
   "display_name": "Python 3 (ipykernel)",
   "language": "python",
   "name": "python3"
  },
  "language_info": {
   "codemirror_mode": {
    "name": "ipython",
    "version": 3
   },
   "file_extension": ".py",
   "mimetype": "text/x-python",
   "name": "python",
   "nbconvert_exporter": "python",
   "pygments_lexer": "ipython3",
   "version": "3.9.7"
  }
 },
 "nbformat": 4,
 "nbformat_minor": 5
}
