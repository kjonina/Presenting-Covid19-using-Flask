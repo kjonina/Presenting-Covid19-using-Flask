{
 "cells": [
  {
   "cell_type": "markdown",
   "id": "ab98e796",
   "metadata": {},
   "source": [
    "# Assignment 3\n",
    "\n",
    "\n",
    "- Student Name: Karina Jonina\n",
    "- Student ID: c00278440\n",
    "\n",
    "- Module Name: Programming for Data Scientists\n",
    "- Module Code: PROGC5201\n",
    "- Module Leader: Paul Barry\n",
    "\n",
    "- Course Name: \t\tMaster of Science in Data Science\n",
    "- Course Code:\t\t CW_KCDAR_M Y5\n",
    "\n",
    "- Due Date: 10th January 2022 9:00am"
   ]
  },
  {
   "cell_type": "code",
   "execution_count": null,
   "id": "7e99b816",
   "metadata": {},
   "outputs": [],
   "source": [
    "import pandas as pd\n",
    "import datetime\n",
    "from os import listdir\n",
    "from os.path import isfile, join\n",
    "import glob\n",
    "import re"
   ]
  },
  {
   "cell_type": "code",
   "execution_count": null,
   "id": "ddb34520",
   "metadata": {},
   "outputs": [],
   "source": [
    "# gettting the CSV from the website\n",
    "url = 'https://opendata-geohive.hub.arcgis.com/datasets/d8eb52d56273413b84b0187a4e9117be_0.csv?outSR=%7B%22latestWkid%22%3A3857%2C%22wkid%22%3A102100%7D'\n",
    "df = pd.read_csv(url)"
   ]
  },
  {
   "cell_type": "code",
   "execution_count": null,
   "id": "bdf5ba9c",
   "metadata": {},
   "outputs": [],
   "source": [
    "df.head()"
   ]
  },
  {
   "cell_type": "code",
   "execution_count": null,
   "id": "2cb6838d",
   "metadata": {},
   "outputs": [],
   "source": [
    "# examining the names of the columns\n",
    "df.columns"
   ]
  },
  {
   "cell_type": "markdown",
   "id": "6ef20d67",
   "metadata": {},
   "source": [
    "### Melting "
   ]
  },
  {
   "cell_type": "code",
   "execution_count": null,
   "id": "4a521386",
   "metadata": {},
   "outputs": [],
   "source": [
    "# Melting\n",
    "id_vars = [\"X\",\"Y\",\"Date\"]\n",
    "\n",
    "df = pd.melt(frame=df,id_vars=id_vars, var_name=\"column\", value_name=\"cases\")\n",
    "\n",
    "df.head(10)"
   ]
  },
  {
   "cell_type": "markdown",
   "id": "00942c19",
   "metadata": {},
   "source": [
    "# Hospitalisations"
   ]
  },
  {
   "cell_type": "code",
   "execution_count": null,
   "id": "f2e84f4d",
   "metadata": {},
   "outputs": [],
   "source": [
    "hospitalised_df = df[df['column'].str.contains(\"Hospitalised\")]\n",
    "hospitalised_df.head()"
   ]
  },
  {
   "cell_type": "code",
   "execution_count": null,
   "id": "912dd579",
   "metadata": {},
   "outputs": [],
   "source": [
    "hospitalised_df['column'].unique()"
   ]
  },
  {
   "cell_type": "code",
   "execution_count": null,
   "id": "05e56741",
   "metadata": {},
   "outputs": [],
   "source": [
    "hospitalised_df.iloc[:,3] = hospitalised_df.iloc[:,3].str.lstrip(\"Hospitalised\")"
   ]
  },
  {
   "cell_type": "code",
   "execution_count": null,
   "id": "5829935a",
   "metadata": {},
   "outputs": [],
   "source": [
    "hospitalised_df['column'].tail()"
   ]
  },
  {
   "cell_type": "code",
   "execution_count": null,
   "id": "7687ca55",
   "metadata": {},
   "outputs": [],
   "source": [
    "hospitalised_df['column'].unique()"
   ]
  },
  {
   "cell_type": "code",
   "execution_count": null,
   "id": "ea4705ca",
   "metadata": {},
   "outputs": [],
   "source": [
    "test = \"Aged5to14\"\n",
    "\n",
    "match = re.search(\"(\\D+)(\\d+)(\\D{2})(\\d{2})\", test)\n",
    "print(match[0])\n",
    "print(match[1]) # Aged\n",
    "print(match[2]) # 5\n",
    "print(match[3]) # to\n",
    "print(match[4]) # 14\n",
    "print()"
   ]
  },
  {
   "cell_type": "code",
   "execution_count": null,
   "id": "73b97634",
   "metadata": {},
   "outputs": [],
   "source": [
    "hospitalised_df[\"column\"]"
   ]
  },
  {
   "cell_type": "code",
   "execution_count": null,
   "id": "0a0796f5",
   "metadata": {},
   "outputs": [],
   "source": [
    "tmp_df = hospitalised_df[\"column\"].str.extract(\"(\\D+)(\\d+)(\\D{2})(\\d{2})\", expand=False)    \n",
    "\n",
    "\n",
    "# Name columns\n",
    "tmp_df.columns = [\"Aged\", \"age_lower\",\"to\", \"age_upper\"]\n",
    "\n",
    "# Create `age`column based on `age_lower` and `age_upper`\n",
    "tmp_df[\"age\"] = tmp_df[\"age_lower\"] + \"-\" + tmp_df[\"age_upper\"]\n",
    "\n",
    "tmp_df.head(15)"
   ]
  },
  {
   "cell_type": "code",
   "execution_count": null,
   "id": "5a1e87dd",
   "metadata": {},
   "outputs": [],
   "source": [
    "# Merge \n",
    "hospitalised_df = pd.concat([hospitalised_df, tmp_df], axis=1)\n",
    "\n",
    "# Drop unnecessary columns and rows\n",
    "hospitalised_df = hospitalised_df.drop(['column',\"Aged\",\"age_lower\",\"to\",\"age_upper\" ], axis=1)\n",
    "hospitalised_df = hospitalised_df.dropna()\n",
    "hospitalised_df = hospitalised_df.sort_values(ascending = True,by = [\"Date\"])\n",
    "hospitalised_df[\"cases\"] = hospitalised_df[\"cases\"].astype(int)\n",
    "hospitalised_df.head(25)"
   ]
  },
  {
   "cell_type": "markdown",
   "id": "29014959",
   "metadata": {},
   "source": [
    "# Ages"
   ]
  },
  {
   "cell_type": "code",
   "execution_count": null,
   "id": "22619d14",
   "metadata": {},
   "outputs": [],
   "source": [
    "aged_df = df[df[\"column\"].str.contains(\"^Aged\")]"
   ]
  },
  {
   "cell_type": "code",
   "execution_count": null,
   "id": "83a55c6f",
   "metadata": {},
   "outputs": [],
   "source": [
    "aged_df.head()"
   ]
  },
  {
   "cell_type": "code",
   "execution_count": null,
   "id": "5c5e37c1",
   "metadata": {},
   "outputs": [],
   "source": [
    "aged_df[\"column\"].unique()"
   ]
  },
  {
   "cell_type": "code",
   "execution_count": null,
   "id": "d0b0a792",
   "metadata": {},
   "outputs": [],
   "source": [
    "test = \"Aged1to4\"\n",
    "\n",
    "match = re.search(\"(\\D+)(\\d+)(\\D{2})(\\d)\", test)\n",
    "print(match[0])\n",
    "print(match[1]) # Aged\n",
    "print(match[2]) # number \n",
    "print(match[3]) # to\n",
    "print(match[4]) # number\n",
    "print()\n",
    "\n",
    "\n",
    "\n",
    "test = \"Aged35to44\"\n",
    "\n",
    "match = re.search(\"(\\D+)(\\d+)(\\D{2})(\\d)\", test)\n",
    "print(match[0])\n",
    "print(match[1]) # Aged\n",
    "print(match[2]) # number \n",
    "print(match[3]) # to\n",
    "print(match[4]) # number\n",
    "print()\n",
    "\n"
   ]
  },
  {
   "cell_type": "code",
   "execution_count": null,
   "id": "b8108259",
   "metadata": {},
   "outputs": [],
   "source": [
    "tmp_df = aged_df[\"column\"].str.extract(\"(\\D+)(\\d+)(\\D{2})(\\d)\", expand=False)    \n",
    "\n",
    "\n",
    "# Name columns\n",
    "tmp_df.columns = [\"Aged\", \"age_lower\",\"to\", \"age_upper\"]\n",
    "\n",
    "# Create `age`column based on `age_lower` and `age_upper`\n",
    "tmp_df[\"age\"] = tmp_df[\"age_lower\"] + \"-\" + tmp_df[\"age_upper\"]\n",
    "\n",
    "tmp_df.head(15)"
   ]
  },
  {
   "cell_type": "code",
   "execution_count": null,
   "id": "d4008b7c",
   "metadata": {},
   "outputs": [],
   "source": [
    "# Merge \n",
    "aged_df = pd.concat([aged_df, tmp_df], axis=1)\n",
    "\n",
    "# Drop unnecessary columns and rows\n",
    "aged_df = aged_df.drop(['column',\"Aged\",\"age_lower\",\"to\",\"age_upper\" ], axis=1)\n",
    "aged_df = aged_df.dropna()\n",
    "aged_df = aged_df.sort_values(ascending = True,by = [\"Date\"])\n",
    "aged_df[\"cases\"] = aged_df[\"cases\"].astype(int)\n",
    "aged_df.head(25)"
   ]
  },
  {
   "cell_type": "code",
   "execution_count": null,
   "id": "961c2af0",
   "metadata": {},
   "outputs": [],
   "source": []
  },
  {
   "cell_type": "code",
   "execution_count": null,
   "id": "c385f3ad",
   "metadata": {},
   "outputs": [],
   "source": []
  },
  {
   "cell_type": "markdown",
   "id": "5d65eb11",
   "metadata": {},
   "source": [
    "# Getting dates and locations together"
   ]
  },
  {
   "cell_type": "code",
   "execution_count": null,
   "id": "02bc6311",
   "metadata": {},
   "outputs": [],
   "source": [
    "cols = [\"X\", \"Y\", \"Date\"]\n",
    "cols = df[cols].drop_duplicates()\n",
    "cols = cols.reset_index(drop=True)\n",
    "cols[\"index\"] = cols.index\n",
    "cols.head(25)"
   ]
  },
  {
   "cell_type": "code",
   "execution_count": null,
   "id": "2761b7b1",
   "metadata": {},
   "outputs": [],
   "source": [
    "cols.count()"
   ]
  },
  {
   "cell_type": "code",
   "execution_count": null,
   "id": "ccdecb40",
   "metadata": {},
   "outputs": [],
   "source": [
    "aged_df = pd.merge(aged_df, cols, on=[\"X\", \"Y\", \"Date\"])\n",
    "aged_df = aged_df[[\"index\", \"cases\",\"age\"]]\n",
    "aged_df.head(25)"
   ]
  },
  {
   "cell_type": "code",
   "execution_count": null,
   "id": "e2aa523c",
   "metadata": {},
   "outputs": [],
   "source": [
    "hospitalised_df = pd.merge(hospitalised_df, cols, on=[\"X\", \"Y\", \"Date\"])\n",
    "hospitalised_df = hospitalised_df[[\"index\", \"cases\",\"age\"]]\n",
    "hospitalised_df.head(25)"
   ]
  },
  {
   "cell_type": "code",
   "execution_count": null,
   "id": "dd251076",
   "metadata": {},
   "outputs": [],
   "source": []
  }
 ],
 "metadata": {
  "kernelspec": {
   "display_name": "Python 3 (ipykernel)",
   "language": "python",
   "name": "python3"
  },
  "language_info": {
   "codemirror_mode": {
    "name": "ipython",
    "version": 3
   },
   "file_extension": ".py",
   "mimetype": "text/x-python",
   "name": "python",
   "nbconvert_exporter": "python",
   "pygments_lexer": "ipython3",
   "version": "3.9.7"
  }
 },
 "nbformat": 4,
 "nbformat_minor": 5
}
