{
 "cells": [
  {
   "cell_type": "markdown",
   "id": "3e7e49cd",
   "metadata": {},
   "source": [
    "# Assignment 3\n",
    "\n",
    "\n",
    "- Student Name: Karina Jonina\n",
    "- Student ID: c00278440\n",
    "\n",
    "- Module Name: Programming for Data Scientists\n",
    "- Module Code: PROGC5201\n",
    "- Module Leader: Paul Barry\n",
    "\n",
    "- Course Name: \t\tMaster of Science in Data Science\n",
    "- Course Code:\t\t CW_KCDAR_M Y5\n",
    "\n",
    "- Due Date: 10th January 2022 9:00am"
   ]
  },
  {
   "cell_type": "code",
   "execution_count": null,
   "id": "a9df109a",
   "metadata": {},
   "outputs": [],
   "source": [
    "import pandas as pd\n",
    "import datetime\n",
    "from os import listdir\n",
    "from os.path import isfile, join\n",
    "import glob\n",
    "import re\n",
    "from datetime import datetime\n",
    "import numpy as np"
   ]
  },
  {
   "cell_type": "code",
   "execution_count": null,
   "id": "b051bad8",
   "metadata": {},
   "outputs": [],
   "source": [
    "# gettting the CSV from the website\n",
    "url = 'https://opendata-geohive.hub.arcgis.com/datasets/d8eb52d56273413b84b0187a4e9117be_0.csv?outSR=%7B%22latestWkid%22%3A3857%2C%22wkid%22%3A102100%7D.'\n",
    "# url = 'COVID-19.csv'\n",
    "df = pd.read_csv(url)\n"
   ]
  },
  {
   "cell_type": "code",
   "execution_count": null,
   "id": "29f89ea1",
   "metadata": {},
   "outputs": [],
   "source": [
    "# Ensuring the Date is just date, and not datetime\n",
    "df['Date'] = pd.to_datetime(df['Date']).dt.date\n",
    "df.head()"
   ]
  },
  {
   "cell_type": "code",
   "execution_count": null,
   "id": "f51f50f4",
   "metadata": {},
   "outputs": [],
   "source": [
    "# examining columns and rows\n",
    "df.shape"
   ]
  },
  {
   "cell_type": "code",
   "execution_count": null,
   "id": "410f616b",
   "metadata": {},
   "outputs": [],
   "source": [
    "# checking type for each column\n",
    "df.info()"
   ]
  },
  {
   "cell_type": "code",
   "execution_count": null,
   "id": "463eb1f3",
   "metadata": {},
   "outputs": [],
   "source": [
    "# examining the names of the columns\n",
    "df.columns"
   ]
  },
  {
   "cell_type": "markdown",
   "id": "57bcc897",
   "metadata": {},
   "source": [
    "## Examining location\n",
    "Below exploration showed that there are no unique locations in the dataset and therefore, redundant. "
   ]
  },
  {
   "cell_type": "code",
   "execution_count": null,
   "id": "adbb13e2",
   "metadata": {},
   "outputs": [],
   "source": [
    "df['X'].unique()"
   ]
  },
  {
   "cell_type": "code",
   "execution_count": null,
   "id": "e78a15f9",
   "metadata": {},
   "outputs": [],
   "source": [
    "df['Y'].unique()"
   ]
  },
  {
   "cell_type": "code",
   "execution_count": null,
   "id": "7d99f4f3",
   "metadata": {},
   "outputs": [],
   "source": [
    "df['CommunityTransmission'].unique()"
   ]
  },
  {
   "cell_type": "code",
   "execution_count": null,
   "id": "a9c341af",
   "metadata": {},
   "outputs": [],
   "source": [
    "df['CloseContact'].unique()"
   ]
  },
  {
   "cell_type": "code",
   "execution_count": null,
   "id": "ae237be4",
   "metadata": {},
   "outputs": [],
   "source": [
    "df['TravelAbroad'].unique()"
   ]
  },
  {
   "cell_type": "markdown",
   "id": "012e8db8",
   "metadata": {},
   "source": [
    "### Dropping Columns (X and Y)\n",
    "\n",
    "| Column | Reason |\n",
    "|---|---|\n",
    "| df['X'] | no unique values |\n",
    "| df['Y'] | no unique values |\n",
    "| df['StatisticsProfileDate'] | Very similar to df['Date']|\n",
    "| df['CovidCasesConfirmed'] | Very similar to df['Total Confirmed Covid Cases'] |\n",
    "| df['FID'] | very similar to Index in pandas |\n",
    "| df['CommunityTransmission'] | no unique values |\n",
    "| df['CloseContact'] | no unique values |\n",
    "| df['TravelAbroad'] | no unique values |\n"
   ]
  },
  {
   "cell_type": "code",
   "execution_count": null,
   "id": "b09ae6ae",
   "metadata": {},
   "outputs": [],
   "source": [
    "# Dropping irrelevant columns\n",
    "df = df.drop(columns = ['X','Y','CovidCasesConfirmed','StatisticsProfileDate', 'FID', \n",
    "                        'CommunityTransmission', 'CloseContact','TravelAbroad'])"
   ]
  },
  {
   "cell_type": "markdown",
   "id": "5d2d1624",
   "metadata": {},
   "source": [
    "## Examining date\n",
    "Below exploration showed that there are are unique dates in the dataset. "
   ]
  },
  {
   "cell_type": "code",
   "execution_count": null,
   "id": "ec606b64",
   "metadata": {},
   "outputs": [],
   "source": [
    "df['Date'].unique()"
   ]
  },
  {
   "cell_type": "markdown",
   "id": "203abc83",
   "metadata": {},
   "source": [
    "## Melting "
   ]
  },
  {
   "cell_type": "code",
   "execution_count": null,
   "id": "82b909a5",
   "metadata": {},
   "outputs": [],
   "source": [
    "# Melting\n",
    "id_vars = [\"Date\"]\n",
    "\n",
    "df = pd.melt(frame=df,id_vars=id_vars, var_name=\"Column\", value_name=\"Cases\")\n",
    "\n",
    "df.head(10)\n"
   ]
  },
  {
   "cell_type": "markdown",
   "id": "3075f5ca",
   "metadata": {},
   "source": [
    "# Getting the final dataset"
   ]
  },
  {
   "cell_type": "code",
   "execution_count": null,
   "id": "4b456cac",
   "metadata": {},
   "outputs": [],
   "source": [
    "df.head()"
   ]
  },
  {
   "cell_type": "code",
   "execution_count": null,
   "id": "cbbb44bd",
   "metadata": {},
   "outputs": [],
   "source": [
    "df['Age_Range'] = df['Column']\n",
    "df.tail()"
   ]
  },
  {
   "cell_type": "code",
   "execution_count": null,
   "id": "583a49b9",
   "metadata": {},
   "outputs": [],
   "source": [
    "df['Age_Range'] = df['Age_Range'].str.replace('to','-')"
   ]
  },
  {
   "cell_type": "code",
   "execution_count": null,
   "id": "421c5133",
   "metadata": {},
   "outputs": [],
   "source": [
    "df['Age_Range']= df['Age_Range'].str.replace('up','+')"
   ]
  },
  {
   "cell_type": "code",
   "execution_count": null,
   "id": "69c5baaf",
   "metadata": {},
   "outputs": [],
   "source": [
    "df['Age_Range']"
   ]
  },
  {
   "cell_type": "code",
   "execution_count": null,
   "id": "f31dcd23",
   "metadata": {},
   "outputs": [],
   "source": [
    "\n",
    "df['Age_Range']= df['Age_Range'].replace(\"TotalConfirmedCovidCases\", np.nan)\n",
    "df['Age_Range']= df['Age_Range'].replace(\"ConfirmedCovidCases\",np.nan)\n",
    "df['Age_Range']= df['Age_Range'].replace(\"TotalCovidDeaths\", np.nan)\n",
    "df['Age_Range']= df['Age_Range'].replace(\"ConfirmedCovidDeaths\",np.nan)\n",
    "df['Age_Range']= df['Age_Range'].replace(\"HospitalisedCovidCases\", np.nan)\n",
    "df['Age_Range']= df['Age_Range'].replace(\"RequiringICUCovidCases\", np.nan)\n",
    "df['Age_Range']= df['Age_Range'].replace(\"HealthcareWorkersCovidCases\", np.nan)\n",
    "df['Age_Range']= df['Age_Range'].replace(\"ClustersNotified\", np.nan)\n",
    "df['Age_Range']= df['Age_Range'].str.replace(\"Aged\", '')\n",
    "df['Age_Range']= df['Age_Range'].str.replace(\"Hospitalised5\", '1-4')\n",
    "df['Age_Range']= df['Age_Range'].str.replace(\"1-4-14\",'5-14')\n",
    "df['Age_Range']= df['Age_Range'].str.replace(\"1-45-64\",'55-64')\n",
    "df['Age_Range']= df['Age_Range'].str.replace(\"Hospitalised\", '')\n",
    "df['Age_Range']= df['Age_Range'].replace(\"Median_Age\", np.nan)\n",
    "df['Age_Range']= df['Age_Range'].replace(\"Male\", np.nan)\n",
    "df['Age_Range']= df['Age_Range'].replace(\"Female\", np.nan)\n",
    "df['Age_Range']= df['Age_Range'].replace(\"Female\", np.nan)\n",
    "df['Age_Range']= df['Age_Range'].replace(\"Unknown\",np.nan)"
   ]
  },
  {
   "cell_type": "code",
   "execution_count": null,
   "id": "b0190a8a",
   "metadata": {},
   "outputs": [],
   "source": [
    "df[\"Age_Range\"].unique()"
   ]
  },
  {
   "cell_type": "code",
   "execution_count": null,
   "id": "293e885b",
   "metadata": {},
   "outputs": [],
   "source": [
    "df[\"Column\"].unique()"
   ]
  },
  {
   "cell_type": "code",
   "execution_count": null,
   "id": "38138413",
   "metadata": {},
   "outputs": [],
   "source": [
    "df = df [[\n",
    "    \"Date\",\n",
    "    \"Column\",\n",
    "    \"Age_Range\",\n",
    "    \"Cases\"\n",
    "]]\n",
    "\n",
    "df.head()"
   ]
  },
  {
   "cell_type": "code",
   "execution_count": null,
   "id": "700df629",
   "metadata": {},
   "outputs": [],
   "source": [
    "#        'HospitalisedAged5', 'HospitalisedAged5to14',\n",
    "#        'HospitalisedAged15to24', 'HospitalisedAged25to34',\n",
    "#        'HospitalisedAged35to44', 'HospitalisedAged45to54',\n",
    "#        'HospitalisedAged55to64', \n",
    "#        'Aged5to14', 'Aged15to24', 'Aged25to34', 'Aged35to44',\n",
    "#        'Aged45to54', 'Aged55to64',\n",
    "\n",
    "\n",
    "# checking that 'HospitalisedAged5' with have 5\n",
    "df[df[\"Column\"] =='HospitalisedAged55to64'].head()"
   ]
  },
  {
   "cell_type": "code",
   "execution_count": null,
   "id": "9b0a22ec",
   "metadata": {},
   "outputs": [],
   "source": [
    "# checking that 'HospitalisedAged85up' with have 85\n",
    "df[df[\"Column\"] =='HospitalisedAged85up'].head()"
   ]
  },
  {
   "cell_type": "markdown",
   "id": "9eb61347",
   "metadata": {},
   "source": [
    "### Dropping rows with NaN in cases"
   ]
  },
  {
   "cell_type": "code",
   "execution_count": null,
   "id": "1d99015d",
   "metadata": {},
   "outputs": [],
   "source": [
    "df.head(20)"
   ]
  },
  {
   "cell_type": "code",
   "execution_count": null,
   "id": "5faf6e3a",
   "metadata": {},
   "outputs": [],
   "source": [
    "df = df[~df['Cases'].isna()]\n",
    "df[\"Cases\"] = df[\"Cases\"].astype(int)\n",
    "# reseting the dataframe index\n",
    "df = df.reset_index(drop = True)"
   ]
  },
  {
   "cell_type": "code",
   "execution_count": null,
   "id": "373b6716",
   "metadata": {},
   "outputs": [],
   "source": [
    "df.head()"
   ]
  },
  {
   "cell_type": "code",
   "execution_count": null,
   "id": "736bfbf3",
   "metadata": {},
   "outputs": [],
   "source": [
    "df.shape"
   ]
  },
  {
   "cell_type": "markdown",
   "id": "87aa0a74",
   "metadata": {},
   "source": [
    "### Dealing with ['Column'] column"
   ]
  },
  {
   "cell_type": "code",
   "execution_count": null,
   "id": "bd105e72",
   "metadata": {},
   "outputs": [],
   "source": [
    "# Testing the regular expression\n",
    "line = 'HospitalisedAged45to54'\n",
    "match = re.findall('([A-Z][a-z]+)', line)\n",
    "new_line = match[0] + \" \" + match[1] \n",
    "print(new_line)"
   ]
  },
  {
   "cell_type": "code",
   "execution_count": null,
   "id": "dcf67789",
   "metadata": {},
   "outputs": [],
   "source": [
    "column_list = []\n",
    "for i in  df[\"Column\"]:\n",
    "    match = re.findall('([A-Z][a-z]+)', i)\n",
    "    if len(match) == 4:\n",
    "        new_line = match[0] + ' ' + match[1] + ' ' + match[2] + ' ' + match[3]\n",
    "    elif len(match) == 3:\n",
    "        new_line = match[0] + ' ' + match[1] + ' ' + match[2]\n",
    "    elif len(match) == 2:\n",
    "        new_line = match[0] + ' ' + match[1] \n",
    "    else:\n",
    "        new_line = match[0]\n",
    "\n",
    "    column_list.append(new_line)\n",
    "\n",
    "# examining the list\n",
    "print(column_list)  "
   ]
  },
  {
   "cell_type": "code",
   "execution_count": null,
   "id": "7dd8a166",
   "metadata": {},
   "outputs": [],
   "source": [
    "column_list = pd.Series(column_list)\n",
    "column_list = column_list.reset_index()"
   ]
  },
  {
   "cell_type": "code",
   "execution_count": null,
   "id": "d4591b63",
   "metadata": {},
   "outputs": [],
   "source": [
    "df = pd.merge(df, column_list, left_index = True, right_index = True)"
   ]
  },
  {
   "cell_type": "code",
   "execution_count": null,
   "id": "a46888b8",
   "metadata": {},
   "outputs": [],
   "source": [
    "df = df.rename(columns={'Column': \"old_column\", 0 : \"Column\"})"
   ]
  },
  {
   "cell_type": "code",
   "execution_count": null,
   "id": "09a923fb",
   "metadata": {},
   "outputs": [],
   "source": [
    "df = df[[\n",
    "    \"Date\",\n",
    "    \"old_column\",\n",
    "    \"Column\",\n",
    "    \"Age_Range\",\n",
    "    \"Cases\"\n",
    "]]"
   ]
  },
  {
   "cell_type": "code",
   "execution_count": null,
   "id": "307fb066",
   "metadata": {},
   "outputs": [],
   "source": [
    "df.head()"
   ]
  },
  {
   "cell_type": "markdown",
   "id": "a4992546",
   "metadata": {},
   "source": [
    "### Daily Cases"
   ]
  },
  {
   "cell_type": "code",
   "execution_count": null,
   "id": "729afdb7",
   "metadata": {},
   "outputs": [],
   "source": [
    "hospitalised_df = df[df['Column'].str.contains(\"Hospitalised Aged\")]\n",
    "age_range_65up = hospitalised_df[hospitalised_df['Age_Range'] == '65-74']\n",
    "age_range_65up.tail(10)"
   ]
  },
  {
   "cell_type": "code",
   "execution_count": null,
   "id": "d7d8b22b",
   "metadata": {},
   "outputs": [],
   "source": [
    "age_list = df['Age_Range'].unique()\n",
    "\n",
    "# removing NaN from the dataset\n",
    "age_list = age_list[1:]\n",
    "print(age_list)"
   ]
  },
  {
   "cell_type": "code",
   "execution_count": null,
   "id": "2a16edd1",
   "metadata": {},
   "outputs": [],
   "source": [
    "aged_df = df[df['Column'].str.startswith(\"Aged\")]\n",
    "\n",
    "# dropping all NaN in hospitalised_df \n",
    "hospitalised_df = hospitalised_df[~hospitalised_df['Age_Range'].isna()]\n",
    "\n",
    "# dropping all NaN in aged_df\n",
    "aged_df = aged_df[~aged_df['Age_Range'].isna()]\n",
    "\n",
    "# dropping all NaN in df1\n",
    "new_df = df[~df['Column'].isna()]"
   ]
  },
  {
   "cell_type": "code",
   "execution_count": null,
   "id": "ce82c2e1",
   "metadata": {},
   "outputs": [],
   "source": [
    "aged_df.head()"
   ]
  },
  {
   "cell_type": "markdown",
   "id": "6e824fc0",
   "metadata": {},
   "source": [
    "### Columns that are Not Accumulated\n",
    "'Confirmed Covid Cases', 'Total Confirmed Covid Cases','Confirmed Covid Deaths', 'Total Covid Deaths',"
   ]
  },
  {
   "cell_type": "code",
   "execution_count": null,
   "id": "60f2445d",
   "metadata": {},
   "outputs": [],
   "source": [
    "df['Column'].unique()"
   ]
  },
  {
   "cell_type": "code",
   "execution_count": null,
   "id": "26d057b7",
   "metadata": {},
   "outputs": [],
   "source": [
    "column_list = df['Column'].unique()\n",
    "column_list"
   ]
  },
  {
   "cell_type": "code",
   "execution_count": null,
   "id": "368a2bf2",
   "metadata": {},
   "outputs": [],
   "source": [
    "# Columns that have accumulated cases and no daily cases count \n",
    "accumulated = ['Male','Hospitalised Covid Cases', 'Hospitalised Aged', \n",
    "               'Healthcare Workers Covid Cases', 'Aged', 'Unknown', 'Female',\n",
    "               'Median Age', 'Requiring Covid Cases', 'Clusters Notified']"
   ]
  },
  {
   "cell_type": "code",
   "execution_count": null,
   "id": "c6c4ec5d",
   "metadata": {},
   "outputs": [],
   "source": [
    "df_list = []\n",
    "\n",
    "for i in column_list:\n",
    "    if \"Hospitalised Aged\" == i: \n",
    "        for age in age_list:\n",
    "            df = hospitalised_df[hospitalised_df['Age_Range'].str.contains(age)]\n",
    "            df = pd.DataFrame(df)\n",
    "            df['Daily Cases'] = df['Cases'].diff(1)\n",
    "            df['Diff'] = df['Daily Cases'].diff(1)\n",
    "#             df = df.dropna()\n",
    "#             df[\"Daily Cases\"] = df[\"Daily Cases\"].astype(int)\n",
    "#             df[\"Diff\"] = df[\"Diff\"].astype(int)\n",
    "            df_list.append(df)\n",
    "        \n",
    "    elif \"Aged\" == i: \n",
    "        for age in age_list:\n",
    "            df = aged_df[aged_df['Age_Range'].str.contains(age)]\n",
    "            df = pd.DataFrame(df)\n",
    "            df['Daily Cases'] = df['Cases'].diff(1)\n",
    "            df['Diff'] = df['Daily Cases'].diff(1)\n",
    "#             df = df.dropna()\n",
    "#             df[\"Daily Cases\"] = df[\"Daily Cases\"].astype(int)\n",
    "#             df[\"Diff\"] = df[\"Diff\"].astype(int)\n",
    "            df_list.append(df)\n",
    "    \n",
    "    elif  i in accumulated:\n",
    "        df = new_df[new_df['Column'].str.contains(i)]\n",
    "        df = pd.DataFrame(df)\n",
    "        df['Daily Cases'] = df['Cases'].diff(1)\n",
    "        df['Diff'] = df['Daily Cases'].diff(1)\n",
    "#         df = df.dropna()\n",
    "#         df[\"Daily Cases\"] = df[\"Daily Cases\"].astype(int)\n",
    "#         df[\"Diff\"] = df[\"Diff\"].astype(int)\n",
    "        df_list.append(df)\n",
    "    else:\n",
    "        df = df[df['Column'].str.contains(i)]\n",
    "        df = pd.DataFrame(df)\n",
    "        df['Daily Cases'] = 'NaN'\n",
    "        df['Diff'] = df['Cases'].diff(1)\n",
    "#         df = df.dropna()\n",
    "#         df[\"Daily Cases\"] = df[\"Daily Cases\"].astype(int)\n",
    "#         df[\"Diff\"] = df[\"Diff\"].astype(int)\n",
    "        df_list.append(df) "
   ]
  },
  {
   "cell_type": "code",
   "execution_count": null,
   "id": "e3668204",
   "metadata": {},
   "outputs": [],
   "source": [
    "df =  pd.concat(df_list)"
   ]
  },
  {
   "cell_type": "code",
   "execution_count": null,
   "id": "47b2db27",
   "metadata": {},
   "outputs": [],
   "source": [
    "# sorting data by date\n",
    "df = df.sort_values(ascending = True, by = [\"Date\"])\n",
    "\n",
    "# reseting the dataframe index\n",
    "df = df.reset_index(drop=True)"
   ]
  },
  {
   "cell_type": "code",
   "execution_count": null,
   "id": "6340f078",
   "metadata": {},
   "outputs": [],
   "source": [
    "df.head(50)"
   ]
  },
  {
   "cell_type": "code",
   "execution_count": null,
   "id": "009db0db",
   "metadata": {},
   "outputs": [],
   "source": [
    "df.tail(50)"
   ]
  },
  {
   "cell_type": "raw",
   "id": "af2b2dd3",
   "metadata": {},
   "source": [
    "# replacing all Nan with 0\n",
    "df['Daily Cases'] = df['Daily Cases'].fillna(0)\n",
    "df['Diff'] = df['Diff'].fillna(0)\n",
    "\n",
    "#changing the 0.0 to 0\n",
    "df['Daily Cases'] = df['Daily Cases'].astype(int)\n",
    "df['Diff'] = df['Diff'].astype(int)\n",
    "\n",
    "df.head()"
   ]
  },
  {
   "cell_type": "markdown",
   "id": "e1596540",
   "metadata": {},
   "source": [
    "### Saving to a new csv file"
   ]
  },
  {
   "cell_type": "code",
   "execution_count": null,
   "id": "5cd0ff04",
   "metadata": {},
   "outputs": [],
   "source": [
    "df.to_csv(r\"tidy_data_df.csv\", index =  False)"
   ]
  },
  {
   "cell_type": "code",
   "execution_count": null,
   "id": "33e8db64",
   "metadata": {},
   "outputs": [],
   "source": []
  }
 ],
 "metadata": {
  "kernelspec": {
   "display_name": "Python 3 (ipykernel)",
   "language": "python",
   "name": "python3"
  },
  "language_info": {
   "codemirror_mode": {
    "name": "ipython",
    "version": 3
   },
   "file_extension": ".py",
   "mimetype": "text/x-python",
   "name": "python",
   "nbconvert_exporter": "python",
   "pygments_lexer": "ipython3",
   "version": "3.9.7"
  }
 },
 "nbformat": 4,
 "nbformat_minor": 5
}
