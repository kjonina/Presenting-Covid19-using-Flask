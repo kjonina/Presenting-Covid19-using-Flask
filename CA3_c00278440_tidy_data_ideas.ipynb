{
 "cells": [
  {
   "cell_type": "markdown",
   "id": "3e7e49cd",
   "metadata": {},
   "source": [
    "# Assignment 3\n",
    "\n",
    "\n",
    "- Student Name: Karina Jonina\n",
    "- Student ID: c00278440\n",
    "\n",
    "- Module Name: Programming for Data Scientists\n",
    "- Module Code: PROGC5201\n",
    "- Module Leader: Paul Barry\n",
    "\n",
    "- Course Name: \t\tMaster of Science in Data Science\n",
    "- Course Code:\t\t CW_KCDAR_M Y5\n",
    "\n",
    "- Due Date: 10th January 2022 9:00am"
   ]
  },
  {
   "cell_type": "code",
   "execution_count": 1,
   "id": "a9df109a",
   "metadata": {},
   "outputs": [],
   "source": [
    "import pandas as pd\n",
    "import datetime\n",
    "from os import listdir\n",
    "from os.path import isfile, join\n",
    "import glob\n",
    "import re\n",
    "from datetime import datetime"
   ]
  },
  {
   "cell_type": "code",
   "execution_count": 2,
   "id": "b051bad8",
   "metadata": {},
   "outputs": [],
   "source": [
    "# gettting the CSV from the website\n",
    "url = 'https://opendata-geohive.hub.arcgis.com/datasets/d8eb52d56273413b84b0187a4e9117be_0.csv?outSR=%7B%22latestWkid%22%3A3857%2C%22wkid%22%3A102100%7D.'\n",
    "\n",
    "df = pd.read_csv(url, parse_dates = [\"Date\"])"
   ]
  },
  {
   "cell_type": "code",
   "execution_count": 3,
   "id": "29f89ea1",
   "metadata": {},
   "outputs": [
    {
     "data": {
      "text/html": [
       "<div>\n",
       "<style scoped>\n",
       "    .dataframe tbody tr th:only-of-type {\n",
       "        vertical-align: middle;\n",
       "    }\n",
       "\n",
       "    .dataframe tbody tr th {\n",
       "        vertical-align: top;\n",
       "    }\n",
       "\n",
       "    .dataframe thead th {\n",
       "        text-align: right;\n",
       "    }\n",
       "</style>\n",
       "<table border=\"1\" class=\"dataframe\">\n",
       "  <thead>\n",
       "    <tr style=\"text-align: right;\">\n",
       "      <th></th>\n",
       "      <th>X</th>\n",
       "      <th>Y</th>\n",
       "      <th>Date</th>\n",
       "      <th>ConfirmedCovidCases</th>\n",
       "      <th>TotalConfirmedCovidCases</th>\n",
       "      <th>ConfirmedCovidDeaths</th>\n",
       "      <th>TotalCovidDeaths</th>\n",
       "      <th>StatisticsProfileDate</th>\n",
       "      <th>CovidCasesConfirmed</th>\n",
       "      <th>HospitalisedCovidCases</th>\n",
       "      <th>...</th>\n",
       "      <th>CommunityTransmission</th>\n",
       "      <th>CloseContact</th>\n",
       "      <th>TravelAbroad</th>\n",
       "      <th>FID</th>\n",
       "      <th>HospitalisedAged65to74</th>\n",
       "      <th>HospitalisedAged75to84</th>\n",
       "      <th>HospitalisedAged85up</th>\n",
       "      <th>Aged65to74</th>\n",
       "      <th>Aged75to84</th>\n",
       "      <th>Aged85up</th>\n",
       "    </tr>\n",
       "  </thead>\n",
       "  <tbody>\n",
       "    <tr>\n",
       "      <th>0</th>\n",
       "      <td>-7.692596</td>\n",
       "      <td>53.288234</td>\n",
       "      <td>2020-02-29 00:00:00+00:00</td>\n",
       "      <td>1</td>\n",
       "      <td>1</td>\n",
       "      <td>0.0</td>\n",
       "      <td>0</td>\n",
       "      <td>2020/02/27 00:00:00+00</td>\n",
       "      <td>NaN</td>\n",
       "      <td>NaN</td>\n",
       "      <td>...</td>\n",
       "      <td>0</td>\n",
       "      <td>0</td>\n",
       "      <td>0</td>\n",
       "      <td>1</td>\n",
       "      <td>NaN</td>\n",
       "      <td>NaN</td>\n",
       "      <td>NaN</td>\n",
       "      <td>NaN</td>\n",
       "      <td>NaN</td>\n",
       "      <td>NaN</td>\n",
       "    </tr>\n",
       "    <tr>\n",
       "      <th>1</th>\n",
       "      <td>-7.692596</td>\n",
       "      <td>53.288234</td>\n",
       "      <td>2020-03-03 00:00:00+00:00</td>\n",
       "      <td>1</td>\n",
       "      <td>2</td>\n",
       "      <td>0.0</td>\n",
       "      <td>0</td>\n",
       "      <td>2020/03/01 00:00:00+00</td>\n",
       "      <td>NaN</td>\n",
       "      <td>NaN</td>\n",
       "      <td>...</td>\n",
       "      <td>0</td>\n",
       "      <td>0</td>\n",
       "      <td>0</td>\n",
       "      <td>2</td>\n",
       "      <td>NaN</td>\n",
       "      <td>NaN</td>\n",
       "      <td>NaN</td>\n",
       "      <td>NaN</td>\n",
       "      <td>NaN</td>\n",
       "      <td>NaN</td>\n",
       "    </tr>\n",
       "    <tr>\n",
       "      <th>2</th>\n",
       "      <td>-7.692596</td>\n",
       "      <td>53.288234</td>\n",
       "      <td>2020-03-04 00:00:00+00:00</td>\n",
       "      <td>4</td>\n",
       "      <td>6</td>\n",
       "      <td>0.0</td>\n",
       "      <td>0</td>\n",
       "      <td>2020/03/02 00:00:00+00</td>\n",
       "      <td>1.0</td>\n",
       "      <td>0.0</td>\n",
       "      <td>...</td>\n",
       "      <td>0</td>\n",
       "      <td>0</td>\n",
       "      <td>0</td>\n",
       "      <td>3</td>\n",
       "      <td>0.0</td>\n",
       "      <td>0.0</td>\n",
       "      <td>0.0</td>\n",
       "      <td>0.0</td>\n",
       "      <td>0.0</td>\n",
       "      <td>0.0</td>\n",
       "    </tr>\n",
       "    <tr>\n",
       "      <th>3</th>\n",
       "      <td>-7.692596</td>\n",
       "      <td>53.288234</td>\n",
       "      <td>2020-03-05 00:00:00+00:00</td>\n",
       "      <td>7</td>\n",
       "      <td>13</td>\n",
       "      <td>0.0</td>\n",
       "      <td>0</td>\n",
       "      <td>2020/03/03 00:00:00+00</td>\n",
       "      <td>2.0</td>\n",
       "      <td>1.0</td>\n",
       "      <td>...</td>\n",
       "      <td>0</td>\n",
       "      <td>0</td>\n",
       "      <td>0</td>\n",
       "      <td>4</td>\n",
       "      <td>0.0</td>\n",
       "      <td>0.0</td>\n",
       "      <td>0.0</td>\n",
       "      <td>0.0</td>\n",
       "      <td>0.0</td>\n",
       "      <td>0.0</td>\n",
       "    </tr>\n",
       "    <tr>\n",
       "      <th>4</th>\n",
       "      <td>-7.692596</td>\n",
       "      <td>53.288234</td>\n",
       "      <td>2020-03-06 00:00:00+00:00</td>\n",
       "      <td>5</td>\n",
       "      <td>18</td>\n",
       "      <td>0.0</td>\n",
       "      <td>0</td>\n",
       "      <td>2020/03/04 00:00:00+00</td>\n",
       "      <td>5.0</td>\n",
       "      <td>4.0</td>\n",
       "      <td>...</td>\n",
       "      <td>0</td>\n",
       "      <td>0</td>\n",
       "      <td>0</td>\n",
       "      <td>5</td>\n",
       "      <td>0.0</td>\n",
       "      <td>0.0</td>\n",
       "      <td>0.0</td>\n",
       "      <td>0.0</td>\n",
       "      <td>0.0</td>\n",
       "      <td>0.0</td>\n",
       "    </tr>\n",
       "  </tbody>\n",
       "</table>\n",
       "<p>5 rows × 41 columns</p>\n",
       "</div>"
      ],
      "text/plain": [
       "          X          Y                      Date  ConfirmedCovidCases  \\\n",
       "0 -7.692596  53.288234 2020-02-29 00:00:00+00:00                    1   \n",
       "1 -7.692596  53.288234 2020-03-03 00:00:00+00:00                    1   \n",
       "2 -7.692596  53.288234 2020-03-04 00:00:00+00:00                    4   \n",
       "3 -7.692596  53.288234 2020-03-05 00:00:00+00:00                    7   \n",
       "4 -7.692596  53.288234 2020-03-06 00:00:00+00:00                    5   \n",
       "\n",
       "   TotalConfirmedCovidCases  ConfirmedCovidDeaths  TotalCovidDeaths  \\\n",
       "0                         1                   0.0                 0   \n",
       "1                         2                   0.0                 0   \n",
       "2                         6                   0.0                 0   \n",
       "3                        13                   0.0                 0   \n",
       "4                        18                   0.0                 0   \n",
       "\n",
       "    StatisticsProfileDate  CovidCasesConfirmed  HospitalisedCovidCases  ...  \\\n",
       "0  2020/02/27 00:00:00+00                  NaN                     NaN  ...   \n",
       "1  2020/03/01 00:00:00+00                  NaN                     NaN  ...   \n",
       "2  2020/03/02 00:00:00+00                  1.0                     0.0  ...   \n",
       "3  2020/03/03 00:00:00+00                  2.0                     1.0  ...   \n",
       "4  2020/03/04 00:00:00+00                  5.0                     4.0  ...   \n",
       "\n",
       "   CommunityTransmission  CloseContact  TravelAbroad  FID  \\\n",
       "0                      0             0             0    1   \n",
       "1                      0             0             0    2   \n",
       "2                      0             0             0    3   \n",
       "3                      0             0             0    4   \n",
       "4                      0             0             0    5   \n",
       "\n",
       "   HospitalisedAged65to74  HospitalisedAged75to84  HospitalisedAged85up  \\\n",
       "0                     NaN                     NaN                   NaN   \n",
       "1                     NaN                     NaN                   NaN   \n",
       "2                     0.0                     0.0                   0.0   \n",
       "3                     0.0                     0.0                   0.0   \n",
       "4                     0.0                     0.0                   0.0   \n",
       "\n",
       "   Aged65to74  Aged75to84  Aged85up  \n",
       "0         NaN         NaN       NaN  \n",
       "1         NaN         NaN       NaN  \n",
       "2         0.0         0.0       0.0  \n",
       "3         0.0         0.0       0.0  \n",
       "4         0.0         0.0       0.0  \n",
       "\n",
       "[5 rows x 41 columns]"
      ]
     },
     "execution_count": 3,
     "metadata": {},
     "output_type": "execute_result"
    }
   ],
   "source": [
    "df.head()"
   ]
  },
  {
   "cell_type": "code",
   "execution_count": 4,
   "id": "f51f50f4",
   "metadata": {},
   "outputs": [
    {
     "data": {
      "text/plain": [
       "(644, 41)"
      ]
     },
     "execution_count": 4,
     "metadata": {},
     "output_type": "execute_result"
    }
   ],
   "source": [
    "# examiningcolumnsand rows\n",
    "df.shape"
   ]
  },
  {
   "cell_type": "code",
   "execution_count": 5,
   "id": "410f616b",
   "metadata": {},
   "outputs": [
    {
     "name": "stdout",
     "output_type": "stream",
     "text": [
      "<class 'pandas.core.frame.DataFrame'>\n",
      "RangeIndex: 644 entries, 0 to 643\n",
      "Data columns (total 41 columns):\n",
      " #   Column                       Non-Null Count  Dtype              \n",
      "---  ------                       --------------  -----              \n",
      " 0   X                            644 non-null    float64            \n",
      " 1   Y                            644 non-null    float64            \n",
      " 2   Date                         644 non-null    datetime64[ns, UTC]\n",
      " 3   ConfirmedCovidCases          644 non-null    int64              \n",
      " 4   TotalConfirmedCovidCases     644 non-null    int64              \n",
      " 5   ConfirmedCovidDeaths         498 non-null    float64            \n",
      " 6   TotalCovidDeaths             644 non-null    int64              \n",
      " 7   StatisticsProfileDate        644 non-null    object             \n",
      " 8   CovidCasesConfirmed          642 non-null    float64            \n",
      " 9   HospitalisedCovidCases       642 non-null    float64            \n",
      " 10  RequiringICUCovidCases       642 non-null    float64            \n",
      " 11  HealthcareWorkersCovidCases  642 non-null    float64            \n",
      " 12  ClustersNotified             622 non-null    float64            \n",
      " 13  HospitalisedAged5            642 non-null    float64            \n",
      " 14  HospitalisedAged5to14        642 non-null    float64            \n",
      " 15  HospitalisedAged15to24       642 non-null    float64            \n",
      " 16  HospitalisedAged25to34       642 non-null    float64            \n",
      " 17  HospitalisedAged35to44       642 non-null    float64            \n",
      " 18  HospitalisedAged45to54       642 non-null    float64            \n",
      " 19  HospitalisedAged55to64       642 non-null    float64            \n",
      " 20  Male                         642 non-null    float64            \n",
      " 21  Female                       642 non-null    float64            \n",
      " 22  Unknown                      642 non-null    float64            \n",
      " 23  Aged1to4                     642 non-null    float64            \n",
      " 24  Aged5to14                    642 non-null    float64            \n",
      " 25  Aged15to24                   642 non-null    float64            \n",
      " 26  Aged25to34                   642 non-null    float64            \n",
      " 27  Aged35to44                   642 non-null    float64            \n",
      " 28  Aged45to54                   642 non-null    float64            \n",
      " 29  Aged55to64                   642 non-null    float64            \n",
      " 30  Median_Age                   642 non-null    float64            \n",
      " 31  CommunityTransmission        644 non-null    int64              \n",
      " 32  CloseContact                 644 non-null    int64              \n",
      " 33  TravelAbroad                 644 non-null    int64              \n",
      " 34  FID                          644 non-null    int64              \n",
      " 35  HospitalisedAged65to74       642 non-null    float64            \n",
      " 36  HospitalisedAged75to84       642 non-null    float64            \n",
      " 37  HospitalisedAged85up         642 non-null    float64            \n",
      " 38  Aged65to74                   642 non-null    float64            \n",
      " 39  Aged75to84                   642 non-null    float64            \n",
      " 40  Aged85up                     642 non-null    float64            \n",
      "dtypes: datetime64[ns, UTC](1), float64(32), int64(7), object(1)\n",
      "memory usage: 206.4+ KB\n"
     ]
    }
   ],
   "source": [
    "# checking type for each column\n",
    "df.info()"
   ]
  },
  {
   "cell_type": "code",
   "execution_count": null,
   "id": "463eb1f3",
   "metadata": {},
   "outputs": [],
   "source": [
    "# examining the names of the columns\n",
    "df.columns"
   ]
  },
  {
   "cell_type": "code",
   "execution_count": null,
   "id": "b09ae6ae",
   "metadata": {},
   "outputs": [],
   "source": [
    "# changing StatisticsProfileDate to datetime \n",
    "df[\"StatisticsProfileDate\"] #= pd.to_datetime(df[\"StatisticsProfileDate\"], errors='ignore')"
   ]
  },
  {
   "cell_type": "markdown",
   "id": "57bcc897",
   "metadata": {},
   "source": [
    "## Examining location\n",
    "Below exploration showed that there are no unique locations in the dataset and therefore, redundant. "
   ]
  },
  {
   "cell_type": "code",
   "execution_count": null,
   "id": "adbb13e2",
   "metadata": {},
   "outputs": [],
   "source": [
    "df['X'].unique()"
   ]
  },
  {
   "cell_type": "code",
   "execution_count": null,
   "id": "e78a15f9",
   "metadata": {},
   "outputs": [],
   "source": [
    "df['Y'].unique()"
   ]
  },
  {
   "cell_type": "markdown",
   "id": "5d2d1624",
   "metadata": {},
   "source": [
    "## Examining date\n",
    "Below exploration showed that there are are unique dates in the dataset. "
   ]
  },
  {
   "cell_type": "code",
   "execution_count": null,
   "id": "ec606b64",
   "metadata": {},
   "outputs": [],
   "source": [
    "df['Date'].unique()"
   ]
  },
  {
   "cell_type": "code",
   "execution_count": null,
   "id": "66081dd6",
   "metadata": {},
   "outputs": [],
   "source": [
    "df.head()"
   ]
  },
  {
   "cell_type": "markdown",
   "id": "203abc83",
   "metadata": {},
   "source": [
    "## Melting "
   ]
  },
  {
   "cell_type": "code",
   "execution_count": null,
   "id": "82b909a5",
   "metadata": {},
   "outputs": [],
   "source": [
    "# Melting\n",
    "id_vars = [\"X\",\"Y\",\"Date\"]\n",
    "\n",
    "df = pd.melt(frame=df,id_vars=id_vars, var_name=\"column\", value_name=\"cases\")\n",
    "\n",
    "df.head(10)\n"
   ]
  },
  {
   "cell_type": "markdown",
   "id": "012e8db8",
   "metadata": {},
   "source": [
    "### Dropping cases"
   ]
  },
  {
   "cell_type": "code",
   "execution_count": null,
   "id": "68d599b5",
   "metadata": {},
   "outputs": [],
   "source": [
    "df = df[[\n",
    "    \"Date\",\n",
    "    \"column\",\n",
    "    \"cases\"\n",
    "    \n",
    "]]"
   ]
  },
  {
   "cell_type": "code",
   "execution_count": null,
   "id": "e582a45a",
   "metadata": {},
   "outputs": [],
   "source": [
    "df.head()"
   ]
  },
  {
   "cell_type": "markdown",
   "id": "a3a5cdd8",
   "metadata": {},
   "source": [
    "# Hospitalisations"
   ]
  },
  {
   "cell_type": "code",
   "execution_count": null,
   "id": "b2a16857",
   "metadata": {},
   "outputs": [],
   "source": [
    "hospitalised_df = df[df['column'].str.contains(\"Hospitalised\")]\n",
    "hospitalised_df.head()"
   ]
  },
  {
   "cell_type": "code",
   "execution_count": null,
   "id": "4d3cba9c",
   "metadata": {},
   "outputs": [],
   "source": [
    "hospitalised_df['column'].unique()"
   ]
  },
  {
   "cell_type": "code",
   "execution_count": null,
   "id": "96332456",
   "metadata": {},
   "outputs": [],
   "source": [
    "#hospitalised_df.iloc[:,1] = hospitalised_df.iloc[:,1].str.lstrip(\"Hospitalised\")"
   ]
  },
  {
   "cell_type": "code",
   "execution_count": null,
   "id": "2ec2caf8",
   "metadata": {},
   "outputs": [],
   "source": [
    "hospitalised_df['column'].tail()"
   ]
  },
  {
   "cell_type": "code",
   "execution_count": null,
   "id": "16a2993a",
   "metadata": {},
   "outputs": [],
   "source": [
    "hospitalised_df['column'].unique()"
   ]
  },
  {
   "cell_type": "code",
   "execution_count": null,
   "id": "adcd7ed9",
   "metadata": {},
   "outputs": [],
   "source": [
    "test = \"Aged5to14\"\n",
    "\n",
    "match = re.search(\"(\\D+)(\\d+)(\\D{2})(\\d{2})\", test)\n",
    "print(match[0])\n",
    "print(match[1]) # Aged\n",
    "print(match[2]) # 5\n",
    "print(match[3]) # to\n",
    "print(match[4]) # 14\n",
    "print()"
   ]
  },
  {
   "cell_type": "code",
   "execution_count": null,
   "id": "8c3f313a",
   "metadata": {},
   "outputs": [],
   "source": [
    "hospitalised_df[\"column\"]"
   ]
  },
  {
   "cell_type": "code",
   "execution_count": null,
   "id": "08ebe964",
   "metadata": {},
   "outputs": [],
   "source": [
    "tmp_df = hospitalised_df[\"column\"].str.extract(\"(\\D+)(\\d+)(\\D{2})(\\d{2})\", expand=False)    \n",
    "\n",
    "\n",
    "# Name columns\n",
    "tmp_df.columns = [\"Aged\", \"age_lower\",\"to\", \"age_upper\"]\n",
    "\n",
    "# Create `age`column based on `age_lower` and `age_upper`\n",
    "tmp_df[\"age\"] = tmp_df[\"age_lower\"] + \"-\" + tmp_df[\"age_upper\"]\n",
    "\n",
    "tmp_df.head(15)"
   ]
  },
  {
   "cell_type": "code",
   "execution_count": null,
   "id": "297495ef",
   "metadata": {},
   "outputs": [],
   "source": [
    "# Merge \n",
    "hospitalised_df = pd.concat([hospitalised_df, tmp_df], axis=1)\n",
    "\n",
    "# Drop unnecessary columns and rows\n",
    "hospitalised_df = hospitalised_df.drop(['column',\"age_lower\",\"to\",\"age_upper\" ], axis=1)\n",
    "hospitalised_df = hospitalised_df.dropna()\n",
    "hospitalised_df = hospitalised_df.sort_values(ascending = True,by = [\"Date\"])\n",
    "hospitalised_df[\"cases\"] = hospitalised_df[\"cases\"].astype(int)\n",
    "\n"
   ]
  },
  {
   "cell_type": "code",
   "execution_count": null,
   "id": "592e4db0",
   "metadata": {},
   "outputs": [],
   "source": [
    "\n",
    "hospitalised_df[\"Aged\"] = hospitalised_df[\"Aged\"].str.rstrip(\"Aged\")\n",
    "hospitalised_df.head(25)"
   ]
  },
  {
   "cell_type": "markdown",
   "id": "28276fa3",
   "metadata": {},
   "source": [
    "# Ages"
   ]
  },
  {
   "cell_type": "code",
   "execution_count": null,
   "id": "26f4047f",
   "metadata": {},
   "outputs": [],
   "source": [
    "aged_df = df[df[\"column\"].str.contains(\"^Aged\")]"
   ]
  },
  {
   "cell_type": "code",
   "execution_count": null,
   "id": "b8a9eff3",
   "metadata": {},
   "outputs": [],
   "source": [
    "aged_df.head()"
   ]
  },
  {
   "cell_type": "code",
   "execution_count": null,
   "id": "2e909d9e",
   "metadata": {},
   "outputs": [],
   "source": [
    "aged_df[\"column\"].unique()"
   ]
  },
  {
   "cell_type": "code",
   "execution_count": null,
   "id": "bb6399cc",
   "metadata": {},
   "outputs": [],
   "source": [
    "test = \"Aged1to4\"\n",
    "\n",
    "match = re.search(\"(\\D+)(\\d+)(\\D{2})(\\d)\", test)\n",
    "print(match[0])\n",
    "print(match[1]) # Aged\n",
    "print(match[2]) # number \n",
    "print(match[3]) # to\n",
    "print(match[4]) # number\n",
    "print()\n",
    "\n",
    "\n",
    "\n",
    "test = \"Aged35to44\"\n",
    "\n",
    "# incorrectly drops the \n",
    "match = re.search(\"(\\D+)(\\d+)(\\D{2})(\\d+)\", test)\n",
    "print(match[0])\n",
    "print(match[1]) # Aged\n",
    "print(match[2]) # number \n",
    "print(match[3]) # to\n",
    "print(match[4]) # number\n",
    "print()\n",
    "\n"
   ]
  },
  {
   "cell_type": "code",
   "execution_count": null,
   "id": "18114a91",
   "metadata": {},
   "outputs": [],
   "source": [
    "tmp_df = aged_df[\"column\"].str.extract(\"(\\D+)(\\d+)(\\D{2})(\\d+)\", expand=False)    \n",
    "\n",
    "\n",
    "# Name columns\n",
    "tmp_df.columns = [\"Aged\", \"age_lower\",\"to\", \"age_upper\"]\n",
    "\n",
    "# Create `age`column based on `age_lower` and `age_upper`\n",
    "tmp_df[\"age\"] = tmp_df[\"age_lower\"] + \"-\" + tmp_df[\"age_upper\"]\n",
    "\n",
    "tmp_df.head(15)"
   ]
  },
  {
   "cell_type": "code",
   "execution_count": null,
   "id": "a61b9e48",
   "metadata": {},
   "outputs": [],
   "source": [
    "# Merge \n",
    "aged_df = pd.concat([aged_df, tmp_df], axis=1)\n",
    "\n",
    "# Drop unnecessary columns and rows\n",
    "aged_df = aged_df.drop(['column',\"age_lower\",\"to\",\"age_upper\" ], axis=1)\n",
    "aged_df = aged_df.dropna()\n",
    "aged_df = aged_df.sort_values(ascending = True,by = [\"Date\"])\n",
    "aged_df[\"cases\"] = aged_df[\"cases\"].astype(int)\n",
    "aged_df.head(25)"
   ]
  },
  {
   "cell_type": "code",
   "execution_count": null,
   "id": "bbc4da8d",
   "metadata": {},
   "outputs": [],
   "source": []
  },
  {
   "cell_type": "markdown",
   "id": "f0cdf862",
   "metadata": {},
   "source": [
    "### Getting the final DF"
   ]
  },
  {
   "cell_type": "code",
   "execution_count": null,
   "id": "ca38a3e2",
   "metadata": {},
   "outputs": [],
   "source": [
    "# Merge \n",
    "df = pd.merge(df, aged_df, on=[\"Date\"])\n",
    "df = pd.merge(df, hospitalised_df, on=[\"Date\"])\n",
    "\n",
    "# Drop unnecessary columns and rows\n",
    "df = df.sort_values(ascending = True,by = [\"Date\"])\n",
    "df[\"cases\"] = df[\"cases\"].astype(int)\n",
    "df.head(25)"
   ]
  },
  {
   "cell_type": "markdown",
   "id": "e0ddead9",
   "metadata": {},
   "source": [
    "# Different"
   ]
  },
  {
   "cell_type": "code",
   "execution_count": null,
   "id": "5cfa0e75",
   "metadata": {},
   "outputs": [],
   "source": [
    "df1 = df.copy()\n",
    "df1.head()"
   ]
  },
  {
   "cell_type": "raw",
   "id": "90c24f1a",
   "metadata": {},
   "source": [
    "\n",
    "\n",
    "for i in df1['column']:\n",
    "    if \"Hospitalised\" in i:\n",
    "        tmp_df = i.extract(\"(\\D+)(\\d+)(\\D{2})(\\d+)\", expand=False)  \n",
    "        print(tmp_df)\n",
    "    else:\n",
    "        print(\"off\")\n",
    "\n",
    "\n",
    "\n",
    "\n"
   ]
  },
  {
   "cell_type": "code",
   "execution_count": null,
   "id": "bcb1eac3",
   "metadata": {},
   "outputs": [],
   "source": [
    "tmp_df = df1[\"column\"].str.extract(\"(\\D+)(\\d+)(\\D{2})(\\d{2})\", expand=False)    \n",
    "\n",
    "\n",
    "# Name columns\n",
    "tmp_df.columns = [\"Aged\", \"age_lower\",\"to\", \"age_upper\"]\n",
    "\n",
    "# Create `age`column based on `age_lower` and `age_upper`\n",
    "tmp_df[\"age\"] = tmp_df[\"age_lower\"] + \"-\" + tmp_df[\"age_upper\"]\n",
    "\n",
    "tmp_df.head(15)"
   ]
  },
  {
   "cell_type": "code",
   "execution_count": null,
   "id": "b4912ba5",
   "metadata": {},
   "outputs": [],
   "source": [
    "# Merge \n",
    "df1 = pd.concat([df1, tmp_df], axis=1)\n",
    "\n",
    "# Drop unnecessary columns and rows\n",
    "df1 = df1.drop([\"age_lower\",\"to\",\"age_upper\" ], axis=1)\n",
    "# df1 = df1.dropna()\n",
    "df1 = df1.sort_values(ascending = True,by = [\"Date\"])\n",
    "# df1[\"cases\"] = df1[\"cases\"].astype(int)\n",
    "df1.head(25)"
   ]
  },
  {
   "cell_type": "code",
   "execution_count": null,
   "id": "0b2d9ed0",
   "metadata": {},
   "outputs": [],
   "source": [
    "df1.tail(50)"
   ]
  },
  {
   "cell_type": "code",
   "execution_count": null,
   "id": "fbcb0b4c",
   "metadata": {},
   "outputs": [],
   "source": [
    "line = 'TravelAbroad'\n",
    "re.findall('([A-Z][a-z]+)', line)"
   ]
  },
  {
   "cell_type": "code",
   "execution_count": null,
   "id": "c5d86581",
   "metadata": {},
   "outputs": [],
   "source": [
    "df1[\"column\"] = df1[\"column\"].str.extract(\"([A-Z][a-z]+)\", expand=False)    \n",
    "\n",
    "\n",
    "# # Name columns\n",
    "# tmp_df.columns = [\"Aged\", \"age_lower\",\"to\", \"age_upper\"]\n",
    "\n",
    "# # Create `age`column based on `age_lower` and `age_upper`\n",
    "# tmp_df[\"age\"] = tmp_df[\"age_lower\"] + \"-\" + tmp_df[\"age_upper\"]\n",
    "\n",
    "df1.head(15)"
   ]
  },
  {
   "cell_type": "code",
   "execution_count": null,
   "id": "cbce041c",
   "metadata": {},
   "outputs": [],
   "source": [
    "df1 = df1 [[\n",
    "    \"Date\",\n",
    "    \"column\",\n",
    "    \"age\",\n",
    "    \"cases\"\n",
    "]]"
   ]
  },
  {
   "cell_type": "code",
   "execution_count": null,
   "id": "741cbc30",
   "metadata": {},
   "outputs": [],
   "source": [
    "df1.head(50)"
   ]
  },
  {
   "cell_type": "code",
   "execution_count": null,
   "id": "76e2ad38",
   "metadata": {},
   "outputs": [],
   "source": []
  },
  {
   "cell_type": "code",
   "execution_count": null,
   "id": "ee8a814d",
   "metadata": {},
   "outputs": [],
   "source": []
  },
  {
   "cell_type": "code",
   "execution_count": null,
   "id": "b742119a",
   "metadata": {},
   "outputs": [],
   "source": []
  },
  {
   "cell_type": "code",
   "execution_count": null,
   "id": "6a26cec3",
   "metadata": {},
   "outputs": [],
   "source": []
  },
  {
   "cell_type": "code",
   "execution_count": null,
   "id": "5cd0ff04",
   "metadata": {},
   "outputs": [],
   "source": [
    "#df.to_csv(r\"df.csv\", index =  False)"
   ]
  }
 ],
 "metadata": {
  "kernelspec": {
   "display_name": "Python 3 (ipykernel)",
   "language": "python",
   "name": "python3"
  },
  "language_info": {
   "codemirror_mode": {
    "name": "ipython",
    "version": 3
   },
   "file_extension": ".py",
   "mimetype": "text/x-python",
   "name": "python",
   "nbconvert_exporter": "python",
   "pygments_lexer": "ipython3",
   "version": "3.9.7"
  }
 },
 "nbformat": 4,
 "nbformat_minor": 5
}
