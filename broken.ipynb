{
 "cells": [
  {
   "cell_type": "markdown",
   "id": "3e7e49cd",
   "metadata": {},
   "source": [
    "# Assignment 3\n",
    "\n",
    "\n",
    "- Student Name: Karina Jonina\n",
    "- Student ID: c00278440\n",
    "\n",
    "- Module Name: Programming for Data Scientists\n",
    "- Module Code: PROGC5201\n",
    "- Module Leader: Paul Barry\n",
    "\n",
    "- Course Name: \t\tMaster of Science in Data Science\n",
    "- Course Code:\t\t CW_KCDAR_M Y5\n",
    "\n",
    "- Due Date: 10th January 2022 9:00am"
   ]
  },
  {
   "cell_type": "code",
   "execution_count": 2,
   "id": "a9df109a",
   "metadata": {},
   "outputs": [],
   "source": [
    "import pandas as pd\n",
    "import datetime\n",
    "from os import listdir\n",
    "from os.path import isfile, join\n",
    "import glob\n",
    "import re\n",
    "from datetime import datetime"
   ]
  },
  {
   "cell_type": "code",
   "execution_count": 3,
   "id": "b051bad8",
   "metadata": {},
   "outputs": [],
   "source": [
    "# gettting the CSV from the website\n",
    "url = 'https://opendata-geohive.hub.arcgis.com/datasets/d8eb52d56273413b84b0187a4e9117be_0.csv?outSR=%7B%22latestWkid%22%3A3857%2C%22wkid%22%3A102100%7D.'\n",
    "# url = 'COVID-19.csv'\n",
    "df = pd.read_csv(url)\n"
   ]
  },
  {
   "cell_type": "code",
   "execution_count": 4,
   "id": "29f89ea1",
   "metadata": {},
   "outputs": [
    {
     "data": {
      "text/html": [
       "<div>\n",
       "<style scoped>\n",
       "    .dataframe tbody tr th:only-of-type {\n",
       "        vertical-align: middle;\n",
       "    }\n",
       "\n",
       "    .dataframe tbody tr th {\n",
       "        vertical-align: top;\n",
       "    }\n",
       "\n",
       "    .dataframe thead th {\n",
       "        text-align: right;\n",
       "    }\n",
       "</style>\n",
       "<table border=\"1\" class=\"dataframe\">\n",
       "  <thead>\n",
       "    <tr style=\"text-align: right;\">\n",
       "      <th></th>\n",
       "      <th>X</th>\n",
       "      <th>Y</th>\n",
       "      <th>Date</th>\n",
       "      <th>ConfirmedCovidCases</th>\n",
       "      <th>TotalConfirmedCovidCases</th>\n",
       "      <th>ConfirmedCovidDeaths</th>\n",
       "      <th>TotalCovidDeaths</th>\n",
       "      <th>StatisticsProfileDate</th>\n",
       "      <th>CovidCasesConfirmed</th>\n",
       "      <th>HospitalisedCovidCases</th>\n",
       "      <th>...</th>\n",
       "      <th>CommunityTransmission</th>\n",
       "      <th>CloseContact</th>\n",
       "      <th>TravelAbroad</th>\n",
       "      <th>FID</th>\n",
       "      <th>HospitalisedAged65to74</th>\n",
       "      <th>HospitalisedAged75to84</th>\n",
       "      <th>HospitalisedAged85up</th>\n",
       "      <th>Aged65to74</th>\n",
       "      <th>Aged75to84</th>\n",
       "      <th>Aged85up</th>\n",
       "    </tr>\n",
       "  </thead>\n",
       "  <tbody>\n",
       "    <tr>\n",
       "      <th>0</th>\n",
       "      <td>-7.692596</td>\n",
       "      <td>53.288234</td>\n",
       "      <td>2020-02-29</td>\n",
       "      <td>1</td>\n",
       "      <td>1</td>\n",
       "      <td>0.0</td>\n",
       "      <td>0</td>\n",
       "      <td>2020/02/27 00:00:00+00</td>\n",
       "      <td>NaN</td>\n",
       "      <td>NaN</td>\n",
       "      <td>...</td>\n",
       "      <td>0</td>\n",
       "      <td>0</td>\n",
       "      <td>0</td>\n",
       "      <td>1</td>\n",
       "      <td>NaN</td>\n",
       "      <td>NaN</td>\n",
       "      <td>NaN</td>\n",
       "      <td>NaN</td>\n",
       "      <td>NaN</td>\n",
       "      <td>NaN</td>\n",
       "    </tr>\n",
       "    <tr>\n",
       "      <th>1</th>\n",
       "      <td>-7.692596</td>\n",
       "      <td>53.288234</td>\n",
       "      <td>2020-03-03</td>\n",
       "      <td>1</td>\n",
       "      <td>2</td>\n",
       "      <td>0.0</td>\n",
       "      <td>0</td>\n",
       "      <td>2020/03/01 00:00:00+00</td>\n",
       "      <td>NaN</td>\n",
       "      <td>NaN</td>\n",
       "      <td>...</td>\n",
       "      <td>0</td>\n",
       "      <td>0</td>\n",
       "      <td>0</td>\n",
       "      <td>2</td>\n",
       "      <td>NaN</td>\n",
       "      <td>NaN</td>\n",
       "      <td>NaN</td>\n",
       "      <td>NaN</td>\n",
       "      <td>NaN</td>\n",
       "      <td>NaN</td>\n",
       "    </tr>\n",
       "    <tr>\n",
       "      <th>2</th>\n",
       "      <td>-7.692596</td>\n",
       "      <td>53.288234</td>\n",
       "      <td>2020-03-04</td>\n",
       "      <td>4</td>\n",
       "      <td>6</td>\n",
       "      <td>0.0</td>\n",
       "      <td>0</td>\n",
       "      <td>2020/03/02 00:00:00+00</td>\n",
       "      <td>1.0</td>\n",
       "      <td>0.0</td>\n",
       "      <td>...</td>\n",
       "      <td>0</td>\n",
       "      <td>0</td>\n",
       "      <td>0</td>\n",
       "      <td>3</td>\n",
       "      <td>0.0</td>\n",
       "      <td>0.0</td>\n",
       "      <td>0.0</td>\n",
       "      <td>0.0</td>\n",
       "      <td>0.0</td>\n",
       "      <td>0.0</td>\n",
       "    </tr>\n",
       "    <tr>\n",
       "      <th>3</th>\n",
       "      <td>-7.692596</td>\n",
       "      <td>53.288234</td>\n",
       "      <td>2020-03-05</td>\n",
       "      <td>7</td>\n",
       "      <td>13</td>\n",
       "      <td>0.0</td>\n",
       "      <td>0</td>\n",
       "      <td>2020/03/03 00:00:00+00</td>\n",
       "      <td>2.0</td>\n",
       "      <td>1.0</td>\n",
       "      <td>...</td>\n",
       "      <td>0</td>\n",
       "      <td>0</td>\n",
       "      <td>0</td>\n",
       "      <td>4</td>\n",
       "      <td>0.0</td>\n",
       "      <td>0.0</td>\n",
       "      <td>0.0</td>\n",
       "      <td>0.0</td>\n",
       "      <td>0.0</td>\n",
       "      <td>0.0</td>\n",
       "    </tr>\n",
       "    <tr>\n",
       "      <th>4</th>\n",
       "      <td>-7.692596</td>\n",
       "      <td>53.288234</td>\n",
       "      <td>2020-03-06</td>\n",
       "      <td>5</td>\n",
       "      <td>18</td>\n",
       "      <td>0.0</td>\n",
       "      <td>0</td>\n",
       "      <td>2020/03/04 00:00:00+00</td>\n",
       "      <td>5.0</td>\n",
       "      <td>4.0</td>\n",
       "      <td>...</td>\n",
       "      <td>0</td>\n",
       "      <td>0</td>\n",
       "      <td>0</td>\n",
       "      <td>5</td>\n",
       "      <td>0.0</td>\n",
       "      <td>0.0</td>\n",
       "      <td>0.0</td>\n",
       "      <td>0.0</td>\n",
       "      <td>0.0</td>\n",
       "      <td>0.0</td>\n",
       "    </tr>\n",
       "  </tbody>\n",
       "</table>\n",
       "<p>5 rows × 41 columns</p>\n",
       "</div>"
      ],
      "text/plain": [
       "          X          Y        Date  ConfirmedCovidCases  \\\n",
       "0 -7.692596  53.288234  2020-02-29                    1   \n",
       "1 -7.692596  53.288234  2020-03-03                    1   \n",
       "2 -7.692596  53.288234  2020-03-04                    4   \n",
       "3 -7.692596  53.288234  2020-03-05                    7   \n",
       "4 -7.692596  53.288234  2020-03-06                    5   \n",
       "\n",
       "   TotalConfirmedCovidCases  ConfirmedCovidDeaths  TotalCovidDeaths  \\\n",
       "0                         1                   0.0                 0   \n",
       "1                         2                   0.0                 0   \n",
       "2                         6                   0.0                 0   \n",
       "3                        13                   0.0                 0   \n",
       "4                        18                   0.0                 0   \n",
       "\n",
       "    StatisticsProfileDate  CovidCasesConfirmed  HospitalisedCovidCases  ...  \\\n",
       "0  2020/02/27 00:00:00+00                  NaN                     NaN  ...   \n",
       "1  2020/03/01 00:00:00+00                  NaN                     NaN  ...   \n",
       "2  2020/03/02 00:00:00+00                  1.0                     0.0  ...   \n",
       "3  2020/03/03 00:00:00+00                  2.0                     1.0  ...   \n",
       "4  2020/03/04 00:00:00+00                  5.0                     4.0  ...   \n",
       "\n",
       "   CommunityTransmission  CloseContact  TravelAbroad  FID  \\\n",
       "0                      0             0             0    1   \n",
       "1                      0             0             0    2   \n",
       "2                      0             0             0    3   \n",
       "3                      0             0             0    4   \n",
       "4                      0             0             0    5   \n",
       "\n",
       "   HospitalisedAged65to74  HospitalisedAged75to84  HospitalisedAged85up  \\\n",
       "0                     NaN                     NaN                   NaN   \n",
       "1                     NaN                     NaN                   NaN   \n",
       "2                     0.0                     0.0                   0.0   \n",
       "3                     0.0                     0.0                   0.0   \n",
       "4                     0.0                     0.0                   0.0   \n",
       "\n",
       "   Aged65to74  Aged75to84  Aged85up  \n",
       "0         NaN         NaN       NaN  \n",
       "1         NaN         NaN       NaN  \n",
       "2         0.0         0.0       0.0  \n",
       "3         0.0         0.0       0.0  \n",
       "4         0.0         0.0       0.0  \n",
       "\n",
       "[5 rows x 41 columns]"
      ]
     },
     "execution_count": 4,
     "metadata": {},
     "output_type": "execute_result"
    }
   ],
   "source": [
    "# Ensuring the Date is just date, and not datetime\n",
    "df['Date'] = pd.to_datetime(df['Date']).dt.date\n",
    "df.head()"
   ]
  },
  {
   "cell_type": "code",
   "execution_count": 5,
   "id": "f51f50f4",
   "metadata": {},
   "outputs": [
    {
     "data": {
      "text/plain": [
       "(648, 41)"
      ]
     },
     "execution_count": 5,
     "metadata": {},
     "output_type": "execute_result"
    }
   ],
   "source": [
    "# examining columns and rows\n",
    "df.shape"
   ]
  },
  {
   "cell_type": "code",
   "execution_count": 6,
   "id": "410f616b",
   "metadata": {},
   "outputs": [
    {
     "name": "stdout",
     "output_type": "stream",
     "text": [
      "<class 'pandas.core.frame.DataFrame'>\n",
      "RangeIndex: 648 entries, 0 to 647\n",
      "Data columns (total 41 columns):\n",
      " #   Column                       Non-Null Count  Dtype  \n",
      "---  ------                       --------------  -----  \n",
      " 0   X                            648 non-null    float64\n",
      " 1   Y                            648 non-null    float64\n",
      " 2   Date                         648 non-null    object \n",
      " 3   ConfirmedCovidCases          648 non-null    int64  \n",
      " 4   TotalConfirmedCovidCases     648 non-null    int64  \n",
      " 5   ConfirmedCovidDeaths         499 non-null    float64\n",
      " 6   TotalCovidDeaths             648 non-null    int64  \n",
      " 7   StatisticsProfileDate        648 non-null    object \n",
      " 8   CovidCasesConfirmed          646 non-null    float64\n",
      " 9   HospitalisedCovidCases       646 non-null    float64\n",
      " 10  RequiringICUCovidCases       646 non-null    float64\n",
      " 11  HealthcareWorkersCovidCases  646 non-null    float64\n",
      " 12  ClustersNotified             626 non-null    float64\n",
      " 13  HospitalisedAged5            646 non-null    float64\n",
      " 14  HospitalisedAged5to14        646 non-null    float64\n",
      " 15  HospitalisedAged15to24       646 non-null    float64\n",
      " 16  HospitalisedAged25to34       646 non-null    float64\n",
      " 17  HospitalisedAged35to44       646 non-null    float64\n",
      " 18  HospitalisedAged45to54       646 non-null    float64\n",
      " 19  HospitalisedAged55to64       646 non-null    float64\n",
      " 20  Male                         646 non-null    float64\n",
      " 21  Female                       646 non-null    float64\n",
      " 22  Unknown                      646 non-null    float64\n",
      " 23  Aged1to4                     646 non-null    float64\n",
      " 24  Aged5to14                    646 non-null    float64\n",
      " 25  Aged15to24                   646 non-null    float64\n",
      " 26  Aged25to34                   646 non-null    float64\n",
      " 27  Aged35to44                   646 non-null    float64\n",
      " 28  Aged45to54                   646 non-null    float64\n",
      " 29  Aged55to64                   646 non-null    float64\n",
      " 30  Median_Age                   646 non-null    float64\n",
      " 31  CommunityTransmission        648 non-null    int64  \n",
      " 32  CloseContact                 648 non-null    int64  \n",
      " 33  TravelAbroad                 648 non-null    int64  \n",
      " 34  FID                          648 non-null    int64  \n",
      " 35  HospitalisedAged65to74       646 non-null    float64\n",
      " 36  HospitalisedAged75to84       646 non-null    float64\n",
      " 37  HospitalisedAged85up         646 non-null    float64\n",
      " 38  Aged65to74                   646 non-null    float64\n",
      " 39  Aged75to84                   646 non-null    float64\n",
      " 40  Aged85up                     646 non-null    float64\n",
      "dtypes: float64(32), int64(7), object(2)\n",
      "memory usage: 207.7+ KB\n"
     ]
    }
   ],
   "source": [
    "# checking type for each column\n",
    "df.info()"
   ]
  },
  {
   "cell_type": "code",
   "execution_count": 7,
   "id": "463eb1f3",
   "metadata": {},
   "outputs": [
    {
     "data": {
      "text/plain": [
       "Index(['X', 'Y', 'Date', 'ConfirmedCovidCases', 'TotalConfirmedCovidCases',\n",
       "       'ConfirmedCovidDeaths', 'TotalCovidDeaths', 'StatisticsProfileDate',\n",
       "       'CovidCasesConfirmed', 'HospitalisedCovidCases',\n",
       "       'RequiringICUCovidCases', 'HealthcareWorkersCovidCases',\n",
       "       'ClustersNotified', 'HospitalisedAged5', 'HospitalisedAged5to14',\n",
       "       'HospitalisedAged15to24', 'HospitalisedAged25to34',\n",
       "       'HospitalisedAged35to44', 'HospitalisedAged45to54',\n",
       "       'HospitalisedAged55to64', 'Male', 'Female', 'Unknown', 'Aged1to4',\n",
       "       'Aged5to14', 'Aged15to24', 'Aged25to34', 'Aged35to44', 'Aged45to54',\n",
       "       'Aged55to64', 'Median_Age', 'CommunityTransmission', 'CloseContact',\n",
       "       'TravelAbroad', 'FID', 'HospitalisedAged65to74',\n",
       "       'HospitalisedAged75to84', 'HospitalisedAged85up', 'Aged65to74',\n",
       "       'Aged75to84', 'Aged85up'],\n",
       "      dtype='object')"
      ]
     },
     "execution_count": 7,
     "metadata": {},
     "output_type": "execute_result"
    }
   ],
   "source": [
    "# examining the names of the columns\n",
    "df.columns"
   ]
  },
  {
   "cell_type": "markdown",
   "id": "57bcc897",
   "metadata": {},
   "source": [
    "## Examining location\n",
    "Below exploration showed that there are no unique locations in the dataset and therefore, redundant. "
   ]
  },
  {
   "cell_type": "code",
   "execution_count": 8,
   "id": "adbb13e2",
   "metadata": {},
   "outputs": [
    {
     "data": {
      "text/plain": [
       "array([-7.692596])"
      ]
     },
     "execution_count": 8,
     "metadata": {},
     "output_type": "execute_result"
    }
   ],
   "source": [
    "df['X'].unique()"
   ]
  },
  {
   "cell_type": "code",
   "execution_count": 9,
   "id": "e78a15f9",
   "metadata": {},
   "outputs": [
    {
     "data": {
      "text/plain": [
       "array([53.288234])"
      ]
     },
     "execution_count": 9,
     "metadata": {},
     "output_type": "execute_result"
    }
   ],
   "source": [
    "df['Y'].unique()"
   ]
  },
  {
   "cell_type": "code",
   "execution_count": 10,
   "id": "7d99f4f3",
   "metadata": {},
   "outputs": [
    {
     "data": {
      "text/plain": [
       "array([0], dtype=int64)"
      ]
     },
     "execution_count": 10,
     "metadata": {},
     "output_type": "execute_result"
    }
   ],
   "source": [
    "df['CommunityTransmission'].unique()"
   ]
  },
  {
   "cell_type": "code",
   "execution_count": 11,
   "id": "a9c341af",
   "metadata": {},
   "outputs": [
    {
     "data": {
      "text/plain": [
       "array([0], dtype=int64)"
      ]
     },
     "execution_count": 11,
     "metadata": {},
     "output_type": "execute_result"
    }
   ],
   "source": [
    "df['CloseContact'].unique()"
   ]
  },
  {
   "cell_type": "code",
   "execution_count": 12,
   "id": "ae237be4",
   "metadata": {},
   "outputs": [
    {
     "data": {
      "text/plain": [
       "array([0], dtype=int64)"
      ]
     },
     "execution_count": 12,
     "metadata": {},
     "output_type": "execute_result"
    }
   ],
   "source": [
    "df['TravelAbroad'].unique()"
   ]
  },
  {
   "cell_type": "markdown",
   "id": "012e8db8",
   "metadata": {},
   "source": [
    "### Dropping Columns (X and Y)\n",
    "\n",
    "| Column | Reason |\n",
    "|---|---|\n",
    "| df['X'] | no unique values |\n",
    "| df['Y'] | no unique values |\n",
    "| df['StatisticsProfileDate'] | Very similar to df['Date']|\n",
    "| df['CovidCasesConfirmed'] | Very similar to df['Total Confirmed Covid Cases'] |\n",
    "| df['FID'] | very similar to Index in pandas |\n",
    "| df['CommunityTransmission'] | no unique values |\n",
    "| df['CloseContact'] | no unique values |\n",
    "| df['TravelAbroad'] | no unique values |\n"
   ]
  },
  {
   "cell_type": "code",
   "execution_count": 13,
   "id": "b09ae6ae",
   "metadata": {},
   "outputs": [],
   "source": [
    "# Dropping irrelevant columns\n",
    "df = df.drop(columns = ['X','Y','CovidCasesConfirmed','StatisticsProfileDate', 'FID', \n",
    "                        'CommunityTransmission', 'CloseContact','TravelAbroad'])"
   ]
  },
  {
   "cell_type": "markdown",
   "id": "5d2d1624",
   "metadata": {},
   "source": [
    "## Examining date\n",
    "Below exploration showed that there are are unique dates in the dataset. "
   ]
  },
  {
   "cell_type": "code",
   "execution_count": 14,
   "id": "ec606b64",
   "metadata": {},
   "outputs": [
    {
     "data": {
      "text/plain": [
       "array([datetime.date(2020, 2, 29), datetime.date(2020, 3, 3),\n",
       "       datetime.date(2020, 3, 4), datetime.date(2020, 3, 5),\n",
       "       datetime.date(2020, 3, 6), datetime.date(2020, 3, 7),\n",
       "       datetime.date(2020, 3, 8), datetime.date(2020, 3, 9),\n",
       "       datetime.date(2020, 3, 10), datetime.date(2020, 3, 11),\n",
       "       datetime.date(2020, 3, 12), datetime.date(2020, 3, 13),\n",
       "       datetime.date(2020, 3, 14), datetime.date(2020, 3, 15),\n",
       "       datetime.date(2020, 3, 16), datetime.date(2020, 3, 17),\n",
       "       datetime.date(2020, 3, 18), datetime.date(2020, 3, 19),\n",
       "       datetime.date(2020, 3, 20), datetime.date(2020, 3, 21),\n",
       "       datetime.date(2020, 3, 22), datetime.date(2020, 3, 23),\n",
       "       datetime.date(2020, 3, 24), datetime.date(2020, 3, 25),\n",
       "       datetime.date(2020, 3, 26), datetime.date(2020, 3, 27),\n",
       "       datetime.date(2020, 3, 28), datetime.date(2020, 3, 29),\n",
       "       datetime.date(2020, 3, 30), datetime.date(2020, 3, 31),\n",
       "       datetime.date(2020, 4, 1), datetime.date(2020, 4, 2),\n",
       "       datetime.date(2020, 4, 3), datetime.date(2020, 4, 4),\n",
       "       datetime.date(2020, 4, 5), datetime.date(2020, 4, 6),\n",
       "       datetime.date(2020, 4, 7), datetime.date(2020, 4, 8),\n",
       "       datetime.date(2020, 4, 9), datetime.date(2020, 4, 10),\n",
       "       datetime.date(2020, 4, 11), datetime.date(2020, 4, 12),\n",
       "       datetime.date(2020, 4, 13), datetime.date(2020, 4, 14),\n",
       "       datetime.date(2020, 4, 15), datetime.date(2020, 4, 16),\n",
       "       datetime.date(2020, 4, 17), datetime.date(2020, 4, 18),\n",
       "       datetime.date(2020, 4, 19), datetime.date(2020, 4, 20),\n",
       "       datetime.date(2020, 4, 21), datetime.date(2020, 4, 22),\n",
       "       datetime.date(2020, 4, 23), datetime.date(2020, 4, 24),\n",
       "       datetime.date(2020, 4, 25), datetime.date(2020, 4, 26),\n",
       "       datetime.date(2020, 4, 27), datetime.date(2020, 4, 28),\n",
       "       datetime.date(2020, 4, 29), datetime.date(2020, 4, 30),\n",
       "       datetime.date(2020, 5, 1), datetime.date(2020, 5, 2),\n",
       "       datetime.date(2020, 5, 3), datetime.date(2020, 5, 4),\n",
       "       datetime.date(2020, 5, 5), datetime.date(2020, 5, 6),\n",
       "       datetime.date(2020, 5, 7), datetime.date(2020, 5, 8),\n",
       "       datetime.date(2020, 5, 9), datetime.date(2020, 5, 10),\n",
       "       datetime.date(2020, 5, 11), datetime.date(2020, 5, 12),\n",
       "       datetime.date(2020, 5, 13), datetime.date(2020, 5, 14),\n",
       "       datetime.date(2020, 5, 15), datetime.date(2020, 5, 16),\n",
       "       datetime.date(2020, 5, 17), datetime.date(2020, 5, 18),\n",
       "       datetime.date(2020, 5, 19), datetime.date(2020, 5, 20),\n",
       "       datetime.date(2020, 5, 21), datetime.date(2020, 5, 22),\n",
       "       datetime.date(2020, 5, 23), datetime.date(2020, 5, 24),\n",
       "       datetime.date(2020, 5, 25), datetime.date(2020, 5, 26),\n",
       "       datetime.date(2020, 5, 27), datetime.date(2020, 5, 28),\n",
       "       datetime.date(2020, 5, 29), datetime.date(2020, 5, 30),\n",
       "       datetime.date(2020, 5, 31), datetime.date(2020, 6, 1),\n",
       "       datetime.date(2020, 6, 2), datetime.date(2020, 6, 3),\n",
       "       datetime.date(2020, 6, 4), datetime.date(2020, 6, 5),\n",
       "       datetime.date(2020, 6, 6), datetime.date(2020, 6, 7),\n",
       "       datetime.date(2020, 6, 8), datetime.date(2020, 6, 9),\n",
       "       datetime.date(2020, 6, 10), datetime.date(2020, 6, 11),\n",
       "       datetime.date(2020, 6, 12), datetime.date(2020, 6, 13),\n",
       "       datetime.date(2020, 6, 14), datetime.date(2020, 6, 15),\n",
       "       datetime.date(2020, 6, 16), datetime.date(2020, 6, 17),\n",
       "       datetime.date(2020, 6, 18), datetime.date(2020, 6, 19),\n",
       "       datetime.date(2020, 6, 20), datetime.date(2020, 6, 21),\n",
       "       datetime.date(2020, 6, 22), datetime.date(2020, 6, 23),\n",
       "       datetime.date(2020, 6, 24), datetime.date(2020, 6, 25),\n",
       "       datetime.date(2020, 6, 26), datetime.date(2020, 6, 27),\n",
       "       datetime.date(2020, 6, 28), datetime.date(2020, 6, 29),\n",
       "       datetime.date(2020, 6, 30), datetime.date(2020, 7, 1),\n",
       "       datetime.date(2020, 7, 2), datetime.date(2020, 7, 3),\n",
       "       datetime.date(2020, 7, 4), datetime.date(2020, 7, 5),\n",
       "       datetime.date(2020, 7, 6), datetime.date(2020, 7, 7),\n",
       "       datetime.date(2020, 7, 8), datetime.date(2020, 7, 9),\n",
       "       datetime.date(2020, 7, 10), datetime.date(2020, 7, 11),\n",
       "       datetime.date(2020, 7, 12), datetime.date(2020, 7, 13),\n",
       "       datetime.date(2020, 7, 14), datetime.date(2020, 7, 15),\n",
       "       datetime.date(2020, 7, 16), datetime.date(2020, 7, 17),\n",
       "       datetime.date(2020, 7, 18), datetime.date(2020, 7, 19),\n",
       "       datetime.date(2020, 7, 20), datetime.date(2020, 7, 21),\n",
       "       datetime.date(2020, 7, 22), datetime.date(2020, 7, 23),\n",
       "       datetime.date(2020, 7, 24), datetime.date(2020, 7, 25),\n",
       "       datetime.date(2020, 7, 26), datetime.date(2020, 7, 27),\n",
       "       datetime.date(2020, 7, 28), datetime.date(2020, 7, 29),\n",
       "       datetime.date(2020, 7, 30), datetime.date(2020, 7, 31),\n",
       "       datetime.date(2020, 8, 1), datetime.date(2020, 8, 2),\n",
       "       datetime.date(2020, 8, 3), datetime.date(2020, 8, 4),\n",
       "       datetime.date(2020, 8, 5), datetime.date(2020, 8, 6),\n",
       "       datetime.date(2020, 8, 7), datetime.date(2020, 8, 8),\n",
       "       datetime.date(2020, 8, 9), datetime.date(2020, 8, 10),\n",
       "       datetime.date(2020, 8, 11), datetime.date(2020, 8, 12),\n",
       "       datetime.date(2020, 8, 13), datetime.date(2020, 8, 14),\n",
       "       datetime.date(2020, 8, 15), datetime.date(2020, 8, 16),\n",
       "       datetime.date(2020, 8, 17), datetime.date(2020, 8, 18),\n",
       "       datetime.date(2020, 8, 19), datetime.date(2020, 8, 20),\n",
       "       datetime.date(2020, 8, 21), datetime.date(2020, 8, 22),\n",
       "       datetime.date(2020, 8, 23), datetime.date(2020, 8, 24),\n",
       "       datetime.date(2020, 8, 25), datetime.date(2020, 8, 26),\n",
       "       datetime.date(2020, 8, 27), datetime.date(2020, 8, 28),\n",
       "       datetime.date(2020, 8, 29), datetime.date(2020, 8, 30),\n",
       "       datetime.date(2020, 8, 31), datetime.date(2020, 9, 1),\n",
       "       datetime.date(2020, 9, 2), datetime.date(2020, 9, 3),\n",
       "       datetime.date(2020, 9, 4), datetime.date(2020, 9, 5),\n",
       "       datetime.date(2020, 9, 6), datetime.date(2020, 9, 7),\n",
       "       datetime.date(2020, 9, 8), datetime.date(2020, 9, 9),\n",
       "       datetime.date(2020, 9, 10), datetime.date(2020, 9, 11),\n",
       "       datetime.date(2020, 9, 12), datetime.date(2020, 9, 13),\n",
       "       datetime.date(2020, 9, 14), datetime.date(2020, 9, 15),\n",
       "       datetime.date(2020, 9, 16), datetime.date(2020, 9, 17),\n",
       "       datetime.date(2020, 9, 18), datetime.date(2020, 9, 19),\n",
       "       datetime.date(2020, 9, 20), datetime.date(2020, 9, 21),\n",
       "       datetime.date(2020, 9, 22), datetime.date(2020, 9, 23),\n",
       "       datetime.date(2020, 9, 24), datetime.date(2020, 9, 25),\n",
       "       datetime.date(2020, 9, 26), datetime.date(2020, 9, 27),\n",
       "       datetime.date(2020, 9, 28), datetime.date(2020, 9, 29),\n",
       "       datetime.date(2020, 9, 30), datetime.date(2020, 10, 1),\n",
       "       datetime.date(2020, 10, 2), datetime.date(2020, 10, 3),\n",
       "       datetime.date(2020, 10, 4), datetime.date(2020, 10, 5),\n",
       "       datetime.date(2020, 10, 6), datetime.date(2020, 10, 7),\n",
       "       datetime.date(2020, 10, 8), datetime.date(2020, 10, 9),\n",
       "       datetime.date(2020, 10, 10), datetime.date(2020, 10, 11),\n",
       "       datetime.date(2020, 10, 12), datetime.date(2020, 10, 13),\n",
       "       datetime.date(2020, 10, 14), datetime.date(2020, 10, 15),\n",
       "       datetime.date(2020, 10, 16), datetime.date(2020, 10, 17),\n",
       "       datetime.date(2020, 10, 18), datetime.date(2020, 10, 19),\n",
       "       datetime.date(2020, 10, 20), datetime.date(2020, 10, 21),\n",
       "       datetime.date(2020, 10, 22), datetime.date(2020, 10, 23),\n",
       "       datetime.date(2020, 10, 24), datetime.date(2020, 10, 25),\n",
       "       datetime.date(2020, 10, 26), datetime.date(2020, 10, 27),\n",
       "       datetime.date(2020, 10, 28), datetime.date(2020, 10, 29),\n",
       "       datetime.date(2020, 10, 30), datetime.date(2020, 10, 31),\n",
       "       datetime.date(2020, 11, 1), datetime.date(2020, 11, 2),\n",
       "       datetime.date(2020, 11, 3), datetime.date(2020, 11, 4),\n",
       "       datetime.date(2020, 11, 5), datetime.date(2020, 11, 6),\n",
       "       datetime.date(2020, 11, 7), datetime.date(2020, 11, 8),\n",
       "       datetime.date(2020, 11, 9), datetime.date(2020, 11, 10),\n",
       "       datetime.date(2020, 11, 11), datetime.date(2020, 11, 12),\n",
       "       datetime.date(2020, 11, 13), datetime.date(2020, 11, 14),\n",
       "       datetime.date(2020, 11, 15), datetime.date(2020, 11, 16),\n",
       "       datetime.date(2020, 11, 17), datetime.date(2020, 11, 18),\n",
       "       datetime.date(2020, 11, 19), datetime.date(2020, 11, 20),\n",
       "       datetime.date(2020, 11, 21), datetime.date(2020, 11, 22),\n",
       "       datetime.date(2020, 11, 23), datetime.date(2020, 11, 24),\n",
       "       datetime.date(2020, 11, 25), datetime.date(2020, 11, 26),\n",
       "       datetime.date(2020, 11, 27), datetime.date(2020, 11, 28),\n",
       "       datetime.date(2020, 11, 29), datetime.date(2020, 11, 30),\n",
       "       datetime.date(2020, 12, 1), datetime.date(2020, 12, 2),\n",
       "       datetime.date(2020, 12, 3), datetime.date(2020, 12, 4),\n",
       "       datetime.date(2020, 12, 5), datetime.date(2020, 12, 6),\n",
       "       datetime.date(2020, 12, 7), datetime.date(2020, 12, 8),\n",
       "       datetime.date(2020, 12, 9), datetime.date(2020, 12, 10),\n",
       "       datetime.date(2020, 12, 11), datetime.date(2020, 12, 12),\n",
       "       datetime.date(2020, 12, 13), datetime.date(2020, 12, 14),\n",
       "       datetime.date(2020, 12, 15), datetime.date(2020, 12, 16),\n",
       "       datetime.date(2020, 12, 17), datetime.date(2020, 12, 18),\n",
       "       datetime.date(2020, 12, 19), datetime.date(2020, 12, 20),\n",
       "       datetime.date(2020, 12, 21), datetime.date(2020, 12, 22),\n",
       "       datetime.date(2020, 12, 23), datetime.date(2020, 12, 24),\n",
       "       datetime.date(2020, 12, 25), datetime.date(2020, 12, 26),\n",
       "       datetime.date(2020, 12, 27), datetime.date(2020, 12, 28),\n",
       "       datetime.date(2020, 12, 29), datetime.date(2020, 12, 30),\n",
       "       datetime.date(2020, 12, 31), datetime.date(2021, 1, 1),\n",
       "       datetime.date(2021, 1, 2), datetime.date(2021, 1, 3),\n",
       "       datetime.date(2021, 1, 4), datetime.date(2021, 1, 5),\n",
       "       datetime.date(2021, 1, 6), datetime.date(2021, 1, 7),\n",
       "       datetime.date(2021, 1, 8), datetime.date(2021, 1, 9),\n",
       "       datetime.date(2021, 1, 10), datetime.date(2021, 1, 11),\n",
       "       datetime.date(2021, 1, 12), datetime.date(2021, 1, 13),\n",
       "       datetime.date(2021, 1, 14), datetime.date(2021, 1, 15),\n",
       "       datetime.date(2021, 1, 16), datetime.date(2021, 1, 17),\n",
       "       datetime.date(2021, 1, 18), datetime.date(2021, 1, 19),\n",
       "       datetime.date(2021, 1, 20), datetime.date(2021, 1, 21),\n",
       "       datetime.date(2021, 1, 22), datetime.date(2021, 1, 23),\n",
       "       datetime.date(2021, 1, 24), datetime.date(2021, 1, 25),\n",
       "       datetime.date(2021, 1, 26), datetime.date(2021, 1, 27),\n",
       "       datetime.date(2021, 1, 28), datetime.date(2021, 1, 29),\n",
       "       datetime.date(2021, 1, 30), datetime.date(2021, 1, 31),\n",
       "       datetime.date(2021, 2, 1), datetime.date(2021, 2, 2),\n",
       "       datetime.date(2021, 2, 3), datetime.date(2021, 2, 4),\n",
       "       datetime.date(2021, 2, 5), datetime.date(2021, 2, 6),\n",
       "       datetime.date(2021, 2, 7), datetime.date(2021, 2, 8),\n",
       "       datetime.date(2021, 2, 9), datetime.date(2021, 2, 10),\n",
       "       datetime.date(2021, 2, 11), datetime.date(2021, 2, 12),\n",
       "       datetime.date(2021, 2, 13), datetime.date(2021, 2, 14),\n",
       "       datetime.date(2021, 2, 15), datetime.date(2021, 2, 16),\n",
       "       datetime.date(2021, 2, 17), datetime.date(2021, 2, 18),\n",
       "       datetime.date(2021, 2, 19), datetime.date(2021, 2, 20),\n",
       "       datetime.date(2021, 2, 21), datetime.date(2021, 2, 22),\n",
       "       datetime.date(2021, 2, 23), datetime.date(2021, 2, 24),\n",
       "       datetime.date(2021, 2, 25), datetime.date(2021, 2, 26),\n",
       "       datetime.date(2021, 2, 27), datetime.date(2021, 2, 28),\n",
       "       datetime.date(2021, 3, 1), datetime.date(2021, 3, 2),\n",
       "       datetime.date(2021, 3, 3), datetime.date(2021, 3, 4),\n",
       "       datetime.date(2021, 3, 5), datetime.date(2021, 3, 6),\n",
       "       datetime.date(2021, 3, 7), datetime.date(2021, 3, 8),\n",
       "       datetime.date(2021, 3, 9), datetime.date(2021, 3, 10),\n",
       "       datetime.date(2021, 3, 11), datetime.date(2021, 3, 12),\n",
       "       datetime.date(2021, 3, 13), datetime.date(2021, 3, 14),\n",
       "       datetime.date(2021, 3, 15), datetime.date(2021, 3, 16),\n",
       "       datetime.date(2021, 3, 17), datetime.date(2021, 3, 18),\n",
       "       datetime.date(2021, 3, 19), datetime.date(2021, 3, 20),\n",
       "       datetime.date(2021, 3, 21), datetime.date(2021, 3, 22),\n",
       "       datetime.date(2021, 3, 23), datetime.date(2021, 3, 24),\n",
       "       datetime.date(2021, 3, 25), datetime.date(2021, 3, 26),\n",
       "       datetime.date(2021, 3, 27), datetime.date(2021, 3, 28),\n",
       "       datetime.date(2021, 3, 29), datetime.date(2021, 3, 30),\n",
       "       datetime.date(2021, 3, 31), datetime.date(2021, 4, 1),\n",
       "       datetime.date(2021, 4, 2), datetime.date(2021, 4, 3),\n",
       "       datetime.date(2021, 4, 4), datetime.date(2021, 4, 5),\n",
       "       datetime.date(2021, 4, 6), datetime.date(2021, 4, 7),\n",
       "       datetime.date(2021, 4, 8), datetime.date(2021, 4, 9),\n",
       "       datetime.date(2021, 4, 10), datetime.date(2021, 4, 11),\n",
       "       datetime.date(2021, 4, 12), datetime.date(2021, 4, 13),\n",
       "       datetime.date(2021, 4, 14), datetime.date(2021, 4, 15),\n",
       "       datetime.date(2021, 4, 16), datetime.date(2021, 4, 17),\n",
       "       datetime.date(2021, 4, 18), datetime.date(2021, 4, 19),\n",
       "       datetime.date(2021, 4, 20), datetime.date(2021, 4, 21),\n",
       "       datetime.date(2021, 4, 22), datetime.date(2021, 4, 23),\n",
       "       datetime.date(2021, 4, 24), datetime.date(2021, 4, 25),\n",
       "       datetime.date(2021, 4, 26), datetime.date(2021, 4, 27),\n",
       "       datetime.date(2021, 4, 28), datetime.date(2021, 4, 29),\n",
       "       datetime.date(2021, 4, 30), datetime.date(2021, 5, 1),\n",
       "       datetime.date(2021, 5, 2), datetime.date(2021, 5, 3),\n",
       "       datetime.date(2021, 5, 4), datetime.date(2021, 5, 5),\n",
       "       datetime.date(2021, 5, 6), datetime.date(2021, 5, 7),\n",
       "       datetime.date(2021, 5, 8), datetime.date(2021, 5, 9),\n",
       "       datetime.date(2021, 5, 10), datetime.date(2021, 5, 11),\n",
       "       datetime.date(2021, 5, 12), datetime.date(2021, 5, 13),\n",
       "       datetime.date(2021, 5, 14), datetime.date(2021, 5, 15),\n",
       "       datetime.date(2021, 5, 16), datetime.date(2021, 5, 17),\n",
       "       datetime.date(2021, 5, 18), datetime.date(2021, 5, 19),\n",
       "       datetime.date(2021, 5, 20), datetime.date(2021, 5, 21),\n",
       "       datetime.date(2021, 5, 22), datetime.date(2021, 5, 23),\n",
       "       datetime.date(2021, 5, 24), datetime.date(2021, 5, 25),\n",
       "       datetime.date(2021, 5, 26), datetime.date(2021, 5, 27),\n",
       "       datetime.date(2021, 5, 28), datetime.date(2021, 5, 29),\n",
       "       datetime.date(2021, 5, 30), datetime.date(2021, 5, 31),\n",
       "       datetime.date(2021, 6, 1), datetime.date(2021, 6, 2),\n",
       "       datetime.date(2021, 6, 3), datetime.date(2021, 6, 4),\n",
       "       datetime.date(2021, 6, 5), datetime.date(2021, 6, 6),\n",
       "       datetime.date(2021, 6, 7), datetime.date(2021, 6, 8),\n",
       "       datetime.date(2021, 6, 9), datetime.date(2021, 6, 10),\n",
       "       datetime.date(2021, 6, 11), datetime.date(2021, 6, 12),\n",
       "       datetime.date(2021, 6, 13), datetime.date(2021, 6, 14),\n",
       "       datetime.date(2021, 6, 15), datetime.date(2021, 6, 16),\n",
       "       datetime.date(2021, 6, 17), datetime.date(2021, 6, 18),\n",
       "       datetime.date(2021, 6, 19), datetime.date(2021, 6, 20),\n",
       "       datetime.date(2021, 6, 21), datetime.date(2021, 6, 22),\n",
       "       datetime.date(2021, 6, 23), datetime.date(2021, 6, 24),\n",
       "       datetime.date(2021, 6, 25), datetime.date(2021, 6, 26),\n",
       "       datetime.date(2021, 6, 27), datetime.date(2021, 6, 28),\n",
       "       datetime.date(2021, 6, 29), datetime.date(2021, 6, 30),\n",
       "       datetime.date(2021, 7, 1), datetime.date(2021, 7, 2),\n",
       "       datetime.date(2021, 7, 3), datetime.date(2021, 7, 4),\n",
       "       datetime.date(2021, 7, 5), datetime.date(2021, 7, 6),\n",
       "       datetime.date(2021, 7, 7), datetime.date(2021, 7, 8),\n",
       "       datetime.date(2021, 7, 9), datetime.date(2021, 7, 10),\n",
       "       datetime.date(2021, 7, 11), datetime.date(2021, 7, 12),\n",
       "       datetime.date(2021, 7, 13), datetime.date(2021, 7, 14),\n",
       "       datetime.date(2021, 7, 15), datetime.date(2021, 7, 16),\n",
       "       datetime.date(2021, 7, 17), datetime.date(2021, 7, 18),\n",
       "       datetime.date(2021, 7, 19), datetime.date(2021, 7, 20),\n",
       "       datetime.date(2021, 7, 21), datetime.date(2021, 7, 22),\n",
       "       datetime.date(2021, 7, 23), datetime.date(2021, 7, 24),\n",
       "       datetime.date(2021, 7, 25), datetime.date(2021, 7, 26),\n",
       "       datetime.date(2021, 7, 27), datetime.date(2021, 7, 28),\n",
       "       datetime.date(2021, 7, 29), datetime.date(2021, 7, 30),\n",
       "       datetime.date(2021, 7, 31), datetime.date(2021, 8, 1),\n",
       "       datetime.date(2021, 8, 2), datetime.date(2021, 8, 3),\n",
       "       datetime.date(2021, 8, 4), datetime.date(2021, 8, 5),\n",
       "       datetime.date(2021, 8, 6), datetime.date(2021, 8, 7),\n",
       "       datetime.date(2021, 8, 8), datetime.date(2021, 8, 9),\n",
       "       datetime.date(2021, 8, 10), datetime.date(2021, 8, 11),\n",
       "       datetime.date(2021, 8, 12), datetime.date(2021, 8, 13),\n",
       "       datetime.date(2021, 8, 14), datetime.date(2021, 8, 15),\n",
       "       datetime.date(2021, 8, 16), datetime.date(2021, 8, 17),\n",
       "       datetime.date(2021, 8, 18), datetime.date(2021, 8, 19),\n",
       "       datetime.date(2021, 8, 20), datetime.date(2021, 8, 21),\n",
       "       datetime.date(2021, 8, 22), datetime.date(2021, 8, 23),\n",
       "       datetime.date(2021, 8, 24), datetime.date(2021, 8, 25),\n",
       "       datetime.date(2021, 8, 26), datetime.date(2021, 8, 27),\n",
       "       datetime.date(2021, 8, 28), datetime.date(2021, 8, 29),\n",
       "       datetime.date(2021, 8, 30), datetime.date(2021, 8, 31),\n",
       "       datetime.date(2021, 9, 1), datetime.date(2021, 9, 2),\n",
       "       datetime.date(2021, 9, 3), datetime.date(2021, 9, 4),\n",
       "       datetime.date(2021, 9, 5), datetime.date(2021, 9, 6),\n",
       "       datetime.date(2021, 9, 7), datetime.date(2021, 9, 8),\n",
       "       datetime.date(2021, 9, 9), datetime.date(2021, 9, 10),\n",
       "       datetime.date(2021, 9, 11), datetime.date(2021, 9, 12),\n",
       "       datetime.date(2021, 9, 13), datetime.date(2021, 9, 14),\n",
       "       datetime.date(2021, 9, 15), datetime.date(2021, 9, 16),\n",
       "       datetime.date(2021, 9, 17), datetime.date(2021, 9, 18),\n",
       "       datetime.date(2021, 9, 19), datetime.date(2021, 9, 20),\n",
       "       datetime.date(2021, 9, 21), datetime.date(2021, 9, 22),\n",
       "       datetime.date(2021, 9, 23), datetime.date(2021, 9, 24),\n",
       "       datetime.date(2021, 9, 25), datetime.date(2021, 9, 26),\n",
       "       datetime.date(2021, 9, 27), datetime.date(2021, 9, 28),\n",
       "       datetime.date(2021, 9, 29), datetime.date(2021, 9, 30),\n",
       "       datetime.date(2021, 10, 1), datetime.date(2021, 10, 2),\n",
       "       datetime.date(2021, 10, 3), datetime.date(2021, 10, 4),\n",
       "       datetime.date(2021, 10, 5), datetime.date(2021, 10, 6),\n",
       "       datetime.date(2021, 10, 7), datetime.date(2021, 10, 8),\n",
       "       datetime.date(2021, 10, 9), datetime.date(2021, 10, 10),\n",
       "       datetime.date(2021, 10, 11), datetime.date(2021, 10, 12),\n",
       "       datetime.date(2021, 10, 13), datetime.date(2021, 10, 14),\n",
       "       datetime.date(2021, 10, 15), datetime.date(2021, 10, 16),\n",
       "       datetime.date(2021, 10, 17), datetime.date(2021, 10, 18),\n",
       "       datetime.date(2021, 10, 19), datetime.date(2021, 10, 20),\n",
       "       datetime.date(2021, 10, 21), datetime.date(2021, 10, 22),\n",
       "       datetime.date(2021, 10, 23), datetime.date(2021, 10, 24),\n",
       "       datetime.date(2021, 10, 25), datetime.date(2021, 10, 26),\n",
       "       datetime.date(2021, 10, 27), datetime.date(2021, 10, 28),\n",
       "       datetime.date(2021, 10, 29), datetime.date(2021, 10, 30),\n",
       "       datetime.date(2021, 10, 31), datetime.date(2021, 11, 1),\n",
       "       datetime.date(2021, 11, 2), datetime.date(2021, 11, 3),\n",
       "       datetime.date(2021, 11, 4), datetime.date(2021, 11, 5),\n",
       "       datetime.date(2021, 11, 6), datetime.date(2021, 11, 7),\n",
       "       datetime.date(2021, 11, 8), datetime.date(2021, 11, 9),\n",
       "       datetime.date(2021, 11, 10), datetime.date(2021, 11, 11),\n",
       "       datetime.date(2021, 11, 12), datetime.date(2021, 11, 13),\n",
       "       datetime.date(2021, 11, 14), datetime.date(2021, 11, 15),\n",
       "       datetime.date(2021, 11, 16), datetime.date(2021, 11, 17),\n",
       "       datetime.date(2021, 11, 18), datetime.date(2021, 11, 19),\n",
       "       datetime.date(2021, 11, 20), datetime.date(2021, 11, 21),\n",
       "       datetime.date(2021, 11, 22), datetime.date(2021, 11, 23),\n",
       "       datetime.date(2021, 11, 24), datetime.date(2021, 11, 25),\n",
       "       datetime.date(2021, 11, 26), datetime.date(2021, 11, 27),\n",
       "       datetime.date(2021, 11, 28), datetime.date(2021, 11, 29),\n",
       "       datetime.date(2021, 11, 30), datetime.date(2021, 12, 1),\n",
       "       datetime.date(2021, 12, 2), datetime.date(2021, 12, 3),\n",
       "       datetime.date(2021, 12, 4), datetime.date(2021, 12, 5),\n",
       "       datetime.date(2021, 12, 6), datetime.date(2021, 12, 7),\n",
       "       datetime.date(2021, 12, 8), datetime.date(2021, 12, 9)],\n",
       "      dtype=object)"
      ]
     },
     "execution_count": 14,
     "metadata": {},
     "output_type": "execute_result"
    }
   ],
   "source": [
    "df['Date'].unique()"
   ]
  },
  {
   "cell_type": "markdown",
   "id": "203abc83",
   "metadata": {},
   "source": [
    "## Melting "
   ]
  },
  {
   "cell_type": "code",
   "execution_count": 15,
   "id": "82b909a5",
   "metadata": {},
   "outputs": [
    {
     "data": {
      "text/html": [
       "<div>\n",
       "<style scoped>\n",
       "    .dataframe tbody tr th:only-of-type {\n",
       "        vertical-align: middle;\n",
       "    }\n",
       "\n",
       "    .dataframe tbody tr th {\n",
       "        vertical-align: top;\n",
       "    }\n",
       "\n",
       "    .dataframe thead th {\n",
       "        text-align: right;\n",
       "    }\n",
       "</style>\n",
       "<table border=\"1\" class=\"dataframe\">\n",
       "  <thead>\n",
       "    <tr style=\"text-align: right;\">\n",
       "      <th></th>\n",
       "      <th>Date</th>\n",
       "      <th>Column</th>\n",
       "      <th>Cases</th>\n",
       "    </tr>\n",
       "  </thead>\n",
       "  <tbody>\n",
       "    <tr>\n",
       "      <th>0</th>\n",
       "      <td>2020-02-29</td>\n",
       "      <td>ConfirmedCovidCases</td>\n",
       "      <td>1.0</td>\n",
       "    </tr>\n",
       "    <tr>\n",
       "      <th>1</th>\n",
       "      <td>2020-03-03</td>\n",
       "      <td>ConfirmedCovidCases</td>\n",
       "      <td>1.0</td>\n",
       "    </tr>\n",
       "    <tr>\n",
       "      <th>2</th>\n",
       "      <td>2020-03-04</td>\n",
       "      <td>ConfirmedCovidCases</td>\n",
       "      <td>4.0</td>\n",
       "    </tr>\n",
       "    <tr>\n",
       "      <th>3</th>\n",
       "      <td>2020-03-05</td>\n",
       "      <td>ConfirmedCovidCases</td>\n",
       "      <td>7.0</td>\n",
       "    </tr>\n",
       "    <tr>\n",
       "      <th>4</th>\n",
       "      <td>2020-03-06</td>\n",
       "      <td>ConfirmedCovidCases</td>\n",
       "      <td>5.0</td>\n",
       "    </tr>\n",
       "    <tr>\n",
       "      <th>5</th>\n",
       "      <td>2020-03-07</td>\n",
       "      <td>ConfirmedCovidCases</td>\n",
       "      <td>1.0</td>\n",
       "    </tr>\n",
       "    <tr>\n",
       "      <th>6</th>\n",
       "      <td>2020-03-08</td>\n",
       "      <td>ConfirmedCovidCases</td>\n",
       "      <td>2.0</td>\n",
       "    </tr>\n",
       "    <tr>\n",
       "      <th>7</th>\n",
       "      <td>2020-03-09</td>\n",
       "      <td>ConfirmedCovidCases</td>\n",
       "      <td>3.0</td>\n",
       "    </tr>\n",
       "    <tr>\n",
       "      <th>8</th>\n",
       "      <td>2020-03-10</td>\n",
       "      <td>ConfirmedCovidCases</td>\n",
       "      <td>10.0</td>\n",
       "    </tr>\n",
       "    <tr>\n",
       "      <th>9</th>\n",
       "      <td>2020-03-11</td>\n",
       "      <td>ConfirmedCovidCases</td>\n",
       "      <td>9.0</td>\n",
       "    </tr>\n",
       "  </tbody>\n",
       "</table>\n",
       "</div>"
      ],
      "text/plain": [
       "         Date               Column  Cases\n",
       "0  2020-02-29  ConfirmedCovidCases    1.0\n",
       "1  2020-03-03  ConfirmedCovidCases    1.0\n",
       "2  2020-03-04  ConfirmedCovidCases    4.0\n",
       "3  2020-03-05  ConfirmedCovidCases    7.0\n",
       "4  2020-03-06  ConfirmedCovidCases    5.0\n",
       "5  2020-03-07  ConfirmedCovidCases    1.0\n",
       "6  2020-03-08  ConfirmedCovidCases    2.0\n",
       "7  2020-03-09  ConfirmedCovidCases    3.0\n",
       "8  2020-03-10  ConfirmedCovidCases   10.0\n",
       "9  2020-03-11  ConfirmedCovidCases    9.0"
      ]
     },
     "execution_count": 15,
     "metadata": {},
     "output_type": "execute_result"
    }
   ],
   "source": [
    "# Melting\n",
    "id_vars = [\"Date\"]\n",
    "\n",
    "df = pd.melt(frame=df,id_vars=id_vars, var_name=\"Column\", value_name=\"Cases\")\n",
    "\n",
    "df.head(10)\n"
   ]
  },
  {
   "cell_type": "markdown",
   "id": "3075f5ca",
   "metadata": {},
   "source": [
    "# Getting the final dataset"
   ]
  },
  {
   "cell_type": "code",
   "execution_count": 16,
   "id": "4b456cac",
   "metadata": {},
   "outputs": [
    {
     "data": {
      "text/html": [
       "<div>\n",
       "<style scoped>\n",
       "    .dataframe tbody tr th:only-of-type {\n",
       "        vertical-align: middle;\n",
       "    }\n",
       "\n",
       "    .dataframe tbody tr th {\n",
       "        vertical-align: top;\n",
       "    }\n",
       "\n",
       "    .dataframe thead th {\n",
       "        text-align: right;\n",
       "    }\n",
       "</style>\n",
       "<table border=\"1\" class=\"dataframe\">\n",
       "  <thead>\n",
       "    <tr style=\"text-align: right;\">\n",
       "      <th></th>\n",
       "      <th>Date</th>\n",
       "      <th>Column</th>\n",
       "      <th>Cases</th>\n",
       "    </tr>\n",
       "  </thead>\n",
       "  <tbody>\n",
       "    <tr>\n",
       "      <th>0</th>\n",
       "      <td>2020-02-29</td>\n",
       "      <td>ConfirmedCovidCases</td>\n",
       "      <td>1.0</td>\n",
       "    </tr>\n",
       "    <tr>\n",
       "      <th>1</th>\n",
       "      <td>2020-03-03</td>\n",
       "      <td>ConfirmedCovidCases</td>\n",
       "      <td>1.0</td>\n",
       "    </tr>\n",
       "    <tr>\n",
       "      <th>2</th>\n",
       "      <td>2020-03-04</td>\n",
       "      <td>ConfirmedCovidCases</td>\n",
       "      <td>4.0</td>\n",
       "    </tr>\n",
       "    <tr>\n",
       "      <th>3</th>\n",
       "      <td>2020-03-05</td>\n",
       "      <td>ConfirmedCovidCases</td>\n",
       "      <td>7.0</td>\n",
       "    </tr>\n",
       "    <tr>\n",
       "      <th>4</th>\n",
       "      <td>2020-03-06</td>\n",
       "      <td>ConfirmedCovidCases</td>\n",
       "      <td>5.0</td>\n",
       "    </tr>\n",
       "  </tbody>\n",
       "</table>\n",
       "</div>"
      ],
      "text/plain": [
       "         Date               Column  Cases\n",
       "0  2020-02-29  ConfirmedCovidCases    1.0\n",
       "1  2020-03-03  ConfirmedCovidCases    1.0\n",
       "2  2020-03-04  ConfirmedCovidCases    4.0\n",
       "3  2020-03-05  ConfirmedCovidCases    7.0\n",
       "4  2020-03-06  ConfirmedCovidCases    5.0"
      ]
     },
     "execution_count": 16,
     "metadata": {},
     "output_type": "execute_result"
    }
   ],
   "source": [
    "df.head()"
   ]
  },
  {
   "cell_type": "code",
   "execution_count": 17,
   "id": "81931eb2",
   "metadata": {},
   "outputs": [
    {
     "data": {
      "text/html": [
       "<div>\n",
       "<style scoped>\n",
       "    .dataframe tbody tr th:only-of-type {\n",
       "        vertical-align: middle;\n",
       "    }\n",
       "\n",
       "    .dataframe tbody tr th {\n",
       "        vertical-align: top;\n",
       "    }\n",
       "\n",
       "    .dataframe thead th {\n",
       "        text-align: right;\n",
       "    }\n",
       "</style>\n",
       "<table border=\"1\" class=\"dataframe\">\n",
       "  <thead>\n",
       "    <tr style=\"text-align: right;\">\n",
       "      <th></th>\n",
       "      <th>Date</th>\n",
       "      <th>Column</th>\n",
       "      <th>Cases</th>\n",
       "      <th>Age_Range</th>\n",
       "    </tr>\n",
       "  </thead>\n",
       "  <tbody>\n",
       "    <tr>\n",
       "      <th>20731</th>\n",
       "      <td>2021-12-05</td>\n",
       "      <td>Aged85up</td>\n",
       "      <td>9786.0</td>\n",
       "      <td>Aged85up</td>\n",
       "    </tr>\n",
       "    <tr>\n",
       "      <th>20732</th>\n",
       "      <td>2021-12-06</td>\n",
       "      <td>Aged85up</td>\n",
       "      <td>9797.0</td>\n",
       "      <td>Aged85up</td>\n",
       "    </tr>\n",
       "    <tr>\n",
       "      <th>20733</th>\n",
       "      <td>2021-12-07</td>\n",
       "      <td>Aged85up</td>\n",
       "      <td>9808.0</td>\n",
       "      <td>Aged85up</td>\n",
       "    </tr>\n",
       "    <tr>\n",
       "      <th>20734</th>\n",
       "      <td>2021-12-08</td>\n",
       "      <td>Aged85up</td>\n",
       "      <td>9826.0</td>\n",
       "      <td>Aged85up</td>\n",
       "    </tr>\n",
       "    <tr>\n",
       "      <th>20735</th>\n",
       "      <td>2021-12-09</td>\n",
       "      <td>Aged85up</td>\n",
       "      <td>9834.0</td>\n",
       "      <td>Aged85up</td>\n",
       "    </tr>\n",
       "  </tbody>\n",
       "</table>\n",
       "</div>"
      ],
      "text/plain": [
       "             Date    Column   Cases Age_Range\n",
       "20731  2021-12-05  Aged85up  9786.0  Aged85up\n",
       "20732  2021-12-06  Aged85up  9797.0  Aged85up\n",
       "20733  2021-12-07  Aged85up  9808.0  Aged85up\n",
       "20734  2021-12-08  Aged85up  9826.0  Aged85up\n",
       "20735  2021-12-09  Aged85up  9834.0  Aged85up"
      ]
     },
     "execution_count": 17,
     "metadata": {},
     "output_type": "execute_result"
    }
   ],
   "source": [
    "df['Age_Range'] = df['Column']\n",
    "df.tail()"
   ]
  },
  {
   "cell_type": "code",
   "execution_count": 18,
   "id": "762351e2",
   "metadata": {},
   "outputs": [],
   "source": [
    "df['Age_Range'] = df['Age_Range'].str.replace('to','-')"
   ]
  },
  {
   "cell_type": "code",
   "execution_count": 19,
   "id": "92b2f41c",
   "metadata": {},
   "outputs": [],
   "source": [
    "df['Age_Range']= df['Age_Range'].str.replace('up','+')"
   ]
  },
  {
   "cell_type": "code",
   "execution_count": 20,
   "id": "8f8e084f",
   "metadata": {},
   "outputs": [
    {
     "data": {
      "text/plain": [
       "0        ConfirmedCovidCases\n",
       "1        ConfirmedCovidCases\n",
       "2        ConfirmedCovidCases\n",
       "3        ConfirmedCovidCases\n",
       "4        ConfirmedCovidCases\n",
       "                ...         \n",
       "20731                Aged85+\n",
       "20732                Aged85+\n",
       "20733                Aged85+\n",
       "20734                Aged85+\n",
       "20735                Aged85+\n",
       "Name: Age_Range, Length: 20736, dtype: object"
      ]
     },
     "execution_count": 20,
     "metadata": {},
     "output_type": "execute_result"
    }
   ],
   "source": [
    "df['Age_Range']"
   ]
  },
  {
   "cell_type": "code",
   "execution_count": 21,
   "id": "1da322da",
   "metadata": {},
   "outputs": [],
   "source": [
    "import numpy as np\n",
    "df['Age_Range']= df['Age_Range'].replace(\"TotalConfirmedCovidCases\", np.nan)\n",
    "df['Age_Range']= df['Age_Range'].replace(\"ConfirmedCovidCases\",np.nan)\n",
    "df['Age_Range']= df['Age_Range'].replace(\"TotalCovidDeaths\", np.nan)\n",
    "df['Age_Range']= df['Age_Range'].replace(\"ConfirmedCovidDeaths\",np.nan)\n",
    "df['Age_Range']= df['Age_Range'].replace(\"HospitalisedCovidCases\", np.nan)\n",
    "df['Age_Range']= df['Age_Range'].replace(\"RequiringICUCovidCases\", np.nan)\n",
    "df['Age_Range']= df['Age_Range'].replace(\"HealthcareWorkersCovidCases\", np.nan)\n",
    "df['Age_Range']= df['Age_Range'].replace(\"ClustersNotified\", np.nan)\n",
    "df['Age_Range']= df['Age_Range'].str.replace(\"Aged\", '')\n",
    "\n",
    "df['Age_Range']= df['Age_Range'].str.replace(\"Hospitalised5\", '1-4')\n",
    "df['Age_Range']= df['Age_Range'].str.replace(\"Hospitalised\", '')\n",
    "df['Age_Range']= df['Age_Range'].replace(\"Median_Age\", np.nan)\n",
    "df['Age_Range']= df['Age_Range'].replace(\"Male\", np.nan)\n",
    "df['Age_Range']= df['Age_Range'].replace(\"Female\", np.nan)\n",
    "df['Age_Range']= df['Age_Range'].replace(\"Female\", np.nan)\n",
    "\n",
    "df['Age_Range']= df['Age_Range'].replace(\"Unknown\",np.nan)"
   ]
  },
  {
   "cell_type": "code",
   "execution_count": 22,
   "id": "293e885b",
   "metadata": {},
   "outputs": [
    {
     "data": {
      "text/plain": [
       "array([nan, '1-4', '1-4-14', '15-24', '25-34', '35-44', '45-54',\n",
       "       '1-45-64', '5-14', '55-64', '65-74', '75-84', '85+'], dtype=object)"
      ]
     },
     "execution_count": 22,
     "metadata": {},
     "output_type": "execute_result"
    }
   ],
   "source": [
    "df[\"Age_Range\"].unique()"
   ]
  },
  {
   "cell_type": "code",
   "execution_count": null,
   "id": "caa3e994",
   "metadata": {},
   "outputs": [],
   "source": [
    "df.head()"
   ]
  },
  {
   "cell_type": "code",
   "execution_count": null,
   "id": "38138413",
   "metadata": {},
   "outputs": [],
   "source": [
    "df = df [[\n",
    "    \"Date\",\n",
    "    \"Column\",\n",
    "    \"Age_Range\",\n",
    "    \"Cases\"\n",
    "]]"
   ]
  },
  {
   "cell_type": "code",
   "execution_count": null,
   "id": "18dcb518",
   "metadata": {},
   "outputs": [],
   "source": [
    "df.head()"
   ]
  },
  {
   "cell_type": "code",
   "execution_count": null,
   "id": "700df629",
   "metadata": {},
   "outputs": [],
   "source": [
    "# checking that 'HospitalisedAged5' with have 5\n",
    "df[df[\"Column\"] =='HospitalisedAged5'].head()"
   ]
  },
  {
   "cell_type": "code",
   "execution_count": null,
   "id": "9b0a22ec",
   "metadata": {},
   "outputs": [],
   "source": [
    "# checking that 'HospitalisedAged85up' with have 85\n",
    "df[df[\"Column\"] =='HospitalisedAged85up'].head()"
   ]
  },
  {
   "cell_type": "markdown",
   "id": "9eb61347",
   "metadata": {},
   "source": [
    "### Dropping rows with NaN in cases"
   ]
  },
  {
   "cell_type": "code",
   "execution_count": null,
   "id": "1d99015d",
   "metadata": {},
   "outputs": [],
   "source": [
    "df.head(20)"
   ]
  },
  {
   "cell_type": "code",
   "execution_count": null,
   "id": "5faf6e3a",
   "metadata": {},
   "outputs": [],
   "source": [
    "df = df[~df['Cases'].isna()]\n",
    "df[\"Cases\"] = df[\"Cases\"].astype(int)\n",
    "# reseting the dataframe index\n",
    "df = df.reset_index(drop = True)"
   ]
  },
  {
   "cell_type": "code",
   "execution_count": null,
   "id": "373b6716",
   "metadata": {},
   "outputs": [],
   "source": [
    "df.head()"
   ]
  },
  {
   "cell_type": "code",
   "execution_count": null,
   "id": "736bfbf3",
   "metadata": {},
   "outputs": [],
   "source": [
    "df.shape"
   ]
  },
  {
   "cell_type": "markdown",
   "id": "87aa0a74",
   "metadata": {},
   "source": [
    "### Dealing with ['Column'] column"
   ]
  },
  {
   "cell_type": "code",
   "execution_count": null,
   "id": "bd105e72",
   "metadata": {},
   "outputs": [],
   "source": [
    "# Testing the regular expression\n",
    "line = 'HospitalisedAged45to54'\n",
    "match = re.findall('([A-Z][a-z]+)', line)\n",
    "new_line = match[0] + \" \" + match[1] \n",
    "print(new_line)"
   ]
  },
  {
   "cell_type": "code",
   "execution_count": null,
   "id": "dcf67789",
   "metadata": {},
   "outputs": [],
   "source": [
    "column_list = []\n",
    "for i in  df[\"Column\"]:\n",
    "    match = re.findall('([A-Z][a-z]+)', i)\n",
    "    if len(match) == 4:\n",
    "        new_line = match[0] + ' ' + match[1] + ' ' + match[2] + ' ' + match[3]\n",
    "    elif len(match) == 3:\n",
    "        new_line = match[0] + ' ' + match[1] + ' ' + match[2]\n",
    "    elif len(match) == 2:\n",
    "        new_line = match[0] + ' ' + match[1] \n",
    "    else:\n",
    "        new_line = match[0]\n",
    "\n",
    "    column_list.append(new_line)\n",
    "\n",
    "# examining the list\n",
    "print(column_list)  "
   ]
  },
  {
   "cell_type": "code",
   "execution_count": null,
   "id": "7dd8a166",
   "metadata": {},
   "outputs": [],
   "source": [
    "column_list = pd.Series(column_list)\n",
    "column_list = column_list.reset_index()"
   ]
  },
  {
   "cell_type": "code",
   "execution_count": null,
   "id": "d4591b63",
   "metadata": {},
   "outputs": [],
   "source": [
    "df = pd.merge(df, column_list, left_index = True, right_index = True)"
   ]
  },
  {
   "cell_type": "code",
   "execution_count": null,
   "id": "a46888b8",
   "metadata": {},
   "outputs": [],
   "source": [
    "df = df.rename(columns={'Column': \"old_column\", 0 : \"Column\"})"
   ]
  },
  {
   "cell_type": "code",
   "execution_count": null,
   "id": "09a923fb",
   "metadata": {},
   "outputs": [],
   "source": [
    "df = df[[\n",
    "    \"Date\",\n",
    "    \"old_column\",\n",
    "    \"Column\",\n",
    "    \"Age_Range\",\n",
    "    \"Cases\"\n",
    "]]"
   ]
  },
  {
   "cell_type": "code",
   "execution_count": null,
   "id": "307fb066",
   "metadata": {},
   "outputs": [],
   "source": [
    "df.head()"
   ]
  },
  {
   "cell_type": "markdown",
   "id": "a4992546",
   "metadata": {},
   "source": [
    "### Daily Cases"
   ]
  },
  {
   "cell_type": "code",
   "execution_count": null,
   "id": "729afdb7",
   "metadata": {},
   "outputs": [],
   "source": [
    "hospitalised_df = df[df['Column'].str.contains(\"Hospitalised Aged\")]\n",
    "age_range_65up = hospitalised_df[hospitalised_df['Age_Range'] == '65-74']\n",
    "age_range_65up.tail(10)"
   ]
  },
  {
   "cell_type": "code",
   "execution_count": null,
   "id": "2a16edd1",
   "metadata": {},
   "outputs": [],
   "source": [
    "aged_df = df[df['Column'].str.startswith(\"Aged\")]\n",
    "aged_df.tail(50)"
   ]
  },
  {
   "cell_type": "code",
   "execution_count": null,
   "id": "d7d8b22b",
   "metadata": {},
   "outputs": [],
   "source": [
    "age_list = ['0-4' '5-14' '15-24' '25-34' '35-44' '45-54' '55-64', '1-4' '65-74', '75-84' '85+']\n",
    "\n",
    "# removing NaN from the dataset\n",
    "age_list = age_list[1:]\n",
    "print(age_list)"
   ]
  },
  {
   "cell_type": "markdown",
   "id": "6e824fc0",
   "metadata": {},
   "source": [
    "### Columns that are Not Accumulated\n",
    "'Confirmed Covid Cases', 'Total Confirmed Covid Cases','Confirmed Covid Deaths', 'Total Covid Deaths',"
   ]
  },
  {
   "cell_type": "code",
   "execution_count": null,
   "id": "60f2445d",
   "metadata": {},
   "outputs": [],
   "source": [
    "df['Column'].unique()"
   ]
  },
  {
   "cell_type": "code",
   "execution_count": null,
   "id": "26d057b7",
   "metadata": {},
   "outputs": [],
   "source": [
    "column_list = ['Confirmed Covid Cases', 'Total Confirmed Covid Cases',\n",
    "       'Confirmed Covid Deaths', 'Total Covid Deaths',\n",
    "       'Hospitalised Covid Cases', 'Requiring Covid Cases',\n",
    "       'Healthcare Workers Covid Cases', 'Clusters Notified',\n",
    "       'Hospitalised Aged', 'Male', 'Female', 'Unknown', 'Aged',\n",
    "       'Median Age']\n",
    "column_list"
   ]
  },
  {
   "cell_type": "code",
   "execution_count": null,
   "id": "368a2bf2",
   "metadata": {},
   "outputs": [],
   "source": [
    "# Columns that have accumulated cases and no daily cases count \n",
    "accumulated = ['Male','Hospitalised Covid Cases', 'Hospitalised Aged', \n",
    "               'Healthcare Workers Covid Cases', 'Aged', 'Unknown', 'Female',\n",
    "               'Median Age', 'Requiring Covid Cases', 'Clusters Notified']"
   ]
  },
  {
   "cell_type": "code",
   "execution_count": null,
   "id": "c6c4ec5d",
   "metadata": {},
   "outputs": [],
   "source": [
    "df1_list = []\n",
    "df1 = pd.DataFrame()\n",
    "for i in column_list:\n",
    "    if \"Hospitalised Aged\" == i: \n",
    "        for age in age_list:\n",
    "            df1 = hospitalised_df[hospitalised_df['Age_Range'].str.contains(age)]\n",
    "            df1 = pd.DataFrame(df1)\n",
    "            df1['Daily Cases'] = df1['Cases'].diff(1)\n",
    "            df1 = df1.dropna()\n",
    "            df1[\"Daily Cases\"] = df1[\"Daily Cases\"].astype(int)\n",
    "            df1_list.append(df1)\n",
    "        \n",
    "    elif \"Aged\" == i: \n",
    "        for age in age_list:\n",
    "            df1 = aged_df[aged_df['Age_Range'].str.contains(age)]\n",
    "            df1 = pd.DataFrame(df1)\n",
    "            df1['Daily Cases'] = df1['Cases'].diff(1)\n",
    "            df1 = df1.dropna()\n",
    "            df1[\"Daily Cases\"] = df1[\"Daily Cases\"].astype(int)\n",
    "            df1_list.append(df1)\n",
    "    \n",
    "    elif  i in accumulated:\n",
    "        df1 = df[df['Column'].str.contains(i)]\n",
    "        df1 = pd.DataFrame(df1)\n",
    "        df1['Daily Cases'] = df1['Cases'].diff(1)\n",
    "#         df1 = df1.dropna()\n",
    "#         df1[\"Daily Cases\"] = df1[\"Daily Cases\"].astype(int)\n",
    "        df1_list.append(df1)\n",
    "    else:\n",
    "        df1 = df[df['Column'].str.contains(i)]\n",
    "        df1 = pd.DataFrame(df1)\n",
    "        df1['Daily Cases'] = 'NaN'\n",
    "#         df1 = df1.dropna()\n",
    "#         df1[\"Daily Cases\"] = df1[\"Daily Cases\"].astype(int)\n",
    "        df1_list.append(df1) "
   ]
  },
  {
   "cell_type": "code",
   "execution_count": null,
   "id": "e3668204",
   "metadata": {},
   "outputs": [],
   "source": [
    "new_df =  pd.concat(df1_list)\n",
    "# sorting data by date\n",
    "new_df = new_df.sort_values(ascending = True, by = [\"Date\"])\n",
    "\n",
    "# reseting the dataframe index\n",
    "new_df = new_df.reset_index(drop=True)\n",
    "new_df.head(50)"
   ]
  },
  {
   "cell_type": "raw",
   "id": "52ca6489",
   "metadata": {},
   "source": [
    "df =  pd.concat(df_list)\n",
    "\n",
    "# sorting data by date\n",
    "df = df.sort_values(ascending = True, by = [\"Date\"])\n",
    "\n",
    "# reseting the dataframe index\n",
    "df = df.reset_index(drop=True)"
   ]
  },
  {
   "cell_type": "code",
   "execution_count": null,
   "id": "6340f078",
   "metadata": {},
   "outputs": [],
   "source": [
    "df.head(50)"
   ]
  },
  {
   "cell_type": "code",
   "execution_count": null,
   "id": "009db0db",
   "metadata": {},
   "outputs": [],
   "source": [
    "df.tail(50)"
   ]
  },
  {
   "cell_type": "raw",
   "id": "2229a1c5",
   "metadata": {},
   "source": [
    "# replacing all Nan with 0\n",
    "df['Daily Cases'] = df['Daily Cases'].fillna(0)\n",
    "df['Diff'] = df['Diff'].fillna(0)\n",
    "\n",
    "#changing the 0.0 to 0\n",
    "df['Daily Cases'] = df['Daily Cases'].astype(int)\n",
    "df['Diff'] = df['Diff'].astype(int)\n",
    "\n",
    "df.head()"
   ]
  },
  {
   "cell_type": "markdown",
   "id": "e1596540",
   "metadata": {},
   "source": [
    "### Saving to a new csv file"
   ]
  },
  {
   "cell_type": "code",
   "execution_count": null,
   "id": "5cd0ff04",
   "metadata": {},
   "outputs": [],
   "source": [
    "new_df.to_csv(r\"tidy_data_df.csv\", index =  False)"
   ]
  },
  {
   "cell_type": "code",
   "execution_count": null,
   "id": "33e8db64",
   "metadata": {},
   "outputs": [],
   "source": []
  }
 ],
 "metadata": {
  "kernelspec": {
   "display_name": "Python 3 (ipykernel)",
   "language": "python",
   "name": "python3"
  },
  "language_info": {
   "codemirror_mode": {
    "name": "ipython",
    "version": 3
   },
   "file_extension": ".py",
   "mimetype": "text/x-python",
   "name": "python",
   "nbconvert_exporter": "python",
   "pygments_lexer": "ipython3",
   "version": "3.9.7"
  }
 },
 "nbformat": 4,
 "nbformat_minor": 5
}
