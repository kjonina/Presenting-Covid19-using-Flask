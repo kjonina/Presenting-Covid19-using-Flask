{
 "cells": [
  {
   "cell_type": "markdown",
   "id": "8bbd74fc",
   "metadata": {},
   "source": [
    "# Assignment 3\n",
    "\n",
    "\n",
    "- Student Name: Karina Jonina\n",
    "- Student ID: c00278440\n",
    "\n",
    "- Module Name: Programming for Data Scientists\n",
    "- Module Code: PROGC5201\n",
    "- Module Leader: Paul Barry\n",
    "\n",
    "- Course Name: \t\tMaster of Science in Data Science\n",
    "- Course Code:\t\t CW_KCDAR_M Y5\n",
    "\n",
    "- Due Date: 10th January 2022 9:00am"
   ]
  },
  {
   "cell_type": "code",
   "execution_count": null,
   "id": "4960475b",
   "metadata": {},
   "outputs": [],
   "source": [
    "import pandas as pd\n",
    "import datetime\n",
    "from os import listdir\n",
    "from os.path import isfile, join\n",
    "import glob\n",
    "import re\n",
    "from datetime import datetime"
   ]
  },
  {
   "cell_type": "code",
   "execution_count": null,
   "id": "7f7ec641",
   "metadata": {},
   "outputs": [],
   "source": [
    "# reading in the tidy data csv\n",
    "df = pd.read_csv('tidy_data_df.csv', parse_dates = ['Date'])"
   ]
  },
  {
   "cell_type": "markdown",
   "id": "c5f704aa",
   "metadata": {},
   "source": [
    "### Checking tidy_data_df dataframe"
   ]
  },
  {
   "cell_type": "code",
   "execution_count": null,
   "id": "ddf8ca2e",
   "metadata": {},
   "outputs": [],
   "source": [
    "df.head()"
   ]
  },
  {
   "cell_type": "code",
   "execution_count": null,
   "id": "cdc039be",
   "metadata": {},
   "outputs": [],
   "source": [
    "df.info()"
   ]
  },
  {
   "cell_type": "code",
   "execution_count": null,
   "id": "ca0a3831",
   "metadata": {},
   "outputs": [],
   "source": [
    "df.shape"
   ]
  },
  {
   "cell_type": "markdown",
   "id": "bfbefc92",
   "metadata": {},
   "source": [
    "### Plotly Graph 1"
   ]
  },
  {
   "cell_type": "code",
   "execution_count": null,
   "id": "bcd54b8c",
   "metadata": {},
   "outputs": [],
   "source": []
  },
  {
   "cell_type": "code",
   "execution_count": null,
   "id": "e460c9f6",
   "metadata": {},
   "outputs": [],
   "source": []
  },
  {
   "cell_type": "markdown",
   "id": "ae0a4951",
   "metadata": {},
   "source": [
    "### Plotly Graph 2"
   ]
  },
  {
   "cell_type": "code",
   "execution_count": null,
   "id": "ca08e05d",
   "metadata": {},
   "outputs": [],
   "source": []
  },
  {
   "cell_type": "code",
   "execution_count": null,
   "id": "379d3128",
   "metadata": {},
   "outputs": [],
   "source": []
  },
  {
   "cell_type": "markdown",
   "id": "896b1aa2",
   "metadata": {},
   "source": [
    "### Plotly Graph 3"
   ]
  },
  {
   "cell_type": "code",
   "execution_count": null,
   "id": "40add852",
   "metadata": {},
   "outputs": [],
   "source": []
  },
  {
   "cell_type": "code",
   "execution_count": null,
   "id": "4a5b892b",
   "metadata": {},
   "outputs": [],
   "source": []
  },
  {
   "cell_type": "markdown",
   "id": "cc4991db",
   "metadata": {},
   "source": [
    "### Plotly Graph 4"
   ]
  },
  {
   "cell_type": "code",
   "execution_count": null,
   "id": "9d76cdf8",
   "metadata": {},
   "outputs": [],
   "source": []
  },
  {
   "cell_type": "code",
   "execution_count": null,
   "id": "a9aeaaa7",
   "metadata": {},
   "outputs": [],
   "source": []
  },
  {
   "cell_type": "markdown",
   "id": "7cece5d0",
   "metadata": {},
   "source": [
    "### Plotly Graph 5"
   ]
  },
  {
   "cell_type": "code",
   "execution_count": null,
   "id": "f42feca8",
   "metadata": {},
   "outputs": [],
   "source": []
  },
  {
   "cell_type": "code",
   "execution_count": null,
   "id": "a446f69c",
   "metadata": {},
   "outputs": [],
   "source": []
  }
 ],
 "metadata": {
  "kernelspec": {
   "display_name": "Python 3 (ipykernel)",
   "language": "python",
   "name": "python3"
  },
  "language_info": {
   "codemirror_mode": {
    "name": "ipython",
    "version": 3
   },
   "file_extension": ".py",
   "mimetype": "text/x-python",
   "name": "python",
   "nbconvert_exporter": "python",
   "pygments_lexer": "ipython3",
   "version": "3.9.7"
  }
 },
 "nbformat": 4,
 "nbformat_minor": 5
}
