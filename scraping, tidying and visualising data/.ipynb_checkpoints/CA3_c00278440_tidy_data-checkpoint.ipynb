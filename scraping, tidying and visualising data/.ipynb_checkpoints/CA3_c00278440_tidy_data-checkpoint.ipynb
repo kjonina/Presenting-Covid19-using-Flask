{
 "cells": [
  {
   "cell_type": "markdown",
   "id": "3e7e49cd",
   "metadata": {},
   "source": [
    "# Assignment 3\n",
    "## Jupiter Notebook 1: Tidying Data\n",
    "\n",
    "\n",
    "- Student Name: Karina Jonina\n",
    "- Student ID: c00278440\n",
    "\n",
    "- Module Name: Programming for Data Scientists\n",
    "- Module Code: PROGC5201\n",
    "- Module Leader: Paul Barry\n",
    "\n",
    "- Course Name: \t\tMaster of Science in Data Science\n",
    "- Course Code:\t\t CW_KCDAR_M Y5\n",
    "\n",
    "- Due Date: 10th January 2022 9:00am"
   ]
  },
  {
   "cell_type": "code",
   "execution_count": null,
   "id": "a9df109a",
   "metadata": {},
   "outputs": [],
   "source": [
    "import pandas as pd\n",
    "import datetime\n",
    "from os import listdir\n",
    "from os.path import isfile, join\n",
    "import glob\n",
    "import re\n",
    "from datetime import datetime\n",
    "import numpy as np"
   ]
  },
  {
   "cell_type": "code",
   "execution_count": null,
   "id": "b051bad8",
   "metadata": {},
   "outputs": [],
   "source": [
    "# gettting the CSV from the website\n",
    "url = 'https://opendata-geohive.hub.arcgis.com/datasets/d8eb52d56273413b84b0187a4e9117be_0.csv?outSR=%7B%22latestWkid%22%3A3857%2C%22wkid%22%3A102100%7D.'\n",
    "\n",
    "# read url csv\n",
    "df = pd.read_csv(url)"
   ]
  },
  {
   "cell_type": "code",
   "execution_count": null,
   "id": "29f89ea1",
   "metadata": {},
   "outputs": [],
   "source": [
    "# Ensuring the Date is just date, and not datetime\n",
    "df['Date'] = pd.to_datetime(df['Date']).dt.date\n",
    "df.head()"
   ]
  },
  {
   "cell_type": "code",
   "execution_count": null,
   "id": "f51f50f4",
   "metadata": {},
   "outputs": [],
   "source": [
    "# examining columns and rows\n",
    "df.shape"
   ]
  },
  {
   "cell_type": "code",
   "execution_count": null,
   "id": "410f616b",
   "metadata": {},
   "outputs": [],
   "source": [
    "# checking type for each column\n",
    "df.info()"
   ]
  },
  {
   "cell_type": "code",
   "execution_count": null,
   "id": "463eb1f3",
   "metadata": {},
   "outputs": [],
   "source": [
    "# examining the names of the columns\n",
    "df.columns"
   ]
  },
  {
   "cell_type": "markdown",
   "id": "57bcc897",
   "metadata": {},
   "source": [
    "## Examining location\n",
    "Below exploration showed that there are no unique locations in the dataset and therefore, redundant. "
   ]
  },
  {
   "cell_type": "code",
   "execution_count": null,
   "id": "adbb13e2",
   "metadata": {},
   "outputs": [],
   "source": [
    "df['X'].unique()"
   ]
  },
  {
   "cell_type": "code",
   "execution_count": null,
   "id": "e78a15f9",
   "metadata": {},
   "outputs": [],
   "source": [
    "df['Y'].unique()"
   ]
  },
  {
   "cell_type": "code",
   "execution_count": null,
   "id": "7d99f4f3",
   "metadata": {},
   "outputs": [],
   "source": [
    "df['CommunityTransmission'].unique()"
   ]
  },
  {
   "cell_type": "code",
   "execution_count": null,
   "id": "a9c341af",
   "metadata": {},
   "outputs": [],
   "source": [
    "df['CloseContact'].unique()"
   ]
  },
  {
   "cell_type": "code",
   "execution_count": null,
   "id": "ae237be4",
   "metadata": {},
   "outputs": [],
   "source": [
    "df['TravelAbroad'].unique()"
   ]
  },
  {
   "cell_type": "markdown",
   "id": "012e8db8",
   "metadata": {},
   "source": [
    "### Dropping Columns (X and Y)\n",
    "\n",
    "| Column | Reason |\n",
    "|---|---|\n",
    "| df['X'] | no unique values |\n",
    "| df['Y'] | no unique values |\n",
    "| df['StatisticsProfileDate'] | Very similar to df['Date']|\n",
    "| df['CovidCasesConfirmed'] | Very similar to df['Total Confirmed Covid Cases'] |\n",
    "| df['FID'] | very similar to Index in pandas |\n",
    "| df['CommunityTransmission'] | no unique values |\n",
    "| df['CloseContact'] | no unique values |\n",
    "| df['TravelAbroad'] | no unique values |\n"
   ]
  },
  {
   "cell_type": "code",
   "execution_count": null,
   "id": "b09ae6ae",
   "metadata": {},
   "outputs": [],
   "source": [
    "# Dropping irrelevant columns\n",
    "df = df.drop(columns = ['X','Y','CovidCasesConfirmed','StatisticsProfileDate', 'FID', \n",
    "                        'CommunityTransmission', 'CloseContact','TravelAbroad'])"
   ]
  },
  {
   "cell_type": "markdown",
   "id": "5d2d1624",
   "metadata": {},
   "source": [
    "## Examining date\n",
    "Below exploration showed that there are are unique dates in the dataset. "
   ]
  },
  {
   "cell_type": "code",
   "execution_count": null,
   "id": "ec606b64",
   "metadata": {},
   "outputs": [],
   "source": [
    "df['Date'].unique()"
   ]
  },
  {
   "cell_type": "markdown",
   "id": "203abc83",
   "metadata": {},
   "source": [
    "## Melting "
   ]
  },
  {
   "cell_type": "code",
   "execution_count": null,
   "id": "82b909a5",
   "metadata": {},
   "outputs": [],
   "source": [
    "# Melting\n",
    "df = pd.melt(frame=df,id_vars = [\"Date\"], var_name = \"Column\", value_name = \"Cases\")\n",
    "\n",
    "df.head(10)\n"
   ]
  },
  {
   "cell_type": "markdown",
   "id": "3075f5ca",
   "metadata": {},
   "source": [
    "### Extracting Age Range from values in 'Column'"
   ]
  },
  {
   "cell_type": "code",
   "execution_count": null,
   "id": "cbbb44bd",
   "metadata": {},
   "outputs": [],
   "source": [
    "# creating new column 'Age Range' that is a copy of 'Column'\n",
    "df['Age Range'] = df['Column']\n",
    "df.tail()"
   ]
  },
  {
   "cell_type": "code",
   "execution_count": null,
   "id": "583a49b9",
   "metadata": {},
   "outputs": [],
   "source": [
    "# replacing 'to' with '-'\n",
    "df['Age Range'] = df['Age Range'].str.replace('to','-')"
   ]
  },
  {
   "cell_type": "code",
   "execution_count": null,
   "id": "421c5133",
   "metadata": {},
   "outputs": [],
   "source": [
    "# replacing 'to' with '-'\n",
    "df['Age Range']= df['Age Range'].str.replace('up','+')"
   ]
  },
  {
   "cell_type": "code",
   "execution_count": null,
   "id": "69c5baaf",
   "metadata": {},
   "outputs": [],
   "source": [
    "# examining the new column\n",
    "# some changes visible\n",
    "df['Age Range']"
   ]
  },
  {
   "cell_type": "code",
   "execution_count": null,
   "id": "f31dcd23",
   "metadata": {},
   "outputs": [],
   "source": [
    "# replacing the rest, only aiming to have age range or NaN\n",
    "df['Age Range']= df['Age Range'].replace(\"TotalConfirmedCovidCases\", np.nan)\n",
    "df['Age Range']= df['Age Range'].replace(\"ConfirmedCovidCases\",np.nan)\n",
    "df['Age Range']= df['Age Range'].replace(\"TotalCovidDeaths\", np.nan)\n",
    "df['Age Range']= df['Age Range'].replace(\"ConfirmedCovidDeaths\",np.nan)\n",
    "df['Age Range']= df['Age Range'].replace(\"HospitalisedCovidCases\", np.nan)\n",
    "df['Age Range']= df['Age Range'].replace(\"RequiringICUCovidCases\", np.nan)\n",
    "df['Age Range']= df['Age Range'].replace(\"HealthcareWorkersCovidCases\", np.nan)\n",
    "df['Age Range']= df['Age Range'].replace(\"ClustersNotified\", np.nan)\n",
    "df['Age Range']= df['Age Range'].str.replace(\"Aged\", '')\n",
    "df['Age Range']= df['Age Range'].str.replace(\"Hospitalised5\", '1-4')\n",
    "df['Age Range']= df['Age Range'].str.replace(\"1-4-14\",'5-14')\n",
    "df['Age Range']= df['Age Range'].str.replace(\"1-45-64\",'55-64')\n",
    "df['Age Range']= df['Age Range'].str.replace(\"Hospitalised\", '')\n",
    "df['Age Range']= df['Age Range'].replace(\"Median_Age\", np.nan)\n",
    "df['Age Range']= df['Age Range'].replace(\"Male\", np.nan)\n",
    "df['Age Range']= df['Age Range'].replace(\"Female\", np.nan)\n",
    "df['Age Range']= df['Age Range'].replace(\"Female\", np.nan)\n",
    "df['Age Range']= df['Age Range'].replace(\"Unknown\",np.nan)"
   ]
  },
  {
   "cell_type": "code",
   "execution_count": null,
   "id": "b0190a8a",
   "metadata": {},
   "outputs": [],
   "source": [
    "df[\"Age Range\"].unique()"
   ]
  },
  {
   "cell_type": "code",
   "execution_count": null,
   "id": "293e885b",
   "metadata": {},
   "outputs": [],
   "source": [
    "df[\"Column\"].unique()"
   ]
  },
  {
   "cell_type": "code",
   "execution_count": null,
   "id": "700df629",
   "metadata": {},
   "outputs": [],
   "source": [
    "# checking that 'HospitalisedAged55to64' with have 55-64 in 'Age Range'\n",
    "df[df[\"Column\"] =='HospitalisedAged55to64'].head()"
   ]
  },
  {
   "cell_type": "code",
   "execution_count": null,
   "id": "9b0a22ec",
   "metadata": {},
   "outputs": [],
   "source": [
    "# checking that 'HospitalisedAged85up' with have 85+\n",
    "df[df[\"Column\"] =='HospitalisedAged85up'].head()"
   ]
  },
  {
   "cell_type": "code",
   "execution_count": null,
   "id": "5faf6e3a",
   "metadata": {},
   "outputs": [],
   "source": [
    "# reseting the dataframe index\n",
    "df = df.reset_index(drop = True)"
   ]
  },
  {
   "cell_type": "code",
   "execution_count": null,
   "id": "373b6716",
   "metadata": {},
   "outputs": [],
   "source": [
    "df.head()"
   ]
  },
  {
   "cell_type": "code",
   "execution_count": null,
   "id": "736bfbf3",
   "metadata": {},
   "outputs": [],
   "source": [
    "df.shape"
   ]
  },
  {
   "cell_type": "markdown",
   "id": "87aa0a74",
   "metadata": {},
   "source": [
    "### Dealing with ['Column'] column\n",
    "I disliked the fact that the values are spelled out together with no space"
   ]
  },
  {
   "cell_type": "code",
   "execution_count": null,
   "id": "bd105e72",
   "metadata": {},
   "outputs": [],
   "source": [
    "# Testing the regular expression\n",
    "line = 'HospitalisedAged45to54'\n",
    "match = re.findall('([A-Z][a-z]+)', line)\n",
    "new_line = match[0] + \" \" + match[1] \n",
    "print(new_line)"
   ]
  },
  {
   "cell_type": "code",
   "execution_count": null,
   "id": "dcf67789",
   "metadata": {},
   "outputs": [],
   "source": [
    "# using regular expression to put in a space\n",
    "column_list = []\n",
    "for i in  df[\"Column\"]:\n",
    "    match = re.findall('([A-Z][a-z]+)', i)\n",
    "    if len(match) == 4:\n",
    "        new_line = match[0] + ' ' + match[1] + ' ' + match[2] + ' ' + match[3]\n",
    "    elif len(match) == 3:\n",
    "        new_line = match[0] + ' ' + match[1] + ' ' + match[2]\n",
    "    elif len(match) == 2:\n",
    "        new_line = match[0] + ' ' + match[1] \n",
    "    else:\n",
    "        new_line = match[0]\n",
    "\n",
    "    column_list.append(new_line)\n",
    "\n",
    "# examining the list\n",
    "print(column_list)  "
   ]
  },
  {
   "cell_type": "code",
   "execution_count": null,
   "id": "7dd8a166",
   "metadata": {},
   "outputs": [],
   "source": [
    "# making the columnlist a pandas series\n",
    "column_list = pd.Series(column_list)\n",
    "\n",
    "# resetting the index on the pandas series\n",
    "column_list = column_list.reset_index()"
   ]
  },
  {
   "cell_type": "code",
   "execution_count": null,
   "id": "d4591b63",
   "metadata": {},
   "outputs": [],
   "source": [
    "# merging the new column to the dataset \n",
    "df = pd.merge(df, column_list, left_index = True, right_index = True)"
   ]
  },
  {
   "cell_type": "code",
   "execution_count": null,
   "id": "a46888b8",
   "metadata": {},
   "outputs": [],
   "source": [
    "# renaming the columns (personal preference)\n",
    "df = df.rename(columns={'Column': \"old_column\", 0 : \"Column\"})"
   ]
  },
  {
   "cell_type": "code",
   "execution_count": null,
   "id": "09a923fb",
   "metadata": {},
   "outputs": [],
   "source": [
    "# changing the order of columns (personal preference)\n",
    "df = df[[\n",
    "    \"Date\",\n",
    "    \"old_column\",\n",
    "    \"Column\",\n",
    "    \"Age Range\",\n",
    "    \"Cases\"\n",
    "]]"
   ]
  },
  {
   "cell_type": "code",
   "execution_count": null,
   "id": "307fb066",
   "metadata": {},
   "outputs": [],
   "source": [
    "df.head()"
   ]
  },
  {
   "cell_type": "markdown",
   "id": "a4992546",
   "metadata": {},
   "source": [
    "### Examining the dataset"
   ]
  },
  {
   "cell_type": "code",
   "execution_count": null,
   "id": "8804e828",
   "metadata": {},
   "outputs": [],
   "source": [
    "# selecting only where 'Column' contains \"Hospitalised Aged\"\n",
    "hospitalised_df = df[df['Column'].str.contains(\"Hospitalised Aged\")]"
   ]
  },
  {
   "cell_type": "code",
   "execution_count": null,
   "id": "729afdb7",
   "metadata": {},
   "outputs": [],
   "source": [
    "# selecting only where Age Range is 65-74\n",
    "age_range_65up = hospitalised_df[hospitalised_df['Age Range'] == '65-74']\n",
    "age_range_65up.tail(10)"
   ]
  },
  {
   "cell_type": "markdown",
   "id": "6e824fc0",
   "metadata": {},
   "source": [
    "### Daily Cases\n",
    "As pointed out by above table, hospitalised aged is based on accumulation, not daily cases.\n",
    "After futher more exploration,  majority of columns are accumulated numbers, rather than daily cases\n",
    "\n",
    "| Column | Explanation |\n",
    "|---|---|\n",
    "| Confirmed Covid Cases | Daily COVID-19 Cases |\n",
    "| Total Confirmed Covid Cases | Accumulated COVID-19 Cases |\n",
    "| Confirmed Covid Deaths | Daily COVID-19 Deaths |\n",
    "| Median Age | Daily Median Age |\n",
    "\n",
    "<br/>\n",
    "\n",
    "\n",
    "\n",
    "##### Columns that require Daily Cases to be calculated\n",
    "| Columns | Reason |\n",
    "|---|---|\n",
    "| Male | Accumulated COVID-19 Cases for Males |\n",
    "| Female | Accumulated COVID-19 Cases for Females |\n",
    "| Unknown | Accumulated COVID-19 Cases for Unknown |\n",
    "| Healthcare Workers Covid Cases | Accumulated COVID-19 Cases for Healthcare Workers |\n",
    "| Requiring ICU Covid Cases | Accumulated COVID-19 Cases that Requiring ICU Covid Cases |\n",
    "| Hospitalised Covid Cases | Accumulated COVID-19 Cases that were Hospitalised |\n",
    "| Clusters Notified | Accumulated Number of Clusters |\n",
    "| Aged | Accumulated COVID-19 Cases for *each Age Range* |\n",
    "| Hospitalised Aged | Accumulated COVID-19 Cases that were Hospitalised  for *each Age Range* |"
   ]
  },
  {
   "cell_type": "code",
   "execution_count": null,
   "id": "60f2445d",
   "metadata": {},
   "outputs": [],
   "source": [
    "df['Column'].unique()"
   ]
  },
  {
   "cell_type": "code",
   "execution_count": null,
   "id": "5a2cd5aa",
   "metadata": {},
   "outputs": [],
   "source": [
    "# changing a value for the correct value\n",
    "df['Column']= df['Column'].str.replace(\"Requiring Covid Cases\", 'Requiring ICU Covid Cases')"
   ]
  },
  {
   "cell_type": "code",
   "execution_count": null,
   "id": "26d057b7",
   "metadata": {},
   "outputs": [],
   "source": [
    "# creating a list with ALL values from Column \n",
    "column_list = ['Confirmed Covid Cases', 'Total Confirmed Covid Cases',\n",
    "       'Confirmed Covid Deaths', 'Total Covid Deaths',\n",
    "       'Hospitalised Covid Cases', 'Requiring ICU Covid Cases',\n",
    "       'Healthcare Workers Covid Cases', 'Clusters Notified',\n",
    "       'Hospitalised Aged', 'Male', 'Female', 'Unknown', 'Aged',\n",
    "       'Median Age']\n",
    "print(column_list)"
   ]
  },
  {
   "cell_type": "code",
   "execution_count": null,
   "id": "368a2bf2",
   "metadata": {},
   "outputs": [],
   "source": [
    "# Columns that have accumulated cases and no daily cases count \n",
    "accumulated = ['Male','Hospitalised Covid Cases', \n",
    "               'Healthcare Workers Covid Cases',  'Unknown', 'Female',\n",
    "               'Median Age', 'Requiring Covid Cases', 'Clusters Notified']\n",
    "print(accumulated)"
   ]
  },
  {
   "cell_type": "code",
   "execution_count": null,
   "id": "d7d8b22b",
   "metadata": {},
   "outputs": [],
   "source": [
    "# creating a list with all age ranges\n",
    "age_list = ['1-4', '5-14', '15-24', '25-34', '35-44', '45-54', '55-64', '65-74', '75-84', '85+']\n",
    "print(age_list)"
   ]
  },
  {
   "cell_type": "code",
   "execution_count": null,
   "id": "c6c4ec5d",
   "metadata": {},
   "outputs": [],
   "source": [
    "# creating a loop where:\n",
    "# IF Hospitalised Aged:\n",
    "    # for age in age_list:\n",
    "        # make a new dataframe for that age using correct dataset\n",
    "        # calculate 'Daily Cases' with .diff(1) function\n",
    "        # create the difference between daily cases (may be used later)\n",
    "        # place this dataframe into a list \n",
    "\n",
    "        \n",
    "# selecting only where 'Column' contains \"Hospitalised Aged\"\n",
    "hospitalised_df = df[df['Column'].str.contains(\"Hospitalised Aged\")]\n",
    "\n",
    "# selecting only where 'Column' starts \" Aged\"\n",
    "aged_df = df[df['Column'].str.startswith(\"Aged\")]\n",
    "\n",
    "# create a new list \n",
    "df_list = [] \n",
    "\n",
    "\n",
    "for i in column_list:\n",
    "    if \"Hospitalised Aged\" == i:  \n",
    "        for age in age_list: \n",
    "            \n",
    "            # make a new dataframe for that age\n",
    "            h_df = hospitalised_df[hospitalised_df['Age Range'].str.contains(age)] \n",
    "            \n",
    "            # calculate 'Daily Cases' with .diff(1) function\n",
    "            h_df['Daily Cases'] = h_df['Cases'].diff(1) \n",
    "            \n",
    "            # append  this dataframe into a list \n",
    "            df_list.append(h_df) \n",
    "        \n",
    "    elif \"Aged\" == i: \n",
    "        for age in age_list:\n",
    "            \n",
    "            # make a new dataframe for that age\n",
    "            a_df = aged_df[aged_df['Age Range'].str.contains(age)]\n",
    "            \n",
    "            # calculate 'Daily Cases' with .diff(1) function\n",
    "            a_df['Daily Cases'] = a_df['Cases'].diff(1)\n",
    "            \n",
    "            # append  this dataframe into a list \n",
    "            df_list.append(a_df)\n",
    "    \n",
    "    \n",
    "#this is for 'Male','Hospitalised Covid Cases', 'Healthcare Workers Covid Cases',  'Unknown', \n",
    "# 'Female', 'Median Age', 'Requiring Covid Cases', 'Clusters Notified'\n",
    "    elif  i in accumulated:\n",
    "        n_df = df[df['Column'].str.contains(i)]\n",
    "        \n",
    "        # calculate 'Daily Cases' with .diff(1) function\n",
    "        n_df['Daily Cases'] = n_df['Cases'].diff(1)\n",
    "        \n",
    "\n",
    "        # append  this dataframe into a list \n",
    "        df_list.append(n_df)\n",
    "    \n",
    "# this is for Confirmed Covid Cases', 'Total Confirmed Covid Cases', \n",
    "# 'Confirmed Covid Deaths', 'Total Covid Deaths',\n",
    "# These columns are like we need them, however, there could be issues when concating if 'Daily Cases' and \n",
    "# 'Diff' are not there so NaN will be used for them.\n",
    "    else:\n",
    "         \n",
    "        n_df = df[df['Column'].str.contains(i)]\n",
    "        \n",
    "        # calculate 'Daily Cases' with .diff(1) function\n",
    "        n_df['Daily Cases'] = np.nan\n",
    "        \n",
    "        \n",
    "        # append  this dataframe into a list \n",
    "        df_list.append(n_df) "
   ]
  },
  {
   "cell_type": "code",
   "execution_count": null,
   "id": "e3668204",
   "metadata": {},
   "outputs": [],
   "source": [
    "# currently the dataframes are in the list\n",
    "# by concating the list into dataframe\n",
    "df =  pd.concat(df_list)"
   ]
  },
  {
   "cell_type": "code",
   "execution_count": null,
   "id": "47b2db27",
   "metadata": {},
   "outputs": [],
   "source": [
    "# sorting data by date\n",
    "df = df.sort_values(ascending = True, by = [\"Date\"])\n",
    "\n",
    "# reseting the dataframe index\n",
    "df = df.reset_index(drop=True)"
   ]
  },
  {
   "cell_type": "code",
   "execution_count": null,
   "id": "6340f078",
   "metadata": {},
   "outputs": [],
   "source": [
    "df.head(50)"
   ]
  },
  {
   "cell_type": "code",
   "execution_count": null,
   "id": "009db0db",
   "metadata": {},
   "outputs": [],
   "source": [
    "df.tail(50)"
   ]
  },
  {
   "cell_type": "code",
   "execution_count": null,
   "id": "3613ef85",
   "metadata": {},
   "outputs": [],
   "source": [
    "# dropping old_column - only used for comparrisson to verify that it is correct\n",
    "df = df.drop(columns = ['old_column'])"
   ]
  },
  {
   "cell_type": "code",
   "execution_count": null,
   "id": "37b8091e",
   "metadata": {},
   "outputs": [],
   "source": [
    "# VERIFYING DAILY CASES HAS BEEN CORRECTLY IDENTIFIED\n",
    "\n",
    "# selecting only where 'Column' contains \"Hospitalised Aged\"\n",
    "hospitalised_df = df[df['Column'].str.contains(\"Hospitalised Aged\")]\n",
    "# selecting only where Age Range is 65-74\n",
    "age_range_65up = hospitalised_df[hospitalised_df['Age Range'] == '65-74']\n",
    "age_range_65up.tail(10)"
   ]
  },
  {
   "cell_type": "markdown",
   "id": "e1596540",
   "metadata": {},
   "source": [
    "### Saving to a new csv file"
   ]
  },
  {
   "cell_type": "code",
   "execution_count": null,
   "id": "5cd0ff04",
   "metadata": {},
   "outputs": [],
   "source": [
    "df.to_csv(r\"tidy_data_df.csv\", index =  False)"
   ]
  }
 ],
 "metadata": {
  "kernelspec": {
   "display_name": "Python 3 (ipykernel)",
   "language": "python",
   "name": "python3"
  },
  "language_info": {
   "codemirror_mode": {
    "name": "ipython",
    "version": 3
   },
   "file_extension": ".py",
   "mimetype": "text/x-python",
   "name": "python",
   "nbconvert_exporter": "python",
   "pygments_lexer": "ipython3",
   "version": "3.9.7"
  }
 },
 "nbformat": 4,
 "nbformat_minor": 5
}
