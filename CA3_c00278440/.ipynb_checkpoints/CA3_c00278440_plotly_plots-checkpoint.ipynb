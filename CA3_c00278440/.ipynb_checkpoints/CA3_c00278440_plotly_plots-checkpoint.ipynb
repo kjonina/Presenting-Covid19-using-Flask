{
 "cells": [
  {
   "cell_type": "markdown",
   "id": "8bbd74fc",
   "metadata": {},
   "source": [
    "# Assignment 3\n",
    "\n",
    "## Jupiter Notebook 2: Plotly Graphs\n",
    "\n",
    "\n",
    "- Student Name: Karina Jonina\n",
    "- Student ID: c00278440\n",
    "\n",
    "- Module Name: Programming for Data Scientists\n",
    "- Module Code: PROGC5201\n",
    "- Module Leader: Paul Barry\n",
    "\n",
    "- Course Name: \t\tMaster of Science in Data Science\n",
    "- Course Code:\t\t CW_KCDAR_M Y5\n",
    "\n",
    "- Due Date: 10th January 2022 9:00am"
   ]
  },
  {
   "cell_type": "code",
   "execution_count": null,
   "id": "4960475b",
   "metadata": {},
   "outputs": [],
   "source": [
    "import pandas as pd\n",
    "import datetime\n",
    "from datetime import datetime\n",
    "import plotly.express as px\n",
    "from plotly.subplots import make_subplots\n",
    "import plotly.graph_objects as go"
   ]
  },
  {
   "cell_type": "code",
   "execution_count": null,
   "id": "7f7ec641",
   "metadata": {},
   "outputs": [],
   "source": [
    "# reading in the tidy data csv\n",
    "df = pd.read_csv('tidy_data_df.csv', parse_dates = ['Date'])"
   ]
  },
  {
   "cell_type": "markdown",
   "id": "c5f704aa",
   "metadata": {},
   "source": [
    "### Checking tidy_data_df.csv"
   ]
  },
  {
   "cell_type": "code",
   "execution_count": null,
   "id": "ddf8ca2e",
   "metadata": {},
   "outputs": [],
   "source": [
    "df.head()"
   ]
  },
  {
   "cell_type": "code",
   "execution_count": null,
   "id": "ca0a3831",
   "metadata": {},
   "outputs": [],
   "source": [
    "df.shape"
   ]
  },
  {
   "cell_type": "code",
   "execution_count": null,
   "id": "cdc039be",
   "metadata": {},
   "outputs": [],
   "source": [
    "df.info()"
   ]
  },
  {
   "cell_type": "code",
   "execution_count": null,
   "id": "4bc03b2e",
   "metadata": {},
   "outputs": [],
   "source": [
    "df['Column'].unique()"
   ]
  },
  {
   "cell_type": "code",
   "execution_count": null,
   "id": "3707dd55",
   "metadata": {},
   "outputs": [],
   "source": [
    "# Assigning correct type to columns\n",
    "df['Column'] = df['Column'].astype('category')\n",
    "df['Age Range'] = df['Age Range'].astype('category')\n",
    "df['Age Range'].unique()"
   ]
  },
  {
   "cell_type": "code",
   "execution_count": null,
   "id": "5902bf08",
   "metadata": {},
   "outputs": [],
   "source": [
    "# reordering age range categories to be in the correct order \n",
    "df['Age Range'] = df['Age Range'].cat.reorder_categories(\n",
    "    ['1-4','5-14','15-24', '25-34', '35-44', '45-54', '55-64','65-74', '75-84','85+'], ordered=True)"
   ]
  },
  {
   "cell_type": "code",
   "execution_count": null,
   "id": "7259a92e",
   "metadata": {},
   "outputs": [],
   "source": [
    "# reading the date as string and then converting it back to date in the format desired\n",
    "df['Date'] = df['Date'].astype(str)\n",
    "\n",
    "df['Date'] = pd.to_datetime(df['Date'], errors='ignore', format='%Y-%B-%d')\n"
   ]
  },
  {
   "cell_type": "code",
   "execution_count": null,
   "id": "fd9173f6",
   "metadata": {},
   "outputs": [],
   "source": [
    "df.info()"
   ]
  },
  {
   "cell_type": "code",
   "execution_count": null,
   "id": "f6582d0a",
   "metadata": {},
   "outputs": [],
   "source": [
    "# replacing all Nan with 0\n",
    "df['Daily Cases'] = df['Daily Cases'].fillna(0)\n",
    "\n",
    "#changing the 0.0 to 0\n",
    "df['Daily Cases'] = df['Daily Cases'].astype(int)\n",
    "\n",
    "df.head()"
   ]
  },
  {
   "cell_type": "code",
   "execution_count": null,
   "id": "6fef5c40",
   "metadata": {},
   "outputs": [],
   "source": [
    "df.info()"
   ]
  },
  {
   "cell_type": "markdown",
   "id": "bf57cba8",
   "metadata": {},
   "source": [
    "### Creating New Dataset"
   ]
  },
  {
   "cell_type": "markdown",
   "id": "10815cd5",
   "metadata": {},
   "source": [
    "###### Dataset for Confirmed Covid Cases with Age Range"
   ]
  },
  {
   "cell_type": "code",
   "execution_count": null,
   "id": "69acd1c2",
   "metadata": {},
   "outputs": [],
   "source": [
    "# selecting all rows where 'Column' starts with 'Aged' \n",
    "aged_df = df[df['Column'].str.startswith(\"Aged\")].reset_index()\n",
    "\n",
    "# column 'Cases' actually represents 'Accumulated Cases'\n",
    "aged_df = aged_df.rename(columns={'Cases': 'Accumulated Cases'})\n",
    "\n",
    "# assinging 0 to all NaN in this dataset\n",
    "aged_df['Accumulated Cases'] = aged_df['Accumulated Cases'].fillna(0)"
   ]
  },
  {
   "cell_type": "code",
   "execution_count": null,
   "id": "6b30c9c3",
   "metadata": {},
   "outputs": [],
   "source": [
    "aged_df[aged_df['Age Range'] == '65-74']"
   ]
  },
  {
   "cell_type": "markdown",
   "id": "19864df9",
   "metadata": {},
   "source": [
    "###### Dataset for Hospitalised Covid Cases with Age Range"
   ]
  },
  {
   "cell_type": "code",
   "execution_count": null,
   "id": "bcd54b8c",
   "metadata": {},
   "outputs": [],
   "source": [
    "# selecting all rows where 'Column' contains with 'Hospitalised Aged'\n",
    "hospitalised_df = df[df['Column'].str.contains(\"Hospitalised Aged\")]\n",
    "\n",
    "# column 'Cases' actually represents 'Accumulated Cases'\n",
    "hospitalised_df = hospitalised_df.rename(columns={'Cases': 'Accumulated Cases'})\n",
    "\n",
    "# assinging 0 to all NaN in this dataset\n",
    "hospitalised_df['Accumulated Cases'] = hospitalised_df['Accumulated Cases'].fillna(0)\n",
    "\n",
    "hospitalised_df.tail(10)"
   ]
  },
  {
   "cell_type": "markdown",
   "id": "602c6063",
   "metadata": {},
   "source": [
    "###### Dataset for Confirmed Covid Cases Hospitalised Covid Cases with Age Range"
   ]
  },
  {
   "cell_type": "code",
   "execution_count": null,
   "id": "8f51a0e4",
   "metadata": {},
   "outputs": [],
   "source": [
    "# selecting all rows where 'Column' contains with 'Aged' so that all rows with 'Aged' and 'Hospitalised Aged'\n",
    "aged_and_hospitalised_df = df[df['Column'].str.contains(\"Aged\")]\n",
    "\n",
    "# column 'Cases' actually represents 'Accumulated Cases'\n",
    "aged_and_hospitalised_df = aged_and_hospitalised_df.rename(columns={'Cases': 'Accumulated Cases'})\n",
    "\n",
    "# assinging 0 to all NaN in this dataset\n",
    "aged_and_hospitalised_df['Accumulated Cases'] = aged_and_hospitalised_df['Accumulated Cases'].fillna(0)\n",
    "\n",
    "aged_and_hospitalised_df.tail()"
   ]
  },
  {
   "cell_type": "markdown",
   "id": "0a60de43",
   "metadata": {},
   "source": [
    "###### Dataset for Confirmed Covid Cases (NO AGE_RANGE)"
   ]
  },
  {
   "cell_type": "code",
   "execution_count": null,
   "id": "a6289b27",
   "metadata": {},
   "outputs": [],
   "source": [
    "# selecting all rows where 'Column' starts with 'Confirmed Covid Cases' \n",
    "confirmed_cc_df = df[df['Column'].str.startswith(\"Confirmed Covid Cases\")]\n",
    "\n",
    "# in this dataset, the 'age range' and 'daily cases' columns are empty\n",
    "confirmed_cc_df = confirmed_cc_df.drop(columns = ['Age Range', 'Daily Cases'])\n",
    "\n",
    "# renaming column 'Cases' to 'Daily Cases'\n",
    "confirmed_cc_df = confirmed_cc_df.rename(columns={'Cases': 'Daily Cases'})\n",
    "\n",
    "# assinging 0 to all NaN in this dataset\n",
    "confirmed_cc_df['Daily Cases'] = confirmed_cc_df['Daily Cases'].fillna(0)\n",
    "\n",
    "confirmed_cc_df.tail(10)"
   ]
  },
  {
   "cell_type": "markdown",
   "id": "cf61e099",
   "metadata": {},
   "source": [
    "###### Dataset for Hospitalised Covid Cases (NO AGE_RANGE)"
   ]
  },
  {
   "cell_type": "code",
   "execution_count": null,
   "id": "cb94529e",
   "metadata": {},
   "outputs": [],
   "source": [
    "# selecting all rows where 'Column' contains 'Hospitalised Covid Cases' \n",
    "hospital_cc_df = df[df['Column'].str.contains(\"Hospitalised Covid Cases\")]\n",
    "\n",
    "# in this dataset, the age range is empty\n",
    "hospital_cc_df = hospital_cc_df.drop(columns = ['Age Range'])\n",
    "\n",
    "# column 'Cases' actually represents 'Accumulated Cases'\n",
    "hospital_cc_df = hospital_cc_df.rename(columns={'Cases': 'Accumulated Cases'})\n",
    "\n",
    "# assinging 0 to all NaN in this dataset\n",
    "hospital_cc_df['Daily Cases'] = hospital_cc_df['Daily Cases'].fillna(0)\n",
    "\n",
    "hospital_cc_df.tail(10)"
   ]
  },
  {
   "cell_type": "markdown",
   "id": "d9d3c0b7",
   "metadata": {},
   "source": [
    "###### Dataset for Covid Cases Requiring ICU"
   ]
  },
  {
   "cell_type": "code",
   "execution_count": null,
   "id": "b7080bb1",
   "metadata": {},
   "outputs": [],
   "source": [
    "# selecting all rows where 'Column' contains 'Requiring' so that 'Requiring ICU Covid Cases' is selected\n",
    "icu_cc_df = df[df['Column'].str.contains(\"Requiring\")]\n",
    "\n",
    "# in this dataset, the age range is empty\n",
    "icu_cc_df = icu_cc_df.drop(columns = ['Age Range'])\n",
    "\n",
    "# column 'Cases' actually represents 'Accumulated Cases'\n",
    "icu_cc_df = icu_cc_df.rename(columns={'Cases': 'Accumulated Cases'})\n",
    "\n",
    "# assinging 0 to all NaN in this dataset\n",
    "icu_cc_df['Daily Cases'] = icu_cc_df['Daily Cases'].fillna(0)\n",
    "\n",
    "icu_cc_df.tail(10)"
   ]
  },
  {
   "cell_type": "markdown",
   "id": "a1185cb0",
   "metadata": {},
   "source": [
    "###### Dataset for Median Age"
   ]
  },
  {
   "cell_type": "code",
   "execution_count": null,
   "id": "f42feca8",
   "metadata": {},
   "outputs": [],
   "source": [
    "# selecting all rows where 'Column' contains 'Median Age' so that 'Median Age' is selected\n",
    "median_age_df = df[df['Column'].str.contains(\"Median Age\")]\n",
    "\n",
    "# in this dataset, the 'age range' and 'daily cases' are empty\n",
    "median_age_df = median_age_df.drop(columns = ['Age Range', 'Daily Cases'])\n",
    "\n",
    "# column 'Cases' actually represents 'Median Age'\n",
    "median_age_df = median_age_df.rename(columns={'Cases': 'Median Age'})\n",
    "\n",
    "# assinging 0 to all NaN in this dataset\n",
    "icu_cc_df['Daily Cases'] = icu_cc_df['Daily Cases'].fillna(0)\n",
    "\n",
    "median_age_df.tail()"
   ]
  },
  {
   "cell_type": "markdown",
   "id": "aa8289ed",
   "metadata": {},
   "source": [
    "### Plotly Graph 1"
   ]
  },
  {
   "cell_type": "code",
   "execution_count": null,
   "id": "80352110",
   "metadata": {},
   "outputs": [],
   "source": [
    "fig = go.Figure()\n",
    "\n",
    "age = go.Scatter(x = confirmed_cc_df['Date'],\n",
    "                             y = confirmed_cc_df['Daily Cases'],\n",
    "                             name = 'Daily Cases',\n",
    "                             mode = 'lines',\n",
    "                             customdata = confirmed_cc_df['Column'],\n",
    "                             hovertemplate = \"<b>%{customdata}</b><br><br>\" +\n",
    "                                            \"Date: %{x|%d %b %Y} <br>\" +\n",
    "                                            \"Covid-19 Cases: %{y:,.}<br>\"+\n",
    "                                             \"<extra></extra>\",\n",
    "                             line = dict(color = \"#636EFA\"))\n",
    "\n",
    "hospitalisation = go.Scatter(x = hospital_cc_df['Date'],\n",
    "                             y = hospital_cc_df['Daily Cases'],\n",
    "                             name = 'Daily Hospitalisation with Covid',\n",
    "                             mode = 'lines',\n",
    "                             customdata = hospital_cc_df['Column'],\n",
    "                             hovertemplate = \"<b>%{customdata}</b><br><br>\" +\n",
    "                                            \"Date: %{x|%d %b %Y} <br>\" +\n",
    "                                            \"Daily Hospitalisation with Covid: %{y:,.}<br>\"+\n",
    "                                             \"<extra></extra>\",\n",
    "                             line = dict(color = \"#EF553B\"))\n",
    "\n",
    "icu = go.Scatter(x = icu_cc_df['Date'],\n",
    "                             y = icu_cc_df['Daily Cases'],\n",
    "                             name = 'Daily ICU Numbers',\n",
    "                             mode = 'lines',\n",
    "                             customdata = icu_cc_df['Column'],\n",
    "                             hovertemplate = \"<b>%{customdata}</b><br><br>\" +\n",
    "                                            \"Date: %{x|%d %b %Y} <br>\" +\n",
    "                                            \"Daily Hospitalisation with Covid: %{y:,.}<br>\"+\n",
    "                                             \"<extra></extra>\",\n",
    "                             line = dict(color = \"#316395\"))\n",
    "\n",
    "data = [age, hospitalisation, icu]\n",
    "\n",
    "layout = dict(\n",
    "        title = 'Daily COVID-19 Cases in Ireland', title_font_size=30,\n",
    "        yaxis_title = 'Daily COVID-19 Cases',yaxis_title_font_size=20,\n",
    "    autosize = False, width = 800, height = 600,\n",
    "    xaxis=dict(\n",
    "        rangeselector=dict(\n",
    "            buttons=list([\n",
    "                            dict(count = 7, step = \"day\", stepmode = \"backward\", label = \"1W\"),\n",
    "                            dict(count = 1, step = \"month\", stepmode = \"backward\", label = \"1M\"),\n",
    "                            dict(count = 3, step = \"month\", stepmode = \"backward\", label = \"3M\"),\n",
    "                            dict(count = 6, step = \"month\", stepmode = \"backward\", label = \"6M\"),\n",
    "                            dict(count = 1, step = \"year\", stepmode = \"backward\", label = \"1Y\"),\n",
    "                            dict(count = 1, step = \"year\", stepmode = \"todate\", label = \"YTD\"),\n",
    "                            dict(count = 1, step = \"all\", stepmode = \"backward\", label = \"MAX\")])\n",
    "        ),\n",
    "        rangeslider=dict(\n",
    "            visible = True\n",
    "        ),\n",
    "        type='date'\n",
    "    )\n",
    ")\n",
    "\n",
    "fig = go.FigureWidget(data=data, layout=layout)\n",
    "# fig.update_layout(showlegend=False)\n",
    "fig.update_layout(legend=dict(\n",
    "    orientation=\"h\",\n",
    "    yanchor=\"bottom\",\n",
    "    y=-0.5,\n",
    "    xanchor=\"right\",\n",
    "    x=1\n",
    "))\n",
    "\n",
    "\n",
    "\n",
    "\n",
    "\n",
    "fig.show()"
   ]
  },
  {
   "cell_type": "markdown",
   "id": "4c13a90e",
   "metadata": {},
   "source": [
    "### Plotly Graph 2"
   ]
  },
  {
   "cell_type": "code",
   "execution_count": null,
   "id": "6301ea81",
   "metadata": {},
   "outputs": [],
   "source": [
    "# in this dataset, the age range is empty\n",
    "hospitalised_df = hospitalised_df.drop(columns = ['Column', 'Accumulated Cases'])\n",
    "hospitalised_df.head()"
   ]
  },
  {
   "cell_type": "code",
   "execution_count": null,
   "id": "2a69e532",
   "metadata": {},
   "outputs": [],
   "source": [
    "# in this dataset, the age range is empty\n",
    "aged_df = aged_df.drop(columns = ['Column', 'Accumulated Cases'])\n",
    "aged_df.head()"
   ]
  },
  {
   "cell_type": "code",
   "execution_count": null,
   "id": "660a2ae3",
   "metadata": {},
   "outputs": [],
   "source": [
    "hospitalised_table = pd.pivot_table(hospitalised_df, index=['Date'],  values = 'Daily Cases',\n",
    "                    columns=['Age Range'])\n",
    "\n",
    "hospitalised_table.head()"
   ]
  },
  {
   "cell_type": "code",
   "execution_count": null,
   "id": "084bb475",
   "metadata": {},
   "outputs": [],
   "source": [
    "aged_table = pd.pivot_table(aged_df, index=['Date'], values = 'Daily Cases',\n",
    "                    columns=['Age Range'])\n",
    "\n",
    "aged_table.head()"
   ]
  },
  {
   "cell_type": "code",
   "execution_count": null,
   "id": "cac270e1",
   "metadata": {},
   "outputs": [],
   "source": [
    "columns = list(aged_table.columns)\n",
    "columns"
   ]
  },
  {
   "cell_type": "code",
   "execution_count": null,
   "id": "52ccd19a",
   "metadata": {},
   "outputs": [],
   "source": [
    "\n",
    "fig = go.Figure()\n",
    "\n",
    "# set up ONE trace\n",
    "fig.add_trace(go.Scatter(x=aged_table.index,\n",
    "                         y=aged_table[aged_table.columns[0]],\n",
    "                         visible=True, line = dict(color = \"#636EFA\"),\n",
    "                        mode ='lines', \n",
    "                        hovertemplate=\"<b>Confirmed COVID-19 Cases</b><br><br>\" +\n",
    "                                            \"Date: %{x|%d %b %Y} <br>\" +\n",
    "                                            \"Daily Covid-19 Cases: %{y:,.}<br>\"+\n",
    "                                            \"<extra></extra>\"))\n",
    "\n",
    "updatemenu = []\n",
    "buttons = []\n",
    "\n",
    "# button with one option for each dataframe\n",
    "for col in aged_table.columns:\n",
    "    buttons.append(dict(method='restyle',\n",
    "                        label=col,\n",
    "                        visible=True,\n",
    "                        args=[{'y':[aged_table[col]],\n",
    "                               'x':[aged_table.index],\n",
    "                               'type':'scatter'}, [0]],\n",
    "                        )\n",
    "                  )\n",
    "\n",
    "# some adjustments to the updatemenus\n",
    "updatemenu = []\n",
    "your_menu = dict()\n",
    "updatemenu.append(your_menu)\n",
    "\n",
    "updatemenu[0]['buttons'] = buttons\n",
    "updatemenu[0]['direction'] = 'down'\n",
    "updatemenu[0]['showactive'] = True\n",
    "\n",
    "\n",
    "\n",
    "# add dropdown menus to the figure\n",
    "fig.update_layout(showlegend=False, updatemenus=updatemenu,         \n",
    "        title = 'Daily COVID-19 Cases in Ireland', title_font_size=24,\n",
    "        yaxis_title = 'Daily COVID-19 Cases',yaxis_title_font_size=16,)\n",
    "fig.show()"
   ]
  },
  {
   "cell_type": "code",
   "execution_count": null,
   "id": "6db506b7",
   "metadata": {},
   "outputs": [],
   "source": [
    "fig = go.Figure()\n",
    "\n",
    "# set up ONE trace\n",
    "fig.add_trace(go.Scatter(x=hospitalised_table.index,\n",
    "                         y=hospitalised_table[hospitalised_table.columns[0]],\n",
    "                         visible=True, line = dict(color = \"#EF553B\"),\n",
    "                        mode ='lines', \n",
    "                        hovertemplate=\"<b>Hospitalised COVID-19 Cases</b><br><br>\" +\n",
    "                                            \"Date: %{x|%d %b %Y} <br>\" +\n",
    "                                            \"Daily Covid-19 Cases: %{y:,.}<br>\"+\n",
    "                                            \"<extra></extra>\"))\n",
    "\n",
    "updatemenu = []\n",
    "buttons = []\n",
    "\n",
    "# button with one option for each dataframe\n",
    "for col in hospitalised_table.columns:\n",
    "    buttons.append(dict(method='restyle',\n",
    "                        label=col,\n",
    "                        visible=True,\n",
    "                        args=[{'y':[hospitalised_table[col]],\n",
    "                               'x':[hospitalised_table.index],\n",
    "                               'type':'scatter'}, [0]],\n",
    "                        )\n",
    "                  )\n",
    "\n",
    "# some adjustments to the updatemenus\n",
    "updatemenu = []\n",
    "your_menu = dict()\n",
    "updatemenu.append(your_menu)\n",
    "\n",
    "updatemenu[0]['buttons'] = buttons\n",
    "updatemenu[0]['direction'] = 'down'\n",
    "updatemenu[0]['showactive'] = True\n",
    "\n",
    "\n",
    "\n",
    "# add dropdown menus to the figure\n",
    "fig.update_layout(showlegend=False, updatemenus=updatemenu,         \n",
    "        title = 'Hospitalised COVID-19 Cases in Ireland', title_font_size=24,\n",
    "        yaxis_title = 'Hospitalised COVID-19 Cases',yaxis_title_font_size=16)\n",
    "fig.show()"
   ]
  },
  {
   "cell_type": "markdown",
   "id": "896b1aa2",
   "metadata": {},
   "source": [
    "### Plotly Graph 3"
   ]
  },
  {
   "cell_type": "code",
   "execution_count": null,
   "id": "3960ce87",
   "metadata": {},
   "outputs": [],
   "source": [
    "# finding the max value in 'daily cases' column\n",
    "max_hospitalised_df = hospitalised_df['Daily Cases'].max() + 10\n",
    "max_hospitalised_df"
   ]
  },
  {
   "cell_type": "code",
   "execution_count": null,
   "id": "266370ec",
   "metadata": {},
   "outputs": [],
   "source": [
    "fig = px.bar(hospitalised_df, \n",
    "             x=\"Age Range\", \n",
    "             y=\"Daily Cases\", \n",
    "             color_discrete_sequence=[\"#EF553B\"],\n",
    "             animation_frame=\"Date\", \n",
    "             animation_group=\"Age Range\", \n",
    "             range_y=[0,max_hospitalised_df],\n",
    "            labels = {\"x\": \"Date\", \"y\": \"Hospitalised Cases\"},\n",
    "            title = \"Hospitalised COVID-19 Cases by Age Range\",\n",
    "            category_orders={\"Age Range\": ['1-4','5-14','15-24', '25-34', '35-44', \n",
    "                                           '45-54', '55-64','65-74', '75-84','85+']})\n",
    "fig.show()"
   ]
  },
  {
   "cell_type": "code",
   "execution_count": null,
   "id": "3e1e3290",
   "metadata": {},
   "outputs": [],
   "source": [
    "# finding the max value in 'daily cases' column\n",
    "max_aged_df = aged_df['Daily Cases'].max() +100\n",
    "max_aged_df"
   ]
  },
  {
   "cell_type": "code",
   "execution_count": null,
   "id": "f6654a3a",
   "metadata": {},
   "outputs": [],
   "source": [
    "fig = px.bar(aged_df, \n",
    "             x=\"Age Range\", \n",
    "             y=\"Daily Cases\", \n",
    "             color_discrete_sequence=[\"#636EFA\"],\n",
    "             animation_frame=\"Date\", \n",
    "             animation_group=\"Age Range\", \n",
    "             range_y=[0,max_aged_df],\n",
    "            labels = {\"x\": \"Date\", \"y\": \"Daily Cases\"},\n",
    "            title = \"COVID-19 Cases by Age Range\",\n",
    "#              barmode='group',\n",
    "            category_orders={\"Age Range\": ['1-4','5-14','15-24', '25-34', '35-44', \n",
    "                                           '45-54', '55-64','65-74', '75-84','85+']})\n",
    "fig.show()"
   ]
  },
  {
   "cell_type": "markdown",
   "id": "7cece5d0",
   "metadata": {},
   "source": [
    "### Plotly Graph 4"
   ]
  },
  {
   "cell_type": "code",
   "execution_count": null,
   "id": "a446f69c",
   "metadata": {},
   "outputs": [],
   "source": [
    "fig = make_subplots(specs=[[{\"secondary_y\": True}]])\n",
    "\n",
    "\n",
    "fig.add_trace(go.Bar(x = confirmed_cc_df['Date'],\n",
    "                y = confirmed_cc_df['Daily Cases'],\n",
    "                hovertemplate=\"<b>Confirmed Covid Cases</b><br><br>\" +\n",
    "                                    \"Date: %{x|%d %b %Y} <br>\" +\n",
    "                                    \"Daily Covid Cases: %{y:,.}<br>\"+\n",
    "                                    \"<extra></extra>\"), secondary_y = False)\n",
    "\n",
    "fig.add_trace(go.Scatter(x = median_age_df['Date'],\n",
    "                             y = median_age_df['Median Age'],\n",
    "                            hovertemplate=\"<b>Median Age</b><br><br>\" +\n",
    "                                    \"Date: %{x|%d %b %Y} <br>\" +\n",
    "                                    \"Median Age: %{y:,.}<br>\"+\n",
    "                                    \"<extra></extra>\",\n",
    "                             line = dict(color=\"#DDCC96\")), secondary_y = True)\n",
    "\n",
    "\n",
    "fig.update_xaxes(\n",
    "    rangeslider_visible = True,\n",
    "    rangeselector = dict(\n",
    "        buttons = list([\n",
    "                        dict(count = 7, step = \"day\", stepmode = \"backward\", label = \"1W\"),\n",
    "                        dict(count = 1, step = \"month\", stepmode = \"backward\", label = \"1M\"),\n",
    "                        dict(count = 3, step = \"month\", stepmode = \"backward\", label = \"3M\"),\n",
    "                        dict(count = 6, step = \"month\", stepmode = \"backward\", label = \"6M\"),\n",
    "                        dict(count = 1, step = \"year\", stepmode = \"backward\", label = \"1Y\"),\n",
    "                        dict(count = 1, step = \"year\", stepmode = \"todate\", label = \"YTD\"),\n",
    "                        dict(count = 1, step = \"all\", stepmode = \"backward\", label = \"MAX\")])))\n",
    "fig.update_layout(xaxis_rangeslider_visible = False)\n",
    "\n",
    "# Set y-axes titles\n",
    "fig.update_yaxes(title_text=\"Covid-19 Cases\", secondary_y=False)\n",
    "fig.update_yaxes(title_text=\"Median Age\", secondary_y=True)\n",
    "\n",
    "fig.update_layout(showlegend=False)\n",
    "\n",
    "# Add title\n",
    "fig.update_layout(\n",
    "        title = 'Confirmed Covid Cases and Median Age',\n",
    "        title_font_size = 20)\n",
    "fig['layout']['yaxis2']['showgrid'] = False\n",
    "\n",
    "fig.show()\n"
   ]
  },
  {
   "cell_type": "markdown",
   "id": "cc4991db",
   "metadata": {},
   "source": [
    "### Plotly Graph 5"
   ]
  },
  {
   "cell_type": "code",
   "execution_count": null,
   "id": "cc50a75c",
   "metadata": {},
   "outputs": [],
   "source": [
    "# grouping by age range to find out the sum for each age range\n",
    "total_hospitalised_table = hospitalised_df.groupby(['Age Range'])['Daily Cases'].sum().reset_index()\n",
    "total_hospitalised_table"
   ]
  },
  {
   "cell_type": "code",
   "execution_count": null,
   "id": "bcecf55c",
   "metadata": {},
   "outputs": [],
   "source": [
    "# grouping by age range to find out the sum for each age range\n",
    "total_aged_table = aged_df.groupby(['Age Range'])['Daily Cases'].sum().reset_index()\n",
    "total_aged_table"
   ]
  },
  {
   "cell_type": "code",
   "execution_count": null,
   "id": "7639da99",
   "metadata": {},
   "outputs": [],
   "source": [
    "fig = make_subplots(rows = 1, cols = 2, specs=[[{'type':'domain'}, {'type':'domain'}]])\n",
    "fig.add_trace(go.Pie(labels=total_aged_table['Age Range'],\n",
    "                             values=total_aged_table['Daily Cases'], name=\"Total COVID-19 Cases\",\n",
    "                              hovertemplate=\"<b>Age Range: %{label}</b><br><br>\" +\n",
    "                                    \"Total % of COVID-19: %{percent} <br>\"+\n",
    "                                    \"Total # of COVID-19: %{value} <br>\"),1, 1)\n",
    "fig.add_trace(go.Pie(labels = total_hospitalised_table['Age Range'],\n",
    "                             values = total_hospitalised_table['Daily Cases'], name = \"Total Hospitalised COVID-19 Cases\",\n",
    "                             hovertemplate=\"<b>Age Range: %{label}</b><br><br>\" +\n",
    "                                    \"Total % of Hospitalised COVID-19 Cases: %{percent} <br>\" +\n",
    "                                    \"Total # of Hospitalised COVID-19 Cases: %{value} <br>\"), 1, 2)\n",
    "\n",
    "# Use `hole` to create a donut-like pie chart\n",
    "fig.update_traces(hole=.4)\n",
    "\n",
    "fig.update_layout(\n",
    "    title_text=\"Total COVID-19 Cases by Age Range\",\n",
    "    title_font_size = 15,\n",
    "    # Add annotations in the center of the donut pies.\n",
    "    annotations=[dict(text='Total <br> Confirmed <br> COVID-19 <br> Cases', x=0.175, y=0.525, font_size=15, showarrow=False),\n",
    "                 dict(text='Total <br> Hospitalised <br> COVID-19 <br> Cases', x=0.835, y=0.525, font_size=15, showarrow=False)],\n",
    "    legend_title_text='Age Range')\n",
    "\n",
    "fig.show()"
   ]
  },
  {
   "cell_type": "code",
   "execution_count": null,
   "id": "9b907d80",
   "metadata": {},
   "outputs": [],
   "source": []
  }
 ],
 "metadata": {
  "kernelspec": {
   "display_name": "Python 3 (ipykernel)",
   "language": "python",
   "name": "python3"
  },
  "language_info": {
   "codemirror_mode": {
    "name": "ipython",
    "version": 3
   },
   "file_extension": ".py",
   "mimetype": "text/x-python",
   "name": "python",
   "nbconvert_exporter": "python",
   "pygments_lexer": "ipython3",
   "version": "3.9.7"
  }
 },
 "nbformat": 4,
 "nbformat_minor": 5
}
